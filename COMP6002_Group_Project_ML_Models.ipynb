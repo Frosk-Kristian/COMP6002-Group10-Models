{
  "nbformat": 4,
  "nbformat_minor": 0,
  "metadata": {
    "colab": {
      "provenance": [],
      "collapsed_sections": [
        "MGMnmhjzT-73",
        "eEz2Qzc_kzkt"
      ],
      "authorship_tag": "ABX9TyMBAms0kLESUU1o85O21t/W",
      "include_colab_link": true
    },
    "kernelspec": {
      "name": "python3",
      "display_name": "Python 3"
    },
    "language_info": {
      "name": "python"
    }
  },
  "cells": [
    {
      "cell_type": "markdown",
      "metadata": {
        "id": "view-in-github",
        "colab_type": "text"
      },
      "source": [
        "<a href=\"https://colab.research.google.com/github/Frosk-Kristian/COMP6002-Group10-Models/blob/develop/COMP6002_Group_Project_ML_Models.ipynb\" target=\"_parent\"><img src=\"https://colab.research.google.com/assets/colab-badge.svg\" alt=\"Open In Colab\"/></a>"
      ]
    },
    {
      "cell_type": "markdown",
      "source": [
        "# COMP6002 Computer Science Project - Group 10\n",
        "Utilising Machine Learning to detect DDoS attacks.\n",
        "\n",
        "## Reference\n",
        "Iman Sharafaldin, Arash Habibi Lashkari, Saqib Hakak, and Ali A. Ghorbani, \"Developing Realistic Distributed Denial of Service (DDoS) Attack Dataset and Taxonomy\", IEEE 53rd International Carnahan Conference on Security Technology, Chennai, India, 2019."
      ],
      "metadata": {
        "id": "vkidwNbBPly0"
      }
    },
    {
      "cell_type": "markdown",
      "source": [
        "# Setup\n",
        "Run all of these first. Sets up libraries and directories used throughout notebook."
      ],
      "metadata": {
        "id": "zN1_GsQjkwEd"
      }
    },
    {
      "cell_type": "code",
      "execution_count": 1,
      "metadata": {
        "id": "wgQiJbJiPMYb",
        "colab": {
          "base_uri": "https://localhost:8080/"
        },
        "outputId": "1a62a157-68b8-4c1b-b146-577738fe95fd"
      },
      "outputs": [
        {
          "output_type": "stream",
          "name": "stdout",
          "text": [
            "Using Pandas version: 2.0.3\n"
          ]
        }
      ],
      "source": [
        "import pandas as pd\n",
        "print(f\"Using Pandas version: {pd.__version__}\")"
      ]
    },
    {
      "cell_type": "code",
      "source": [
        "import numpy as np\n",
        "print(f\"Using Numpy version: {np.__version__}\")"
      ],
      "metadata": {
        "colab": {
          "base_uri": "https://localhost:8080/"
        },
        "id": "ZL7Gvu83G5FF",
        "outputId": "577bf7dc-4692-4893-b00f-24e62b16e38a"
      },
      "execution_count": 2,
      "outputs": [
        {
          "output_type": "stream",
          "name": "stdout",
          "text": [
            "Using Numpy version: 1.25.2\n"
          ]
        }
      ]
    },
    {
      "cell_type": "code",
      "source": [
        "from sklearn import __version__ as skl_ver\n",
        "print(f\"Using Sklearn version: {skl_ver}\")"
      ],
      "metadata": {
        "colab": {
          "base_uri": "https://localhost:8080/"
        },
        "id": "Zg4eRaq0fNry",
        "outputId": "338b927d-ceea-405d-c489-7e9e424d8282"
      },
      "execution_count": 3,
      "outputs": [
        {
          "output_type": "stream",
          "name": "stdout",
          "text": [
            "Using Sklearn version: 1.2.2\n"
          ]
        }
      ]
    },
    {
      "cell_type": "code",
      "source": [
        "!pip install imblearn\n",
        "\n",
        "from imblearn import __version__ as imb_ver\n",
        "print(f\"Using Imbalanced learn version: {imb_ver}\")"
      ],
      "metadata": {
        "colab": {
          "base_uri": "https://localhost:8080/"
        },
        "id": "bO97MRm98Moc",
        "outputId": "bb31dab9-3eb3-416b-95b9-7f5f22aa571f"
      },
      "execution_count": 4,
      "outputs": [
        {
          "output_type": "stream",
          "name": "stdout",
          "text": [
            "Collecting imblearn\n",
            "  Downloading imblearn-0.0-py2.py3-none-any.whl (1.9 kB)\n",
            "Requirement already satisfied: imbalanced-learn in /usr/local/lib/python3.10/dist-packages (from imblearn) (0.10.1)\n",
            "Requirement already satisfied: numpy>=1.17.3 in /usr/local/lib/python3.10/dist-packages (from imbalanced-learn->imblearn) (1.25.2)\n",
            "Requirement already satisfied: scipy>=1.3.2 in /usr/local/lib/python3.10/dist-packages (from imbalanced-learn->imblearn) (1.11.4)\n",
            "Requirement already satisfied: scikit-learn>=1.0.2 in /usr/local/lib/python3.10/dist-packages (from imbalanced-learn->imblearn) (1.2.2)\n",
            "Requirement already satisfied: joblib>=1.1.1 in /usr/local/lib/python3.10/dist-packages (from imbalanced-learn->imblearn) (1.4.0)\n",
            "Requirement already satisfied: threadpoolctl>=2.0.0 in /usr/local/lib/python3.10/dist-packages (from imbalanced-learn->imblearn) (3.4.0)\n",
            "Installing collected packages: imblearn\n",
            "Successfully installed imblearn-0.0\n",
            "Using Imbalanced learn version: 0.10.1\n"
          ]
        }
      ]
    },
    {
      "cell_type": "code",
      "source": [
        "\"\"\"!pip install codecarbon\n",
        "\n",
        "from codecarbon import EmissionsTracker\n",
        "from codecarbon import __version__ as cc_ver\n",
        "print(f\"Using CodeCarbon.io version: {cc_ver}\")\n",
        "\n",
        "# used to track project emissions\n",
        "tracker = EmissionsTracker()\"\"\""
      ],
      "metadata": {
        "id": "kB8X6j51PPET",
        "colab": {
          "base_uri": "https://localhost:8080/",
          "height": 35
        },
        "outputId": "115a3fb6-9905-410c-86aa-da529c399439"
      },
      "execution_count": 5,
      "outputs": [
        {
          "output_type": "execute_result",
          "data": {
            "text/plain": [
              "'!pip install codecarbon\\n\\nfrom codecarbon import EmissionsTracker\\nfrom codecarbon import __version__ as cc_ver\\nprint(f\"Using CodeCarbon.io version: {cc_ver}\")\\n\\n# used to track project emissions\\ntracker = EmissionsTracker()'"
            ],
            "application/vnd.google.colaboratory.intrinsic+json": {
              "type": "string"
            }
          },
          "metadata": {},
          "execution_count": 5
        }
      ]
    },
    {
      "cell_type": "code",
      "source": [
        "import os\n",
        "from google.colab import drive\n",
        "\n",
        "# mounts google drive\n",
        "drive.mount(\"/content/drive\")\n",
        "\n",
        "# directory that all exports will be stored in\n",
        "dl_dir = os.getcwd() + r'/drive/MyDrive/Colab Notebooks/COMP6002_Group10_Data'\n",
        "# directory that the runtime will store the unzipped dataset in (not on your drive)\n",
        "data_dir = os.getcwd() + '/dataset'\n",
        "\n",
        "# checks if export directory already exists, if not creates it\n",
        "if os.path.exists(dl_dir):\n",
        "  print(f\"Directory {dl_dir} already exists.\\n\")\n",
        "else:\n",
        "  os.mkdir(dl_dir)\n",
        "  print(f\"Successfully created the directory {dl_dir}\")"
      ],
      "metadata": {
        "colab": {
          "base_uri": "https://localhost:8080/"
        },
        "id": "bUdWg_050_Ro",
        "outputId": "816bc399-343e-4d70-eb2e-d3b7c2f4c05a"
      },
      "execution_count": 6,
      "outputs": [
        {
          "output_type": "stream",
          "name": "stdout",
          "text": [
            "Mounted at /content/drive\n",
            "Directory /content/drive/MyDrive/Colab Notebooks/COMP6002_Group10_Data already exists.\n",
            "\n"
          ]
        }
      ]
    },
    {
      "cell_type": "markdown",
      "source": [
        "## Instance Details\n",
        "Gets hardware specifications and region details of the Google Colab instance."
      ],
      "metadata": {
        "id": "MGMnmhjzT-73"
      }
    },
    {
      "cell_type": "code",
      "source": [
        "# CPU specifications\n",
        "from psutil import *\n",
        "\n",
        "!cat /proc/cpuinfo | grep \"model name\" | head -1\n",
        "\n",
        "print(f\"Number of CPU: {cpu_count()}\")\n",
        "!cat /proc/cpuinfo"
      ],
      "metadata": {
        "colab": {
          "base_uri": "https://localhost:8080/"
        },
        "id": "bW7ISKOxJFGT",
        "outputId": "78b5c355-564c-4b41-eb27-d895ab79d96d"
      },
      "execution_count": 7,
      "outputs": [
        {
          "output_type": "stream",
          "name": "stdout",
          "text": [
            "model name\t: Intel(R) Xeon(R) CPU @ 2.20GHz\n",
            "Number of CPU: 2\n",
            "processor\t: 0\n",
            "vendor_id\t: GenuineIntel\n",
            "cpu family\t: 6\n",
            "model\t\t: 79\n",
            "model name\t: Intel(R) Xeon(R) CPU @ 2.20GHz\n",
            "stepping\t: 0\n",
            "microcode\t: 0xffffffff\n",
            "cpu MHz\t\t: 2200.142\n",
            "cache size\t: 56320 KB\n",
            "physical id\t: 0\n",
            "siblings\t: 2\n",
            "core id\t\t: 0\n",
            "cpu cores\t: 1\n",
            "apicid\t\t: 0\n",
            "initial apicid\t: 0\n",
            "fpu\t\t: yes\n",
            "fpu_exception\t: yes\n",
            "cpuid level\t: 13\n",
            "wp\t\t: yes\n",
            "flags\t\t: fpu vme de pse tsc msr pae mce cx8 apic sep mtrr pge mca cmov pat pse36 clflush mmx fxsr sse sse2 ss ht syscall nx pdpe1gb rdtscp lm constant_tsc rep_good nopl xtopology nonstop_tsc cpuid tsc_known_freq pni pclmulqdq ssse3 fma cx16 pcid sse4_1 sse4_2 x2apic movbe popcnt aes xsave avx f16c rdrand hypervisor lahf_lm abm 3dnowprefetch invpcid_single ssbd ibrs ibpb stibp fsgsbase tsc_adjust bmi1 hle avx2 smep bmi2 erms invpcid rtm rdseed adx smap xsaveopt arat md_clear arch_capabilities\n",
            "bugs\t\t: cpu_meltdown spectre_v1 spectre_v2 spec_store_bypass l1tf mds swapgs taa mmio_stale_data retbleed\n",
            "bogomips\t: 4400.28\n",
            "clflush size\t: 64\n",
            "cache_alignment\t: 64\n",
            "address sizes\t: 46 bits physical, 48 bits virtual\n",
            "power management:\n",
            "\n",
            "processor\t: 1\n",
            "vendor_id\t: GenuineIntel\n",
            "cpu family\t: 6\n",
            "model\t\t: 79\n",
            "model name\t: Intel(R) Xeon(R) CPU @ 2.20GHz\n",
            "stepping\t: 0\n",
            "microcode\t: 0xffffffff\n",
            "cpu MHz\t\t: 2200.142\n",
            "cache size\t: 56320 KB\n",
            "physical id\t: 0\n",
            "siblings\t: 2\n",
            "core id\t\t: 0\n",
            "cpu cores\t: 1\n",
            "apicid\t\t: 1\n",
            "initial apicid\t: 1\n",
            "fpu\t\t: yes\n",
            "fpu_exception\t: yes\n",
            "cpuid level\t: 13\n",
            "wp\t\t: yes\n",
            "flags\t\t: fpu vme de pse tsc msr pae mce cx8 apic sep mtrr pge mca cmov pat pse36 clflush mmx fxsr sse sse2 ss ht syscall nx pdpe1gb rdtscp lm constant_tsc rep_good nopl xtopology nonstop_tsc cpuid tsc_known_freq pni pclmulqdq ssse3 fma cx16 pcid sse4_1 sse4_2 x2apic movbe popcnt aes xsave avx f16c rdrand hypervisor lahf_lm abm 3dnowprefetch invpcid_single ssbd ibrs ibpb stibp fsgsbase tsc_adjust bmi1 hle avx2 smep bmi2 erms invpcid rtm rdseed adx smap xsaveopt arat md_clear arch_capabilities\n",
            "bugs\t\t: cpu_meltdown spectre_v1 spectre_v2 spec_store_bypass l1tf mds swapgs taa mmio_stale_data retbleed\n",
            "bogomips\t: 4400.28\n",
            "clflush size\t: 64\n",
            "cache_alignment\t: 64\n",
            "address sizes\t: 46 bits physical, 48 bits virtual\n",
            "power management:\n",
            "\n"
          ]
        }
      ]
    },
    {
      "cell_type": "code",
      "source": [
        "# VRAM specifications\n",
        "virtual_memory()"
      ],
      "metadata": {
        "colab": {
          "base_uri": "https://localhost:8080/"
        },
        "id": "2LVrEUT0Ja_7",
        "outputId": "6438e23d-0e4a-45d9-e01d-e5aeb88be1ba"
      },
      "execution_count": 8,
      "outputs": [
        {
          "output_type": "execute_result",
          "data": {
            "text/plain": [
              "svmem(total=13609451520, available=12444528640, percent=8.6, used=858427392, free=8435593216, active=645726208, inactive=4294246400, buffers=346656768, cached=3968774144, shared=1429504, slab=154071040)"
            ]
          },
          "metadata": {},
          "execution_count": 8
        }
      ]
    },
    {
      "cell_type": "code",
      "source": [
        "# GPU specifications\n",
        "!nvidia-smi"
      ],
      "metadata": {
        "colab": {
          "base_uri": "https://localhost:8080/"
        },
        "id": "aM8VQOFEUKZ0",
        "outputId": "9a30df1e-1ea7-4136-db74-c571fc57860b"
      },
      "execution_count": 9,
      "outputs": [
        {
          "output_type": "stream",
          "name": "stdout",
          "text": [
            "/bin/bash: line 1: nvidia-smi: command not found\n"
          ]
        }
      ]
    },
    {
      "cell_type": "code",
      "source": [
        "# Server information\n",
        "!curl ipinfo.io"
      ],
      "metadata": {
        "colab": {
          "base_uri": "https://localhost:8080/"
        },
        "id": "UrBI5LScuDdB",
        "outputId": "914cc802-7e26-4dd4-e9de-ab908455a321"
      },
      "execution_count": 10,
      "outputs": [
        {
          "output_type": "stream",
          "name": "stdout",
          "text": [
            "{\n",
            "  \"ip\": \"34.125.170.155\",\n",
            "  \"hostname\": \"155.170.125.34.bc.googleusercontent.com\",\n",
            "  \"city\": \"Las Vegas\",\n",
            "  \"region\": \"Nevada\",\n",
            "  \"country\": \"US\",\n",
            "  \"loc\": \"36.1750,-115.1372\",\n",
            "  \"org\": \"AS396982 Google LLC\",\n",
            "  \"postal\": \"89111\",\n",
            "  \"timezone\": \"America/Los_Angeles\",\n",
            "  \"readme\": \"https://ipinfo.io/missingauth\"\n",
            "}"
          ]
        }
      ]
    },
    {
      "cell_type": "markdown",
      "source": [
        "## Define Helper Functions"
      ],
      "metadata": {
        "id": "eEz2Qzc_kzkt"
      }
    },
    {
      "cell_type": "code",
      "source": [
        "# helper functions for exporting/importing models trained with Sklearn, do not attempt to use with Neural Network as the library used has its' own methods for exporting/importing\n",
        "# all functions defined will prompt the user for confirmation, to allow for skipping the functions when running the notebook\n",
        "import joblib\n",
        "print(f\"Using Joblib version: {joblib.__version__}\")\n",
        "\n",
        "# function used to append a number to a filename in the event that the file already exists\n",
        "def IncrementFname(file_path):\n",
        "  \"\"\"\n",
        "  Takes a file path, splits the file name/extension and inserts an incrementing integer between them until a unique name is found.\n",
        "\n",
        "  Parameters:\n",
        "    file_path (string): full file path to increment, including extension.\n",
        "  Returns:\n",
        "    string: new file name in the form of 'path/to/file(i).extension'.\n",
        "  \"\"\"\n",
        "  fname, ext = os.path.splitext(file_path)\n",
        "  i = 1\n",
        "  new_name = f'{fname}({i}){ext}' # intial reassignment\n",
        "\n",
        "  # if filename(1).extension already exists, increment number until an unused one is found\n",
        "  while os.path.exists(new_name):\n",
        "    i += 1\n",
        "    new_name = f'{fname}({i}){ext}'\n",
        "\n",
        "  return new_name\n",
        "\n",
        "# Save a trained model to the provided filepath\n",
        "def SaveSKL(model, model_fpath):\n",
        "  \"\"\"\n",
        "  Exports a trained model via joblib.\n",
        "\n",
        "  Parameters:\n",
        "    model (object): model to be saved.\n",
        "    model_fpath (string): file path that the model will be saved in, including filename and extension.\n",
        "  Returns:\n",
        "    : no value returned.\n",
        "  \"\"\"\n",
        "  to_save = \"\"\n",
        "\n",
        "  while to_save.lower() not in ('y', 'n'):\n",
        "    to_save = input(\"Do you wish to save the trained model? (y/n)\\n\")\n",
        "    if to_save.lower() in 'y':\n",
        "      fpath = model_fpath # assigns value to new variable to allow for reassignment\n",
        "\n",
        "      if os.path.isfile(fpath):\n",
        "        print(f\"File \\'{fpath}\\' already exists...\")\n",
        "        fpath = IncrementFname(fpath)\n",
        "        print(f\"...Using the name \\'{fpath}\\' instead.\")\n",
        "\n",
        "      print(f\"Saving model to: {fpath}\")\n",
        "      try:\n",
        "        joblib.dump(model, fpath)\n",
        "        print(f\"SUCCESS: Model saved to {fpath}\")\n",
        "      except:\n",
        "        print(\"ERROR: An unknown error has occured when calling joblib.dump()!\")\n",
        "    else:\n",
        "      if to_save.lower() in 'n':\n",
        "        print(\"Did not save model.\")\n",
        "      else:\n",
        "        print(\"Please only enter \\'y\\' to save model or \\'n\\' to skip saving.\")\n",
        "\n",
        "# Load a trained model from the provided filepath\n",
        "def LoadSKL(model_fpath):\n",
        "  \"\"\"\n",
        "  Import a trained model via joblib.\n",
        "\n",
        "  Parameters:\n",
        "    model_fpath (string): file path to the stored model.\n",
        "  Returns:\n",
        "    object: if a model is found and loaded correctly, returns an object.\n",
        "    None: if no matching file is found or an error occurs during loading, returns None.\n",
        "  \"\"\"\n",
        "  to_load = \"\"\n",
        "  while to_load.lower() not in ('y', 'n'):\n",
        "    to_load = input(\"Do you wish to import a trained model? {y/n)\\n\")\n",
        "    if to_load.lower() in 'y':\n",
        "      model = None\n",
        "      print(f\"Attempting to import model from: {model_fpath}\")\n",
        "      try:\n",
        "        model = joblib.load(model_fpath)\n",
        "        print(\"SUCCESS: Model successfully imported.\")\n",
        "      except FileNotFoundError:\n",
        "        print(f\"ERROR: The file \\'{model_fpath}\\' does not exist!\")\n",
        "        model = None\n",
        "      except:\n",
        "        print(\"ERROR: An unknown error has occured when calling joblib.load()!\")\n",
        "        model = None\n",
        "      finally:\n",
        "        return model\n",
        "    else:\n",
        "      if to_load.lower() in 'n':\n",
        "        print(\"Did not import model.\")\n",
        "        return None\n",
        "      else:\n",
        "        print(\"Please only enter \\'y\\' to import model or \\'n\\' to skip importing.\")\n",
        "\n",
        "# To-do: write function that exports model parameters, evaluation metrics, etc."
      ],
      "metadata": {
        "colab": {
          "base_uri": "https://localhost:8080/"
        },
        "id": "otJrdxCQXWv5",
        "outputId": "19501416-4a4f-4853-9904-b7af9415ecab"
      },
      "execution_count": 11,
      "outputs": [
        {
          "output_type": "stream",
          "name": "stdout",
          "text": [
            "Using Joblib version: 1.4.0\n"
          ]
        }
      ]
    },
    {
      "cell_type": "markdown",
      "source": [
        "# Import Data\n",
        "Checks current working directory for datasets, if datasets are missing downloads a [.zip archive mirror of the CiCDDoS2019 hosted on Kaggle](https://www.kaggle.com/datasets/kristianfrossos/cicddos2019/data).\n",
        "\n",
        "**NOTE:** the first part of this section is specific to Google Colab, and will not work outside of it. Advise writing an alternative later for local use (relevant when training Neural Network for speed and when usage limits get in the way).\n"
      ],
      "metadata": {
        "id": "gSVADpSUPvxs"
      }
    },
    {
      "cell_type": "code",
      "source": [
        "!pip -q install --upgrade --force-reinstall --no-deps kaggle"
      ],
      "metadata": {
        "id": "rVY0RkBfOV1C",
        "colab": {
          "base_uri": "https://localhost:8080/"
        },
        "outputId": "98aaaf24-3213-4fad-8c73-700a41540520"
      },
      "execution_count": null,
      "outputs": [
        {
          "output_type": "stream",
          "name": "stdout",
          "text": [
            "\u001b[?25l     \u001b[90m━━━━━━━━━━━━━━━━━━━━━━━━━━━━━━━━━━━━━━━━\u001b[0m \u001b[32m0.0/79.7 kB\u001b[0m \u001b[31m?\u001b[0m eta \u001b[36m-:--:--\u001b[0m\r\u001b[2K     \u001b[91m━━━━━━━━━━━━━━━━━━━━\u001b[0m\u001b[91m╸\u001b[0m\u001b[90m━━━━━━━━━━━━━━━━━━━\u001b[0m \u001b[32m41.0/79.7 kB\u001b[0m \u001b[31m1.1 MB/s\u001b[0m eta \u001b[36m0:00:01\u001b[0m\r\u001b[2K     \u001b[90m━━━━━━━━━━━━━━━━━━━━━━━━━━━━━━━━━━━━━━━━\u001b[0m \u001b[32m79.7/79.7 kB\u001b[0m \u001b[31m1.2 MB/s\u001b[0m eta \u001b[36m0:00:00\u001b[0m\n",
            "\u001b[?25h  Preparing metadata (setup.py) ... \u001b[?25l\u001b[?25hdone\n",
            "  Building wheel for kaggle (setup.py) ... \u001b[?25l\u001b[?25hdone\n"
          ]
        }
      ]
    },
    {
      "cell_type": "code",
      "source": [
        "# sets up kaggle environment variables (needed to access API)\n",
        "from google.colab import userdata\n",
        "from google.colab import files\n",
        "\n",
        "# checks if kaggle key and username have been provided as secrets and sets environment variables appropriately\n",
        "# if not found, attempts to use kaggle.json\n",
        "try:\n",
        "  os.environ[\"KAGGLE_KEY\"] = userdata.get('KAGGLE_KEY')\n",
        "  os.environ[\"KAGGLE_USERNAME\"] = userdata.get('KAGGLE_USERNAME')\n",
        "  print(\"Using KAGGLE_KEY and KAGGLE_USERNAME defined in secrets.\")\n",
        "except (userdata.SecretNotFoundError, userdata.NotebookAccessError):\n",
        "  print(\"WARN: One or more secret(s) missing or inaccessible.\\n\")\n",
        "  if os.path.isfile('~/.kaggle/kaggle.json'):\n",
        "    print(\"Using existing kaggle.json\")\n",
        "  else:\n",
        "    print(\"Please upload kaggle.json\")\n",
        "    files.upload()\n",
        "\n",
        "    if os.path.isfile(os.getcwd() + '/content/kaggle.json'):\n",
        "      !rm -r ~/.kaggle\n",
        "      !mkdir ~/.kaggle\n",
        "      !mv ./kaggle.json ~/.kaggle/\n",
        "      !chmod 600 ~/.kaggle/kaggle.json\n",
        "    else:\n",
        "      print(\"\\'kaggle.json\\' not uploaded.\")\n",
        "      raise"
      ],
      "metadata": {
        "colab": {
          "base_uri": "https://localhost:8080/"
        },
        "id": "KcOT1v4TO4rm",
        "outputId": "99ddb041-8398-4ea1-ffdc-5d545104f4c5"
      },
      "execution_count": null,
      "outputs": [
        {
          "output_type": "stream",
          "name": "stdout",
          "text": [
            "Using KAGGLE_KEY and KAGGLE_USERNAME defined in secrets.\n"
          ]
        }
      ]
    },
    {
      "cell_type": "code",
      "source": [
        "# checks if .zip archive containing dataset already exists in google drive and downloads it if necessary\n",
        "if os.path.isfile(dl_dir + '/cicddos2019.zip'):\n",
        "  print(\"Dataset already present.\")\n",
        "else:\n",
        "  print(f\"Downloading zipped dataset to {dl_dir}\")\n",
        "  !kaggle datasets download kristianfrossos/cicddos2019 -p {dl_dir.replace(' ', '\\ ')}\n",
        "\n",
        "# creates the content/dataset directory if it doesn't already exist\n",
        "if os.path.exists(data_dir):\n",
        "  print(f\"Directory {data_dir} already exists.\")\n",
        "else:\n",
        "  print(f\"Created directory: {data_dir}\")\n",
        "  os.mkdir(data_dir)\n",
        "\n",
        "# extracts contents of .zip archive to content/dataset if directory is not empty\n",
        "if not os.listdir(data_dir):\n",
        "  print(\"Empty directory, extracting dataset.\")\n",
        "  # unzips .zip archive\n",
        "  !unzip {dl_dir.replace(' ', '\\ ') + '/cicddos2019.zip'} -d {data_dir}\n",
        "else:\n",
        "  print(\"Non-empty directory, skipping download\")"
      ],
      "metadata": {
        "colab": {
          "base_uri": "https://localhost:8080/"
        },
        "id": "rUQvxpnNMnRQ",
        "outputId": "4294dc0a-ea01-4b7c-b7d8-b53448189358"
      },
      "execution_count": null,
      "outputs": [
        {
          "output_type": "stream",
          "name": "stdout",
          "text": [
            "Dataset already present.\n",
            "Created directory: /content/dataset\n",
            "Empty directory, extracting dataset.\n",
            "Archive:  /content/drive/MyDrive/Colab Notebooks/COMP6002_Group10_Data/cicddos2019.zip\n",
            "  inflating: /content/dataset/CSV-01-12/01-12/DrDoS_DNS.csv  \n",
            "  inflating: /content/dataset/CSV-01-12/01-12/DrDoS_LDAP.csv  \n",
            "  inflating: /content/dataset/CSV-01-12/01-12/DrDoS_MSSQL.csv  \n",
            "  inflating: /content/dataset/CSV-01-12/01-12/DrDoS_NTP.csv  \n",
            "  inflating: /content/dataset/CSV-01-12/01-12/DrDoS_NetBIOS.csv  \n",
            "  inflating: /content/dataset/CSV-01-12/01-12/DrDoS_SNMP.csv  \n",
            "  inflating: /content/dataset/CSV-01-12/01-12/DrDoS_SSDP.csv  \n",
            "  inflating: /content/dataset/CSV-01-12/01-12/DrDoS_UDP.csv  \n",
            "  inflating: /content/dataset/CSV-01-12/01-12/Syn.csv  \n",
            "  inflating: /content/dataset/CSV-01-12/01-12/TFTP.csv  \n",
            "  inflating: /content/dataset/CSV-01-12/01-12/UDPLag.csv  \n",
            "  inflating: /content/dataset/CSV-03-11/03-11/LDAP.csv  \n",
            "  inflating: /content/dataset/CSV-03-11/03-11/MSSQL.csv  \n",
            "  inflating: /content/dataset/CSV-03-11/03-11/NetBIOS.csv  \n",
            "  inflating: /content/dataset/CSV-03-11/03-11/Portmap.csv  \n",
            "  inflating: /content/dataset/CSV-03-11/03-11/Syn.csv  \n",
            "  inflating: /content/dataset/CSV-03-11/03-11/UDP.csv  \n",
            "  inflating: /content/dataset/CSV-03-11/03-11/UDPLag.csv  \n"
          ]
        }
      ]
    },
    {
      "cell_type": "code",
      "source": [
        "# initialises empty list\n",
        "csv_list = []\n",
        "\n",
        "# iterates through all subdirectories of /content/dataset and appends the filepath of each .csv to csv_list\n",
        "for root, dirs, files in os.walk(data_dir):\n",
        "  for f in files:\n",
        "    if f.endswith(\".csv\"):\n",
        "      csv_list.append(os.path.join(root, f))\n",
        "\n",
        "# if .csv files were found, displays number of files and prints each path\n",
        "if not csv_list:\n",
        "  print(\"No .csv files found!\")\n",
        "else:\n",
        "  print(f\"{len(csv_list)} .csv files found.\")\n",
        "  for csv in csv_list:\n",
        "    print(csv)"
      ],
      "metadata": {
        "colab": {
          "base_uri": "https://localhost:8080/"
        },
        "id": "dMw9ryJSbiPL",
        "outputId": "5965f52f-3e63-4d29-fb64-da8f7e476d09"
      },
      "execution_count": null,
      "outputs": [
        {
          "output_type": "stream",
          "name": "stdout",
          "text": [
            "18 .csv files found.\n",
            "/content/dataset/CSV-03-11/03-11/UDP.csv\n",
            "/content/dataset/CSV-03-11/03-11/NetBIOS.csv\n",
            "/content/dataset/CSV-03-11/03-11/UDPLag.csv\n",
            "/content/dataset/CSV-03-11/03-11/MSSQL.csv\n",
            "/content/dataset/CSV-03-11/03-11/Syn.csv\n",
            "/content/dataset/CSV-03-11/03-11/LDAP.csv\n",
            "/content/dataset/CSV-03-11/03-11/Portmap.csv\n",
            "/content/dataset/CSV-01-12/01-12/UDPLag.csv\n",
            "/content/dataset/CSV-01-12/01-12/DrDoS_NTP.csv\n",
            "/content/dataset/CSV-01-12/01-12/DrDoS_UDP.csv\n",
            "/content/dataset/CSV-01-12/01-12/Syn.csv\n",
            "/content/dataset/CSV-01-12/01-12/DrDoS_SSDP.csv\n",
            "/content/dataset/CSV-01-12/01-12/DrDoS_LDAP.csv\n",
            "/content/dataset/CSV-01-12/01-12/DrDoS_MSSQL.csv\n",
            "/content/dataset/CSV-01-12/01-12/DrDoS_DNS.csv\n",
            "/content/dataset/CSV-01-12/01-12/TFTP.csv\n",
            "/content/dataset/CSV-01-12/01-12/DrDoS_SNMP.csv\n",
            "/content/dataset/CSV-01-12/01-12/DrDoS_NetBIOS.csv\n"
          ]
        }
      ]
    },
    {
      "cell_type": "markdown",
      "source": [
        "## Samples Dataset and Creates Subset"
      ],
      "metadata": {
        "id": "f0fI9HD0RaaX"
      }
    },
    {
      "cell_type": "code",
      "source": [
        "ddos_df = pd.DataFrame()\n",
        "benign_df = pd.DataFrame()\n",
        "\n",
        "for csv in csv_list:\n",
        "  data_iter = pd.read_csv(csv, chunksize=5000)\n",
        "  print(f\"Reading {csv}...\")\n",
        "\n",
        "  for chunk in data_iter:\n",
        "    ddos_rows = chunk[chunk[' Label'].str.lower() != 'benign']\n",
        "    benign_rows = chunk[chunk[' Label'].str.lower() == 'benign']\n",
        "\n",
        "    sample_size = min(len(ddos_rows), len(benign_rows)) // 25\n",
        "    ddos_sample = ddos_rows.sample(n=sample_size, random_state=42)\n",
        "    benign_sample = benign_rows.sample(n=sample_size, random_state=42)\n",
        "\n",
        "    ddos_df = pd.concat([ddos_df, ddos_sample], ignore_index=True)\n",
        "    benign_df = pd.concat([benign_df, benign_sample], ignore_index=True)"
      ],
      "metadata": {
        "colab": {
          "base_uri": "https://localhost:8080/"
        },
        "id": "14YJSfXt7F0Z",
        "outputId": "4763e89c-97c3-46ba-8a9b-1e88cea022f3"
      },
      "execution_count": null,
      "outputs": [
        {
          "output_type": "stream",
          "name": "stdout",
          "text": [
            "Reading /content/dataset/CSV-03-11/03-11/UDP.csv...\n",
            "Reading /content/dataset/CSV-03-11/03-11/NetBIOS.csv...\n",
            "Reading /content/dataset/CSV-03-11/03-11/UDPLag.csv...\n",
            "Reading /content/dataset/CSV-03-11/03-11/MSSQL.csv...\n",
            "Reading /content/dataset/CSV-03-11/03-11/Syn.csv...\n",
            "Reading /content/dataset/CSV-03-11/03-11/LDAP.csv...\n",
            "Reading /content/dataset/CSV-03-11/03-11/Portmap.csv...\n",
            "Reading /content/dataset/CSV-01-12/01-12/UDPLag.csv...\n",
            "Reading /content/dataset/CSV-01-12/01-12/DrDoS_NTP.csv...\n",
            "Reading /content/dataset/CSV-01-12/01-12/DrDoS_UDP.csv...\n",
            "Reading /content/dataset/CSV-01-12/01-12/Syn.csv...\n",
            "Reading /content/dataset/CSV-01-12/01-12/DrDoS_SSDP.csv...\n",
            "Reading /content/dataset/CSV-01-12/01-12/DrDoS_LDAP.csv...\n",
            "Reading /content/dataset/CSV-01-12/01-12/DrDoS_MSSQL.csv...\n",
            "Reading /content/dataset/CSV-01-12/01-12/DrDoS_DNS.csv...\n",
            "Reading /content/dataset/CSV-01-12/01-12/TFTP.csv...\n",
            "Reading /content/dataset/CSV-01-12/01-12/DrDoS_SNMP.csv...\n",
            "Reading /content/dataset/CSV-01-12/01-12/DrDoS_NetBIOS.csv...\n"
          ]
        }
      ]
    },
    {
      "cell_type": "code",
      "source": [
        "# concatenates ddos and benign dataframes into one subset\n",
        "subset = pd.concat([ddos_df, benign_df], ignore_index=True)\n",
        "\n",
        "# class weights\n",
        "weights = subset.value_counts(' Label', normalize=True)\n",
        "counts = subset.value_counts(' Label')\n",
        "\n",
        "# prints classes and their weights\n",
        "print(\"     Class      |     Weight     |     Count\")\n",
        "for index in weights.index:\n",
        "  print(f'{index:<15} | {(weights[index] * 100.0):<14n} | {counts[index]:n}')\n",
        "\n",
        "# prints total (for error checking)\n",
        "print(f\"{'Total':<15} | {sum(weights.values) * 100.0:<14n} | {sum(counts.values)}\")\n",
        "\n",
        "# stores unprocessed subset\n",
        "subset.to_csv((dl_dir + '/COMP6002_Raw_Subset.csv'), index = False)"
      ],
      "metadata": {
        "colab": {
          "base_uri": "https://localhost:8080/"
        },
        "id": "XwKDB0qpF4Xz",
        "outputId": "23728bd4-b206-49a2-eb73-8858f66b342a"
      },
      "execution_count": null,
      "outputs": [
        {
          "output_type": "stream",
          "name": "stdout",
          "text": [
            "     Class      |     Weight     |     Count\n",
            "BENIGN          | 50             | 1960\n",
            "Syn             | 12.9082        | 506\n",
            "TFTP            | 10.7653        | 422\n",
            "DrDoS_NTP       | 4.56633        | 179\n",
            "UDP-lag         | 3.59694        | 141\n",
            "UDP             | 2.37245        | 93\n",
            "DrDoS_DNS       | 2.37245        | 93\n",
            "Portmap         | 2.32143        | 91\n",
            "NetBIOS         | 2.16837        | 85\n",
            "MSSQL           | 1.83673        | 72\n",
            "LDAP            | 1.45408        | 57\n",
            "DrDoS_UDP       | 1.30102        | 51\n",
            "DrDoS_MSSQL     | 1.07143        | 42\n",
            "UDPLag          | 1.04592        | 41\n",
            "DrDoS_NetBIOS   | 0.739796       | 29\n",
            "DrDoS_SNMP      | 0.663265       | 26\n",
            "DrDoS_LDAP      | 0.433673       | 17\n",
            "DrDoS_SSDP      | 0.280612       | 11\n",
            "WebDDoS         | 0.102041       | 4\n",
            "Total           | 100            | 3920\n"
          ]
        }
      ]
    },
    {
      "cell_type": "markdown",
      "source": [
        "# Data Preprocessing\n",
        "**To-Do:**\n",
        "*   Identify features that can be droped.\n",
        "\n",
        "## Dropped Features\n",
        "*   Unnamed: 0: unknown feature.\n",
        "*   Flow Id: constructed from Source Ip, Destination Ip, Source Port, Destination Port and Protocol.\n",
        "*   Similar HTTP: object with no meaningful way to encode (the exact same objects won't necessaril exist in real data)"
      ],
      "metadata": {
        "id": "2IH9h-H8QULd"
      }
    },
    {
      "cell_type": "code",
      "source": [
        "from sklearn.model_selection import train_test_split\n",
        "import ipaddress\n",
        "\n",
        "subset_path = dl_dir + '/COMP6002_Processed_Subset.csv'"
      ],
      "metadata": {
        "id": "W8uG3kVbderm"
      },
      "execution_count": 15,
      "outputs": []
    },
    {
      "cell_type": "code",
      "source": [
        "# optionally import a unprocessed subset, skips above steps.\n",
        "raw_load = \"\"\n",
        "\n",
        "while raw_load.lower() not in ('y', 'n'):\n",
        "  raw_load = input(\"Do you wish to load a previously generated (but not processed) subset? (y/n)\\n\")\n",
        "\n",
        "  if raw_load.lower() in ('y'):\n",
        "    raw_path = dl_dir + '/COMP6002_Raw_Subset.csv'\n",
        "    try:\n",
        "      subset = pd.read_csv(raw_path)\n",
        "      print(f\"\\'{raw_path}\\' loaded successfully.\")\n",
        "    except:\n",
        "      print(f\"ERROR: an unknown error occured loading \\'{raw_path}\\'!\")\n",
        "  else:\n",
        "    if raw_load.lower() in ('n'):\n",
        "      print(\"Did not attempt to load existing data.\")\n",
        "    else:\n",
        "      print(\"WARNING: please only input \\'y\\' to load the data or \\'n\\' to skip loading.\")\n",
        "\n",
        "del raw_load"
      ],
      "metadata": {
        "colab": {
          "base_uri": "https://localhost:8080/"
        },
        "id": "MAUF9N90JvnX",
        "outputId": "3840c8a7-7d23-4ab3-eea6-4d1983ae94b4"
      },
      "execution_count": null,
      "outputs": [
        {
          "output_type": "stream",
          "name": "stdout",
          "text": [
            "Do you wish to load a previously generated (but not processed) subset? (y/n)\n",
            "n\n",
            "Did not attempt to load existing data.\n"
          ]
        }
      ]
    },
    {
      "cell_type": "code",
      "source": [
        "# drops irrelevant columns\n",
        "subset.drop(columns = ['Unnamed: 0', 'Flow ID', 'SimillarHTTP'],\n",
        "            inplace = True)\n",
        "\n",
        "# replace infinite values with NaN so they are caught by the next 2 steps\n",
        "subset.replace([np.inf, -np.inf], np.nan, inplace = True)\n",
        "\n",
        "# drop columns with at least 50% missing values\n",
        "subset.dropna(axis = 1,\n",
        "              thresh = int(0.5 * subset.shape[0]),\n",
        "              inplace = True)\n",
        "\n",
        "# replace missing values with the mean of their columns\n",
        "for col in subset.columns:\n",
        "  if subset[col].isna().sum() > 0:\n",
        "    subset[col].fillna(subset[col].mean(), inplace = True)\n",
        "\n",
        "# drop duplicate rows\n",
        "subset.drop_duplicates(inplace = True)\n",
        "\n",
        "# converts source and destination IP addresses to useable integer values\n",
        "subset['Source IP_int'] = subset.apply(lambda x: int (ipaddress.IPv4Address(x[' Source IP'])), axis=1)\n",
        "subset['Destination IP_int'] = subset.apply(lambda x: int (ipaddress.IPv4Address(x[' Destination IP'])), axis=1)\n",
        "\n",
        "# converts date and time values to unix timestamps\n",
        "subset['UnixTimestamp'] = subset.apply(lambda x: (pd.to_datetime(x[' Timestamp']).timestamp()), axis=1)\n",
        "\n",
        "# drops original columns\n",
        "subset.drop(columns = [' Source IP', ' Destination IP', ' Timestamp'],\n",
        "            inplace = True)"
      ],
      "metadata": {
        "id": "Ncl7SwVoSldZ"
      },
      "execution_count": null,
      "outputs": []
    },
    {
      "cell_type": "markdown",
      "source": [
        "## Save Processed Data"
      ],
      "metadata": {
        "id": "qZskn0e5p4qF"
      }
    },
    {
      "cell_type": "code",
      "source": [
        "# optionally save processed subset to .csv\n",
        "subset_save = \"\"\n",
        "\n",
        "while subset_save.lower() not in ('y', 'n'):\n",
        "  subset_save = input(\"Do you wish to export the subset to a .csv? (y/n)\")\n",
        "\n",
        "  if subset_save.lower() in ('y'):\n",
        "    new_subset_path = subset_path\n",
        "\n",
        "    if os.path.exists(new_subset_path):\n",
        "      new_subset_path = IncrementFname(subset_path)\n",
        "\n",
        "    try:\n",
        "      subset.to_csv(new_subset_path, index = False)\n",
        "      print(f\"Subset saved as \\'{new_subset_path}\\'.\")\n",
        "    except:\n",
        "      print(f\"ERROR: an unknown error occured saving \\'{new_subset_path}\\'!\")\n",
        "  else:\n",
        "    if subset_save.lower() in ('n'):\n",
        "      print(\"Skipped exporting to .csv file.\")\n",
        "    else:\n",
        "      print(\"WARNING: please only input \\'y\\' to save the data to a .csv or \\'n\\' to skip saving.\")\n",
        "\n",
        "del subset_save"
      ],
      "metadata": {
        "id": "WVs8OfgonhT0",
        "colab": {
          "base_uri": "https://localhost:8080/"
        },
        "outputId": "9b24565f-9c71-4612-df95-be6da895a9b0"
      },
      "execution_count": null,
      "outputs": [
        {
          "output_type": "stream",
          "name": "stdout",
          "text": [
            "Do you wish to export the subset to a .csv? (y/n)y\n",
            "Subset saved as '/content/drive/MyDrive/Colab Notebooks/COMP6002_Group10_Data/COMP6002_Processed_Subset.csv'.\n"
          ]
        }
      ]
    },
    {
      "cell_type": "markdown",
      "source": [
        "## Load Previously Processed Data"
      ],
      "metadata": {
        "id": "sTh9xpbpp8Gm"
      }
    },
    {
      "cell_type": "code",
      "source": [
        "# optionally import a preprocessed subset, skips above steps.\n",
        "subset_load = \"\"\n",
        "\n",
        "while subset_load.lower() not in ('y', 'n'):\n",
        "  subset_load = input(\"Do you wish to load a previously preprocessed subset? (y/n)\\n\")\n",
        "\n",
        "  if subset_load.lower() in ('y'):\n",
        "    subset_path = dl_dir + '/COMP6002_Processed_Subset.csv'\n",
        "    try:\n",
        "      subset = pd.read_csv(subset_path)\n",
        "      print(f\"\\'{subset_path}\\' loaded successfully.\")\n",
        "    except:\n",
        "      print(f\"ERROR: an unknown error occured loading \\'{subset_path}\\'!\")\n",
        "  else:\n",
        "    if subset_load.lower() in ('n'):\n",
        "      print(\"Did not attempt to load existing data.\")\n",
        "    else:\n",
        "      print(\"WARNING: please only input \\'y\\' to load the data or \\'n\\' to skip loading.\")\n",
        "\n",
        "del subset_load"
      ],
      "metadata": {
        "id": "SXVkn2lbDsTN",
        "colab": {
          "base_uri": "https://localhost:8080/"
        },
        "outputId": "985334c5-bb20-4f2d-9b83-3b478f1cc1f8"
      },
      "execution_count": 12,
      "outputs": [
        {
          "output_type": "stream",
          "name": "stdout",
          "text": [
            "Do you wish to load a previously preprocessed subset? (y/n)\n",
            "y\n",
            "'/content/drive/MyDrive/Colab Notebooks/COMP6002_Group10_Data/COMP6002_Processed_Subset.csv' loaded successfully.\n"
          ]
        }
      ]
    },
    {
      "cell_type": "markdown",
      "source": [
        "## Split Training/Testing Data"
      ],
      "metadata": {
        "id": "XIZGXSiAqAHT"
      }
    },
    {
      "cell_type": "code",
      "source": [
        "# splits subset across x and y axis\n",
        "X = subset.drop(columns = [' Label'], inplace = False)\n",
        "y = subset[' Label']"
      ],
      "metadata": {
        "id": "PGu_c9Dtd4FT"
      },
      "execution_count": 17,
      "outputs": []
    },
    {
      "cell_type": "code",
      "source": [
        "# set aside 20% of data to be used in testing, keeping the remaining 80% for training\n",
        "X_train, X_test, y_train, y_test = train_test_split(X, y, test_size = 0.2, random_state = 42, stratify = y)"
      ],
      "metadata": {
        "id": "J2PH-oD5ljS4"
      },
      "execution_count": 18,
      "outputs": []
    },
    {
      "cell_type": "markdown",
      "source": [
        "## Normalise Data"
      ],
      "metadata": {
        "id": "zBp80dzJI3NL"
      }
    },
    {
      "cell_type": "code",
      "source": [
        "from sklearn.preprocessing import StandardScaler\n",
        "\n",
        "scaler = StandardScaler().fit(X_train)\n",
        "X_train[X_train.columns] = scaler.transform(X_train[X_train.columns])"
      ],
      "metadata": {
        "id": "7pnJ7yPbI5b7"
      },
      "execution_count": 19,
      "outputs": []
    },
    {
      "cell_type": "markdown",
      "source": [
        "## Oversampling with SMOTE"
      ],
      "metadata": {
        "id": "8niA7rBV8G_K"
      }
    },
    {
      "cell_type": "code",
      "source": [
        "from imblearn.over_sampling import SMOTE\n",
        "\n",
        "min_samples = y_train.value_counts().min()\n",
        "\n",
        "# I have no clue why I need to subtract 1 from min_samples, but I was getting errors from smote calling sklearn with n_neighbors = 4, despite providing it a k_neighbors of 3.\n",
        "smote = SMOTE(random_state = 42, k_neighbors = (min_samples - 1))\n",
        "\n",
        "X_train_res, y_train_res = smote.fit_resample(X_train, y_train)"
      ],
      "metadata": {
        "id": "4voCdggw8JA0"
      },
      "execution_count": 33,
      "outputs": []
    },
    {
      "cell_type": "markdown",
      "source": [
        "## Feature Selection"
      ],
      "metadata": {
        "id": "Qe8PpKdulNs4"
      }
    },
    {
      "cell_type": "code",
      "source": [
        "from sklearn.ensemble import RandomForestClassifier\n",
        "from sklearn.feature_selection import SelectFromModel\n",
        "\n",
        "# \"base\" random forest model used for feature selection, so as to not require the actual rf we're using to be trained when attempting to train the neural network\n",
        "base_rf = RandomForestClassifier(class_weight = 'balanced', random_state = 42)\n",
        "selector = SelectFromModel(estimator = base_rf).fit(X_train_res, y_train_res)\n",
        "\n",
        "# keeps only the features identified by selector\n",
        "X_new = X[selector.get_feature_names_out()]\n",
        "\n",
        "# list selected features\n",
        "print(f\"Features remaining: {X_new.shape[1]}\")\n",
        "for col in X_new.columns:\n",
        "  print(f\"{col}\")\n",
        "\n",
        "del base_rf"
      ],
      "metadata": {
        "colab": {
          "base_uri": "https://localhost:8080/"
        },
        "id": "oxCAjhI8zsG4",
        "outputId": "7023ba57-ff58-4b7c-f7f7-d848ad27138f"
      },
      "execution_count": 34,
      "outputs": [
        {
          "output_type": "stream",
          "name": "stdout",
          "text": [
            "Features remaining: 21\n",
            " Source Port\n",
            " Destination Port\n",
            "Total Length of Fwd Packets\n",
            " Fwd Packet Length Max\n",
            " Fwd Packet Length Min\n",
            " Fwd Packet Length Mean\n",
            "Flow Bytes/s\n",
            " Flow Packets/s\n",
            " Flow IAT Mean\n",
            " Flow IAT Min\n",
            " Fwd IAT Mean\n",
            " Fwd IAT Min\n",
            "Fwd Packets/s\n",
            " Min Packet Length\n",
            " Max Packet Length\n",
            " Packet Length Mean\n",
            " Average Packet Size\n",
            " Avg Fwd Segment Size\n",
            " Subflow Fwd Bytes\n",
            "Source IP_int\n",
            "UnixTimestamp\n"
          ]
        }
      ]
    },
    {
      "cell_type": "markdown",
      "source": [
        "# Build Models"
      ],
      "metadata": {
        "id": "ZETBKB5rKWKP"
      }
    },
    {
      "cell_type": "code",
      "source": [
        "from sklearn.metrics import f1_score, accuracy_score as accuracy"
      ],
      "metadata": {
        "id": "46scG-TzMjMu"
      },
      "execution_count": 35,
      "outputs": []
    },
    {
      "cell_type": "markdown",
      "source": [
        "## Random Forest\n",
        "**Values removed from param grid:**\n",
        "*   max_depth:\n",
        "   *   None - overfitting.\n",
        "   *   20 - overfitting.\n",
        "*   max_features:\n",
        "   *   'sqrt' - overfitting.\n",
        "   *   'log2' - overfitting.\n",
        "\n",
        "**Observations/Notes:**\n",
        "*  Suspect n_estimators=100 and max_depth=10 to be overfitting.\n",
        "*  min_samples_split=10 could possibly be overfitting? Train/test accuracy are close together, but I don't trust anything that claims to be 100% accurate in training."
      ],
      "metadata": {
        "id": "60pYh9NWQbIB"
      }
    },
    {
      "cell_type": "code",
      "source": [
        "# build random forest classifier model\n",
        "from sklearn.ensemble import RandomForestClassifier\n",
        "from sklearn.model_selection import GridSearchCV\n",
        "\n",
        "rf = RandomForestClassifier(class_weight = 'balanced', n_jobs = -1, random_state = 42)\n",
        "\n",
        "# grid of parameters to search through when performing cross validation\n",
        "rf_params = {\n",
        "    'n_estimators' : [100, 200, 500],\n",
        "    'max_depth' : [5, 10],\n",
        "    'min_samples_leaf' : [1, 5, 10],\n",
        "    'min_samples_split' : [2, 5, 10],\n",
        "    'max_features' : [0.25, 0.5]\n",
        "}\n",
        "\n",
        "# tests all permutations of the parameters outline in rf_params, returns the best performing model\n",
        "rf_model = GridSearchCV(estimator = rf,\n",
        "                        param_grid = rf_params,\n",
        "                        scoring = [\"accuracy\", \"f1_weighted\"],\n",
        "                        refit = \"f1_weighted\",\n",
        "                        cv = 5,\n",
        "                        verbose = 3,\n",
        "                        return_train_score = True,\n",
        "                        n_jobs = 1)"
      ],
      "metadata": {
        "id": "9a18V2MuQXB2"
      },
      "execution_count": 36,
      "outputs": []
    },
    {
      "cell_type": "markdown",
      "source": [
        "### Train Random Forest"
      ],
      "metadata": {
        "id": "XLFFUMQVJvo2"
      }
    },
    {
      "cell_type": "code",
      "source": [
        "#tracker.start()\n",
        "\n",
        "# train model\n",
        "rf_model.fit(X_train_res, y_train_res)\n",
        "\n",
        "#rf_emissions = tracker.stop()\n",
        "#print(f'Emissions: {rf_emissions} kg CO₂')"
      ],
      "metadata": {
        "id": "Rfd2t83SVBfc",
        "colab": {
          "base_uri": "https://localhost:8080/",
          "height": 1000
        },
        "outputId": "97952c9d-bb27-4466-c3c1-433e2b4fbe0e"
      },
      "execution_count": 37,
      "outputs": [
        {
          "output_type": "stream",
          "name": "stdout",
          "text": [
            "Fitting 5 folds for each of 108 candidates, totalling 540 fits\n",
            "[CV 1/5] END max_depth=5, max_features=0.25, min_samples_leaf=1, min_samples_split=2, n_estimators=100; accuracy: (train=0.871, test=0.865) f1_weighted: (train=0.869, test=0.864) total time=   4.6s\n",
            "[CV 2/5] END max_depth=5, max_features=0.25, min_samples_leaf=1, min_samples_split=2, n_estimators=100; accuracy: (train=0.852, test=0.847) f1_weighted: (train=0.849, test=0.844) total time=   5.5s\n",
            "[CV 3/5] END max_depth=5, max_features=0.25, min_samples_leaf=1, min_samples_split=2, n_estimators=100; accuracy: (train=0.842, test=0.848) f1_weighted: (train=0.836, test=0.842) total time=   4.3s\n",
            "[CV 4/5] END max_depth=5, max_features=0.25, min_samples_leaf=1, min_samples_split=2, n_estimators=100; accuracy: (train=0.860, test=0.858) f1_weighted: (train=0.858, test=0.854) total time=   5.7s\n",
            "[CV 5/5] END max_depth=5, max_features=0.25, min_samples_leaf=1, min_samples_split=2, n_estimators=100; accuracy: (train=0.850, test=0.850) f1_weighted: (train=0.848, test=0.848) total time=   4.3s\n",
            "[CV 1/5] END max_depth=5, max_features=0.25, min_samples_leaf=1, min_samples_split=2, n_estimators=200; accuracy: (train=0.859, test=0.853) f1_weighted: (train=0.857, test=0.852) total time=  10.3s\n",
            "[CV 2/5] END max_depth=5, max_features=0.25, min_samples_leaf=1, min_samples_split=2, n_estimators=200; accuracy: (train=0.841, test=0.835) f1_weighted: (train=0.836, test=0.830) total time=   8.3s\n",
            "[CV 3/5] END max_depth=5, max_features=0.25, min_samples_leaf=1, min_samples_split=2, n_estimators=200; accuracy: (train=0.858, test=0.861) f1_weighted: (train=0.856, test=0.859) total time=  10.3s\n",
            "[CV 4/5] END max_depth=5, max_features=0.25, min_samples_leaf=1, min_samples_split=2, n_estimators=200; accuracy: (train=0.856, test=0.852) f1_weighted: (train=0.854, test=0.850) total time=  10.2s\n",
            "[CV 5/5] END max_depth=5, max_features=0.25, min_samples_leaf=1, min_samples_split=2, n_estimators=200; accuracy: (train=0.849, test=0.851) f1_weighted: (train=0.848, test=0.849) total time=   9.6s\n",
            "[CV 1/5] END max_depth=5, max_features=0.25, min_samples_leaf=1, min_samples_split=2, n_estimators=500; accuracy: (train=0.855, test=0.852) f1_weighted: (train=0.854, test=0.851) total time=  22.7s\n",
            "[CV 2/5] END max_depth=5, max_features=0.25, min_samples_leaf=1, min_samples_split=2, n_estimators=500; accuracy: (train=0.841, test=0.834) f1_weighted: (train=0.834, test=0.826) total time=  24.5s\n",
            "[CV 3/5] END max_depth=5, max_features=0.25, min_samples_leaf=1, min_samples_split=2, n_estimators=500; accuracy: (train=0.858, test=0.859) f1_weighted: (train=0.857, test=0.857) total time=  26.8s\n",
            "[CV 4/5] END max_depth=5, max_features=0.25, min_samples_leaf=1, min_samples_split=2, n_estimators=500; accuracy: (train=0.859, test=0.854) f1_weighted: (train=0.857, test=0.852) total time=  24.7s\n",
            "[CV 5/5] END max_depth=5, max_features=0.25, min_samples_leaf=1, min_samples_split=2, n_estimators=500; accuracy: (train=0.853, test=0.854) f1_weighted: (train=0.852, test=0.852) total time=  27.4s\n",
            "[CV 1/5] END max_depth=5, max_features=0.25, min_samples_leaf=1, min_samples_split=5, n_estimators=100; accuracy: (train=0.870, test=0.863) f1_weighted: (train=0.869, test=0.862) total time=   4.3s\n",
            "[CV 2/5] END max_depth=5, max_features=0.25, min_samples_leaf=1, min_samples_split=5, n_estimators=100; accuracy: (train=0.851, test=0.847) f1_weighted: (train=0.848, test=0.844) total time=   5.1s\n",
            "[CV 3/5] END max_depth=5, max_features=0.25, min_samples_leaf=1, min_samples_split=5, n_estimators=100; accuracy: (train=0.843, test=0.849) f1_weighted: (train=0.837, test=0.844) total time=   4.8s\n",
            "[CV 4/5] END max_depth=5, max_features=0.25, min_samples_leaf=1, min_samples_split=5, n_estimators=100; accuracy: (train=0.857, test=0.853) f1_weighted: (train=0.854, test=0.850) total time=   4.2s\n",
            "[CV 5/5] END max_depth=5, max_features=0.25, min_samples_leaf=1, min_samples_split=5, n_estimators=100; accuracy: (train=0.848, test=0.848) f1_weighted: (train=0.846, test=0.846) total time=   6.2s\n",
            "[CV 1/5] END max_depth=5, max_features=0.25, min_samples_leaf=1, min_samples_split=5, n_estimators=200; accuracy: (train=0.859, test=0.853) f1_weighted: (train=0.857, test=0.852) total time=   8.4s\n",
            "[CV 2/5] END max_depth=5, max_features=0.25, min_samples_leaf=1, min_samples_split=5, n_estimators=200; accuracy: (train=0.849, test=0.844) f1_weighted: (train=0.846, test=0.842) total time=  10.3s\n",
            "[CV 3/5] END max_depth=5, max_features=0.25, min_samples_leaf=1, min_samples_split=5, n_estimators=200; accuracy: (train=0.855, test=0.857) f1_weighted: (train=0.853, test=0.855) total time=  10.3s\n",
            "[CV 4/5] END max_depth=5, max_features=0.25, min_samples_leaf=1, min_samples_split=5, n_estimators=200; accuracy: (train=0.853, test=0.849) f1_weighted: (train=0.852, test=0.847) total time=   9.1s\n",
            "[CV 5/5] END max_depth=5, max_features=0.25, min_samples_leaf=1, min_samples_split=5, n_estimators=200; accuracy: (train=0.849, test=0.850) f1_weighted: (train=0.848, test=0.849) total time=   8.8s\n",
            "[CV 1/5] END max_depth=5, max_features=0.25, min_samples_leaf=1, min_samples_split=5, n_estimators=500; accuracy: (train=0.855, test=0.852) f1_weighted: (train=0.853, test=0.851) total time=  24.5s\n",
            "[CV 2/5] END max_depth=5, max_features=0.25, min_samples_leaf=1, min_samples_split=5, n_estimators=500; accuracy: (train=0.841, test=0.835) f1_weighted: (train=0.835, test=0.827) total time=  24.8s\n",
            "[CV 3/5] END max_depth=5, max_features=0.25, min_samples_leaf=1, min_samples_split=5, n_estimators=500; accuracy: (train=0.858, test=0.859) f1_weighted: (train=0.856, test=0.857) total time=  26.8s\n",
            "[CV 4/5] END max_depth=5, max_features=0.25, min_samples_leaf=1, min_samples_split=5, n_estimators=500; accuracy: (train=0.858, test=0.852) f1_weighted: (train=0.857, test=0.850) total time=  23.2s\n",
            "[CV 5/5] END max_depth=5, max_features=0.25, min_samples_leaf=1, min_samples_split=5, n_estimators=500; accuracy: (train=0.853, test=0.854) f1_weighted: (train=0.852, test=0.852) total time=  24.6s\n",
            "[CV 1/5] END max_depth=5, max_features=0.25, min_samples_leaf=1, min_samples_split=10, n_estimators=100; accuracy: (train=0.870, test=0.864) f1_weighted: (train=0.869, test=0.863) total time=   5.5s\n",
            "[CV 2/5] END max_depth=5, max_features=0.25, min_samples_leaf=1, min_samples_split=10, n_estimators=100; accuracy: (train=0.860, test=0.856) f1_weighted: (train=0.857, test=0.854) total time=   4.2s\n",
            "[CV 3/5] END max_depth=5, max_features=0.25, min_samples_leaf=1, min_samples_split=10, n_estimators=100; accuracy: (train=0.843, test=0.849) f1_weighted: (train=0.837, test=0.843) total time=   6.0s\n",
            "[CV 4/5] END max_depth=5, max_features=0.25, min_samples_leaf=1, min_samples_split=10, n_estimators=100; accuracy: (train=0.858, test=0.857) f1_weighted: (train=0.856, test=0.853) total time=   4.3s\n",
            "[CV 5/5] END max_depth=5, max_features=0.25, min_samples_leaf=1, min_samples_split=10, n_estimators=100; accuracy: (train=0.844, test=0.846) f1_weighted: (train=0.841, test=0.843) total time=   4.3s\n",
            "[CV 1/5] END max_depth=5, max_features=0.25, min_samples_leaf=1, min_samples_split=10, n_estimators=200; accuracy: (train=0.859, test=0.853) f1_weighted: (train=0.857, test=0.852) total time=  10.9s\n",
            "[CV 2/5] END max_depth=5, max_features=0.25, min_samples_leaf=1, min_samples_split=10, n_estimators=200; accuracy: (train=0.852, test=0.848) f1_weighted: (train=0.851, test=0.846) total time=  10.3s\n",
            "[CV 3/5] END max_depth=5, max_features=0.25, min_samples_leaf=1, min_samples_split=10, n_estimators=200; accuracy: (train=0.859, test=0.861) f1_weighted: (train=0.858, test=0.860) total time=   9.6s\n",
            "[CV 4/5] END max_depth=5, max_features=0.25, min_samples_leaf=1, min_samples_split=10, n_estimators=200; accuracy: (train=0.849, test=0.845) f1_weighted: (train=0.848, test=0.842) total time=   8.4s\n",
            "[CV 5/5] END max_depth=5, max_features=0.25, min_samples_leaf=1, min_samples_split=10, n_estimators=200; accuracy: (train=0.853, test=0.855) f1_weighted: (train=0.852, test=0.854) total time=  10.3s\n",
            "[CV 1/5] END max_depth=5, max_features=0.25, min_samples_leaf=1, min_samples_split=10, n_estimators=500; accuracy: (train=0.856, test=0.855) f1_weighted: (train=0.856, test=0.855) total time=  24.6s\n",
            "[CV 2/5] END max_depth=5, max_features=0.25, min_samples_leaf=1, min_samples_split=10, n_estimators=500; accuracy: (train=0.855, test=0.851) f1_weighted: (train=0.853, test=0.849) total time=  23.0s\n",
            "[CV 3/5] END max_depth=5, max_features=0.25, min_samples_leaf=1, min_samples_split=10, n_estimators=500; accuracy: (train=0.859, test=0.859) f1_weighted: (train=0.857, test=0.857) total time=  23.2s\n",
            "[CV 4/5] END max_depth=5, max_features=0.25, min_samples_leaf=1, min_samples_split=10, n_estimators=500; accuracy: (train=0.858, test=0.853) f1_weighted: (train=0.857, test=0.851) total time=  24.4s\n",
            "[CV 5/5] END max_depth=5, max_features=0.25, min_samples_leaf=1, min_samples_split=10, n_estimators=500; accuracy: (train=0.855, test=0.855) f1_weighted: (train=0.853, test=0.854) total time=  24.4s\n",
            "[CV 1/5] END max_depth=5, max_features=0.25, min_samples_leaf=5, min_samples_split=2, n_estimators=100; accuracy: (train=0.872, test=0.867) f1_weighted: (train=0.870, test=0.866) total time=   4.3s\n",
            "[CV 2/5] END max_depth=5, max_features=0.25, min_samples_leaf=5, min_samples_split=2, n_estimators=100; accuracy: (train=0.861, test=0.857) f1_weighted: (train=0.859, test=0.855) total time=   5.7s\n",
            "[CV 3/5] END max_depth=5, max_features=0.25, min_samples_leaf=5, min_samples_split=2, n_estimators=100; accuracy: (train=0.843, test=0.849) f1_weighted: (train=0.837, test=0.843) total time=   4.3s\n",
            "[CV 4/5] END max_depth=5, max_features=0.25, min_samples_leaf=5, min_samples_split=2, n_estimators=100; accuracy: (train=0.859, test=0.857) f1_weighted: (train=0.857, test=0.855) total time=   4.2s\n",
            "[CV 5/5] END max_depth=5, max_features=0.25, min_samples_leaf=5, min_samples_split=2, n_estimators=100; accuracy: (train=0.849, test=0.850) f1_weighted: (train=0.846, test=0.848) total time=   6.2s\n",
            "[CV 1/5] END max_depth=5, max_features=0.25, min_samples_leaf=5, min_samples_split=2, n_estimators=200; accuracy: (train=0.859, test=0.853) f1_weighted: (train=0.857, test=0.852) total time=   8.5s\n",
            "[CV 2/5] END max_depth=5, max_features=0.25, min_samples_leaf=5, min_samples_split=2, n_estimators=200; accuracy: (train=0.852, test=0.848) f1_weighted: (train=0.851, test=0.846) total time=   9.5s\n",
            "[CV 3/5] END max_depth=5, max_features=0.25, min_samples_leaf=5, min_samples_split=2, n_estimators=200; accuracy: (train=0.860, test=0.863) f1_weighted: (train=0.859, test=0.861) total time=  10.3s\n",
            "[CV 4/5] END max_depth=5, max_features=0.25, min_samples_leaf=5, min_samples_split=2, n_estimators=200; accuracy: (train=0.851, test=0.846) f1_weighted: (train=0.849, test=0.843) total time=  10.1s\n",
            "[CV 5/5] END max_depth=5, max_features=0.25, min_samples_leaf=5, min_samples_split=2, n_estimators=200; accuracy: (train=0.853, test=0.853) f1_weighted: (train=0.852, test=0.852) total time=   8.3s\n",
            "[CV 1/5] END max_depth=5, max_features=0.25, min_samples_leaf=5, min_samples_split=2, n_estimators=500; accuracy: (train=0.858, test=0.856) f1_weighted: (train=0.858, test=0.857) total time=  24.5s\n",
            "[CV 2/5] END max_depth=5, max_features=0.25, min_samples_leaf=5, min_samples_split=2, n_estimators=500; accuracy: (train=0.855, test=0.851) f1_weighted: (train=0.853, test=0.849) total time=  24.4s\n",
            "[CV 3/5] END max_depth=5, max_features=0.25, min_samples_leaf=5, min_samples_split=2, n_estimators=500; accuracy: (train=0.859, test=0.860) f1_weighted: (train=0.857, test=0.858) total time=  23.0s\n",
            "[CV 4/5] END max_depth=5, max_features=0.25, min_samples_leaf=5, min_samples_split=2, n_estimators=500; accuracy: (train=0.855, test=0.850) f1_weighted: (train=0.854, test=0.848) total time=  22.5s\n",
            "[CV 5/5] END max_depth=5, max_features=0.25, min_samples_leaf=5, min_samples_split=2, n_estimators=500; accuracy: (train=0.854, test=0.855) f1_weighted: (train=0.853, test=0.854) total time=  24.5s\n",
            "[CV 1/5] END max_depth=5, max_features=0.25, min_samples_leaf=5, min_samples_split=5, n_estimators=100; accuracy: (train=0.872, test=0.867) f1_weighted: (train=0.870, test=0.866) total time=   4.5s\n",
            "[CV 2/5] END max_depth=5, max_features=0.25, min_samples_leaf=5, min_samples_split=5, n_estimators=100; accuracy: (train=0.861, test=0.857) f1_weighted: (train=0.859, test=0.855) total time=   5.4s\n",
            "[CV 3/5] END max_depth=5, max_features=0.25, min_samples_leaf=5, min_samples_split=5, n_estimators=100; accuracy: (train=0.843, test=0.849) f1_weighted: (train=0.837, test=0.843) total time=   4.3s\n",
            "[CV 4/5] END max_depth=5, max_features=0.25, min_samples_leaf=5, min_samples_split=5, n_estimators=100; accuracy: (train=0.859, test=0.857) f1_weighted: (train=0.857, test=0.855) total time=   5.8s\n",
            "[CV 5/5] END max_depth=5, max_features=0.25, min_samples_leaf=5, min_samples_split=5, n_estimators=100; accuracy: (train=0.849, test=0.850) f1_weighted: (train=0.846, test=0.848) total time=   4.2s\n",
            "[CV 1/5] END max_depth=5, max_features=0.25, min_samples_leaf=5, min_samples_split=5, n_estimators=200; accuracy: (train=0.859, test=0.853) f1_weighted: (train=0.857, test=0.852) total time=  10.3s\n",
            "[CV 2/5] END max_depth=5, max_features=0.25, min_samples_leaf=5, min_samples_split=5, n_estimators=200; accuracy: (train=0.852, test=0.848) f1_weighted: (train=0.851, test=0.846) total time=   8.3s\n",
            "[CV 3/5] END max_depth=5, max_features=0.25, min_samples_leaf=5, min_samples_split=5, n_estimators=200; accuracy: (train=0.860, test=0.863) f1_weighted: (train=0.859, test=0.861) total time=  10.1s\n",
            "[CV 4/5] END max_depth=5, max_features=0.25, min_samples_leaf=5, min_samples_split=5, n_estimators=200; accuracy: (train=0.851, test=0.846) f1_weighted: (train=0.849, test=0.843) total time=  10.3s\n",
            "[CV 5/5] END max_depth=5, max_features=0.25, min_samples_leaf=5, min_samples_split=5, n_estimators=200; accuracy: (train=0.853, test=0.853) f1_weighted: (train=0.852, test=0.852) total time=   9.4s\n",
            "[CV 1/5] END max_depth=5, max_features=0.25, min_samples_leaf=5, min_samples_split=5, n_estimators=500; accuracy: (train=0.858, test=0.856) f1_weighted: (train=0.858, test=0.857) total time=  22.7s\n",
            "[CV 2/5] END max_depth=5, max_features=0.25, min_samples_leaf=5, min_samples_split=5, n_estimators=500; accuracy: (train=0.855, test=0.851) f1_weighted: (train=0.853, test=0.849) total time=  24.4s\n",
            "[CV 3/5] END max_depth=5, max_features=0.25, min_samples_leaf=5, min_samples_split=5, n_estimators=500; accuracy: (train=0.859, test=0.860) f1_weighted: (train=0.857, test=0.858) total time=  24.3s\n",
            "[CV 4/5] END max_depth=5, max_features=0.25, min_samples_leaf=5, min_samples_split=5, n_estimators=500; accuracy: (train=0.855, test=0.850) f1_weighted: (train=0.854, test=0.848) total time=  22.7s\n",
            "[CV 5/5] END max_depth=5, max_features=0.25, min_samples_leaf=5, min_samples_split=5, n_estimators=500; accuracy: (train=0.854, test=0.855) f1_weighted: (train=0.853, test=0.854) total time=  22.8s\n",
            "[CV 1/5] END max_depth=5, max_features=0.25, min_samples_leaf=5, min_samples_split=10, n_estimators=100; accuracy: (train=0.872, test=0.867) f1_weighted: (train=0.870, test=0.866) total time=   7.7s\n",
            "[CV 2/5] END max_depth=5, max_features=0.25, min_samples_leaf=5, min_samples_split=10, n_estimators=100; accuracy: (train=0.861, test=0.857) f1_weighted: (train=0.859, test=0.855) total time=   5.3s\n",
            "[CV 3/5] END max_depth=5, max_features=0.25, min_samples_leaf=5, min_samples_split=10, n_estimators=100; accuracy: (train=0.843, test=0.849) f1_weighted: (train=0.837, test=0.843) total time=   4.7s\n",
            "[CV 4/5] END max_depth=5, max_features=0.25, min_samples_leaf=5, min_samples_split=10, n_estimators=100; accuracy: (train=0.859, test=0.857) f1_weighted: (train=0.857, test=0.855) total time=   5.2s\n",
            "[CV 5/5] END max_depth=5, max_features=0.25, min_samples_leaf=5, min_samples_split=10, n_estimators=100; accuracy: (train=0.849, test=0.850) f1_weighted: (train=0.846, test=0.848) total time=   4.2s\n",
            "[CV 1/5] END max_depth=5, max_features=0.25, min_samples_leaf=5, min_samples_split=10, n_estimators=200; accuracy: (train=0.859, test=0.853) f1_weighted: (train=0.857, test=0.852) total time=  10.3s\n",
            "[CV 2/5] END max_depth=5, max_features=0.25, min_samples_leaf=5, min_samples_split=10, n_estimators=200; accuracy: (train=0.852, test=0.848) f1_weighted: (train=0.851, test=0.846) total time=  10.3s\n",
            "[CV 3/5] END max_depth=5, max_features=0.25, min_samples_leaf=5, min_samples_split=10, n_estimators=200; accuracy: (train=0.860, test=0.863) f1_weighted: (train=0.859, test=0.861) total time=   8.3s\n",
            "[CV 4/5] END max_depth=5, max_features=0.25, min_samples_leaf=5, min_samples_split=10, n_estimators=200; accuracy: (train=0.851, test=0.846) f1_weighted: (train=0.849, test=0.843) total time=  10.2s\n",
            "[CV 5/5] END max_depth=5, max_features=0.25, min_samples_leaf=5, min_samples_split=10, n_estimators=200; accuracy: (train=0.853, test=0.853) f1_weighted: (train=0.852, test=0.852) total time=  10.2s\n",
            "[CV 1/5] END max_depth=5, max_features=0.25, min_samples_leaf=5, min_samples_split=10, n_estimators=500; accuracy: (train=0.858, test=0.856) f1_weighted: (train=0.858, test=0.857) total time=  23.3s\n",
            "[CV 2/5] END max_depth=5, max_features=0.25, min_samples_leaf=5, min_samples_split=10, n_estimators=500; accuracy: (train=0.855, test=0.851) f1_weighted: (train=0.853, test=0.849) total time=  22.5s\n",
            "[CV 3/5] END max_depth=5, max_features=0.25, min_samples_leaf=5, min_samples_split=10, n_estimators=500; accuracy: (train=0.859, test=0.860) f1_weighted: (train=0.857, test=0.858) total time=  24.3s\n",
            "[CV 4/5] END max_depth=5, max_features=0.25, min_samples_leaf=5, min_samples_split=10, n_estimators=500; accuracy: (train=0.855, test=0.850) f1_weighted: (train=0.854, test=0.848) total time=  24.3s\n",
            "[CV 5/5] END max_depth=5, max_features=0.25, min_samples_leaf=5, min_samples_split=10, n_estimators=500; accuracy: (train=0.854, test=0.855) f1_weighted: (train=0.853, test=0.854) total time=  22.6s\n",
            "[CV 1/5] END max_depth=5, max_features=0.25, min_samples_leaf=10, min_samples_split=2, n_estimators=100; accuracy: (train=0.870, test=0.865) f1_weighted: (train=0.868, test=0.864) total time=   4.7s\n",
            "[CV 2/5] END max_depth=5, max_features=0.25, min_samples_leaf=10, min_samples_split=2, n_estimators=100; accuracy: (train=0.866, test=0.861) f1_weighted: (train=0.863, test=0.859) total time=   4.2s\n",
            "[CV 3/5] END max_depth=5, max_features=0.25, min_samples_leaf=10, min_samples_split=2, n_estimators=100; accuracy: (train=0.851, test=0.855) f1_weighted: (train=0.844, test=0.849) total time=   6.2s\n",
            "[CV 4/5] END max_depth=5, max_features=0.25, min_samples_leaf=10, min_samples_split=2, n_estimators=100; accuracy: (train=0.857, test=0.853) f1_weighted: (train=0.856, test=0.851) total time=   4.2s\n",
            "[CV 5/5] END max_depth=5, max_features=0.25, min_samples_leaf=10, min_samples_split=2, n_estimators=100; accuracy: (train=0.843, test=0.844) f1_weighted: (train=0.841, test=0.842) total time=   4.2s\n",
            "[CV 1/5] END max_depth=5, max_features=0.25, min_samples_leaf=10, min_samples_split=2, n_estimators=200; accuracy: (train=0.855, test=0.851) f1_weighted: (train=0.853, test=0.850) total time=  10.0s\n",
            "[CV 2/5] END max_depth=5, max_features=0.25, min_samples_leaf=10, min_samples_split=2, n_estimators=200; accuracy: (train=0.852, test=0.847) f1_weighted: (train=0.850, test=0.845) total time=  10.3s\n",
            "[CV 3/5] END max_depth=5, max_features=0.25, min_samples_leaf=10, min_samples_split=2, n_estimators=200; accuracy: (train=0.863, test=0.865) f1_weighted: (train=0.861, test=0.863) total time=   9.5s\n",
            "[CV 4/5] END max_depth=5, max_features=0.25, min_samples_leaf=10, min_samples_split=2, n_estimators=200; accuracy: (train=0.853, test=0.846) f1_weighted: (train=0.851, test=0.844) total time=   8.4s\n",
            "[CV 5/5] END max_depth=5, max_features=0.25, min_samples_leaf=10, min_samples_split=2, n_estimators=200; accuracy: (train=0.848, test=0.849) f1_weighted: (train=0.846, test=0.848) total time=  10.2s\n",
            "[CV 1/5] END max_depth=5, max_features=0.25, min_samples_leaf=10, min_samples_split=2, n_estimators=500; accuracy: (train=0.854, test=0.852) f1_weighted: (train=0.854, test=0.852) total time=  24.4s\n",
            "[CV 2/5] END max_depth=5, max_features=0.25, min_samples_leaf=10, min_samples_split=2, n_estimators=500; accuracy: (train=0.853, test=0.849) f1_weighted: (train=0.851, test=0.847) total time=  22.4s\n",
            "[CV 3/5] END max_depth=5, max_features=0.25, min_samples_leaf=10, min_samples_split=2, n_estimators=500; accuracy: (train=0.858, test=0.859) f1_weighted: (train=0.857, test=0.857) total time=  23.5s\n",
            "[CV 4/5] END max_depth=5, max_features=0.25, min_samples_leaf=10, min_samples_split=2, n_estimators=500; accuracy: (train=0.856, test=0.852) f1_weighted: (train=0.856, test=0.850) total time=  24.3s\n",
            "[CV 5/5] END max_depth=5, max_features=0.25, min_samples_leaf=10, min_samples_split=2, n_estimators=500; accuracy: (train=0.849, test=0.849) f1_weighted: (train=0.847, test=0.848) total time=  23.9s\n",
            "[CV 1/5] END max_depth=5, max_features=0.25, min_samples_leaf=10, min_samples_split=5, n_estimators=100; accuracy: (train=0.870, test=0.865) f1_weighted: (train=0.868, test=0.864) total time=   4.3s\n",
            "[CV 2/5] END max_depth=5, max_features=0.25, min_samples_leaf=10, min_samples_split=5, n_estimators=100; accuracy: (train=0.866, test=0.861) f1_weighted: (train=0.863, test=0.859) total time=   4.2s\n",
            "[CV 3/5] END max_depth=5, max_features=0.25, min_samples_leaf=10, min_samples_split=5, n_estimators=100; accuracy: (train=0.851, test=0.855) f1_weighted: (train=0.844, test=0.849) total time=   5.8s\n",
            "[CV 4/5] END max_depth=5, max_features=0.25, min_samples_leaf=10, min_samples_split=5, n_estimators=100; accuracy: (train=0.857, test=0.853) f1_weighted: (train=0.856, test=0.851) total time=   4.2s\n",
            "[CV 5/5] END max_depth=5, max_features=0.25, min_samples_leaf=10, min_samples_split=5, n_estimators=100; accuracy: (train=0.843, test=0.844) f1_weighted: (train=0.841, test=0.842) total time=   5.3s\n",
            "[CV 1/5] END max_depth=5, max_features=0.25, min_samples_leaf=10, min_samples_split=5, n_estimators=200; accuracy: (train=0.855, test=0.851) f1_weighted: (train=0.853, test=0.850) total time=   8.7s\n",
            "[CV 2/5] END max_depth=5, max_features=0.25, min_samples_leaf=10, min_samples_split=5, n_estimators=200; accuracy: (train=0.852, test=0.847) f1_weighted: (train=0.850, test=0.845) total time=  10.3s\n",
            "[CV 3/5] END max_depth=5, max_features=0.25, min_samples_leaf=10, min_samples_split=5, n_estimators=200; accuracy: (train=0.863, test=0.865) f1_weighted: (train=0.861, test=0.863) total time=  10.3s\n",
            "[CV 4/5] END max_depth=5, max_features=0.25, min_samples_leaf=10, min_samples_split=5, n_estimators=200; accuracy: (train=0.853, test=0.846) f1_weighted: (train=0.851, test=0.844) total time=   8.3s\n",
            "[CV 5/5] END max_depth=5, max_features=0.25, min_samples_leaf=10, min_samples_split=5, n_estimators=200; accuracy: (train=0.848, test=0.849) f1_weighted: (train=0.846, test=0.848) total time=   9.7s\n",
            "[CV 1/5] END max_depth=5, max_features=0.25, min_samples_leaf=10, min_samples_split=5, n_estimators=500; accuracy: (train=0.854, test=0.852) f1_weighted: (train=0.854, test=0.852) total time=  24.4s\n",
            "[CV 2/5] END max_depth=5, max_features=0.25, min_samples_leaf=10, min_samples_split=5, n_estimators=500; accuracy: (train=0.853, test=0.849) f1_weighted: (train=0.851, test=0.847) total time=  23.8s\n",
            "[CV 3/5] END max_depth=5, max_features=0.25, min_samples_leaf=10, min_samples_split=5, n_estimators=500; accuracy: (train=0.858, test=0.859) f1_weighted: (train=0.857, test=0.857) total time=  22.4s\n",
            "[CV 4/5] END max_depth=5, max_features=0.25, min_samples_leaf=10, min_samples_split=5, n_estimators=500; accuracy: (train=0.856, test=0.852) f1_weighted: (train=0.856, test=0.850) total time=  24.1s\n",
            "[CV 5/5] END max_depth=5, max_features=0.25, min_samples_leaf=10, min_samples_split=5, n_estimators=500; accuracy: (train=0.849, test=0.849) f1_weighted: (train=0.847, test=0.848) total time=  24.4s\n",
            "[CV 1/5] END max_depth=5, max_features=0.25, min_samples_leaf=10, min_samples_split=10, n_estimators=100; accuracy: (train=0.870, test=0.865) f1_weighted: (train=0.868, test=0.864) total time=   4.3s\n",
            "[CV 2/5] END max_depth=5, max_features=0.25, min_samples_leaf=10, min_samples_split=10, n_estimators=100; accuracy: (train=0.866, test=0.861) f1_weighted: (train=0.863, test=0.859) total time=   6.1s\n",
            "[CV 3/5] END max_depth=5, max_features=0.25, min_samples_leaf=10, min_samples_split=10, n_estimators=100; accuracy: (train=0.851, test=0.855) f1_weighted: (train=0.844, test=0.849) total time=   4.3s\n",
            "[CV 4/5] END max_depth=5, max_features=0.25, min_samples_leaf=10, min_samples_split=10, n_estimators=100; accuracy: (train=0.857, test=0.853) f1_weighted: (train=0.856, test=0.851) total time=   4.2s\n",
            "[CV 5/5] END max_depth=5, max_features=0.25, min_samples_leaf=10, min_samples_split=10, n_estimators=100; accuracy: (train=0.843, test=0.844) f1_weighted: (train=0.841, test=0.842) total time=   6.3s\n",
            "[CV 1/5] END max_depth=5, max_features=0.25, min_samples_leaf=10, min_samples_split=10, n_estimators=200; accuracy: (train=0.855, test=0.851) f1_weighted: (train=0.853, test=0.850) total time=   8.7s\n",
            "[CV 2/5] END max_depth=5, max_features=0.25, min_samples_leaf=10, min_samples_split=10, n_estimators=200; accuracy: (train=0.852, test=0.847) f1_weighted: (train=0.850, test=0.845) total time=   9.3s\n",
            "[CV 3/5] END max_depth=5, max_features=0.25, min_samples_leaf=10, min_samples_split=10, n_estimators=200; accuracy: (train=0.863, test=0.865) f1_weighted: (train=0.861, test=0.863) total time=  10.3s\n",
            "[CV 4/5] END max_depth=5, max_features=0.25, min_samples_leaf=10, min_samples_split=10, n_estimators=200; accuracy: (train=0.853, test=0.846) f1_weighted: (train=0.851, test=0.844) total time=  10.1s\n",
            "[CV 5/5] END max_depth=5, max_features=0.25, min_samples_leaf=10, min_samples_split=10, n_estimators=200; accuracy: (train=0.848, test=0.849) f1_weighted: (train=0.846, test=0.848) total time=   8.4s\n",
            "[CV 1/5] END max_depth=5, max_features=0.25, min_samples_leaf=10, min_samples_split=10, n_estimators=500; accuracy: (train=0.854, test=0.852) f1_weighted: (train=0.854, test=0.852) total time=  24.5s\n",
            "[CV 2/5] END max_depth=5, max_features=0.25, min_samples_leaf=10, min_samples_split=10, n_estimators=500; accuracy: (train=0.853, test=0.849) f1_weighted: (train=0.851, test=0.847) total time=  24.4s\n",
            "[CV 3/5] END max_depth=5, max_features=0.25, min_samples_leaf=10, min_samples_split=10, n_estimators=500; accuracy: (train=0.858, test=0.859) f1_weighted: (train=0.857, test=0.857) total time=  22.8s\n",
            "[CV 4/5] END max_depth=5, max_features=0.25, min_samples_leaf=10, min_samples_split=10, n_estimators=500; accuracy: (train=0.856, test=0.852) f1_weighted: (train=0.856, test=0.850) total time=  22.6s\n",
            "[CV 5/5] END max_depth=5, max_features=0.25, min_samples_leaf=10, min_samples_split=10, n_estimators=500; accuracy: (train=0.849, test=0.849) f1_weighted: (train=0.847, test=0.848) total time=  24.4s\n",
            "[CV 1/5] END max_depth=5, max_features=0.5, min_samples_leaf=1, min_samples_split=2, n_estimators=100; accuracy: (train=0.939, test=0.935) f1_weighted: (train=0.938, test=0.934) total time=   9.8s\n",
            "[CV 2/5] END max_depth=5, max_features=0.5, min_samples_leaf=1, min_samples_split=2, n_estimators=100; accuracy: (train=0.947, test=0.944) f1_weighted: (train=0.946, test=0.943) total time=   7.9s\n",
            "[CV 3/5] END max_depth=5, max_features=0.5, min_samples_leaf=1, min_samples_split=2, n_estimators=100; accuracy: (train=0.890, test=0.891) f1_weighted: (train=0.884, test=0.885) total time=   9.8s\n",
            "[CV 4/5] END max_depth=5, max_features=0.5, min_samples_leaf=1, min_samples_split=2, n_estimators=100; accuracy: (train=0.926, test=0.928) f1_weighted: (train=0.925, test=0.927) total time=   9.8s\n",
            "[CV 5/5] END max_depth=5, max_features=0.5, min_samples_leaf=1, min_samples_split=2, n_estimators=100; accuracy: (train=0.924, test=0.923) f1_weighted: (train=0.923, test=0.922) total time=   7.9s\n",
            "[CV 1/5] END max_depth=5, max_features=0.5, min_samples_leaf=1, min_samples_split=2, n_estimators=200; accuracy: (train=0.939, test=0.934) f1_weighted: (train=0.938, test=0.933) total time=  18.6s\n",
            "[CV 2/5] END max_depth=5, max_features=0.5, min_samples_leaf=1, min_samples_split=2, n_estimators=200; accuracy: (train=0.941, test=0.936) f1_weighted: (train=0.941, test=0.935) total time=  17.5s\n",
            "[CV 3/5] END max_depth=5, max_features=0.5, min_samples_leaf=1, min_samples_split=2, n_estimators=200; accuracy: (train=0.912, test=0.913) f1_weighted: (train=0.910, test=0.911) total time=  17.2s\n",
            "[CV 4/5] END max_depth=5, max_features=0.5, min_samples_leaf=1, min_samples_split=2, n_estimators=200; accuracy: (train=0.930, test=0.930) f1_weighted: (train=0.929, test=0.929) total time=  17.3s\n",
            "[CV 5/5] END max_depth=5, max_features=0.5, min_samples_leaf=1, min_samples_split=2, n_estimators=200; accuracy: (train=0.930, test=0.930) f1_weighted: (train=0.929, test=0.929) total time=  19.1s\n",
            "[CV 1/5] END max_depth=5, max_features=0.5, min_samples_leaf=1, min_samples_split=2, n_estimators=500; accuracy: (train=0.938, test=0.932) f1_weighted: (train=0.937, test=0.931) total time=  44.2s\n",
            "[CV 2/5] END max_depth=5, max_features=0.5, min_samples_leaf=1, min_samples_split=2, n_estimators=500; accuracy: (train=0.939, test=0.933) f1_weighted: (train=0.938, test=0.933) total time=  44.0s\n",
            "[CV 3/5] END max_depth=5, max_features=0.5, min_samples_leaf=1, min_samples_split=2, n_estimators=500; accuracy: (train=0.913, test=0.917) f1_weighted: (train=0.912, test=0.915) total time=  43.9s\n",
            "[CV 4/5] END max_depth=5, max_features=0.5, min_samples_leaf=1, min_samples_split=2, n_estimators=500; accuracy: (train=0.929, test=0.932) f1_weighted: (train=0.928, test=0.930) total time=  44.1s\n",
            "[CV 5/5] END max_depth=5, max_features=0.5, min_samples_leaf=1, min_samples_split=2, n_estimators=500; accuracy: (train=0.923, test=0.922) f1_weighted: (train=0.921, test=0.921) total time=  44.1s\n",
            "[CV 1/5] END max_depth=5, max_features=0.5, min_samples_leaf=1, min_samples_split=5, n_estimators=100; accuracy: (train=0.939, test=0.935) f1_weighted: (train=0.938, test=0.934) total time=   9.8s\n",
            "[CV 2/5] END max_depth=5, max_features=0.5, min_samples_leaf=1, min_samples_split=5, n_estimators=100; accuracy: (train=0.929, test=0.927) f1_weighted: (train=0.927, test=0.925) total time=   8.5s\n",
            "[CV 3/5] END max_depth=5, max_features=0.5, min_samples_leaf=1, min_samples_split=5, n_estimators=100; accuracy: (train=0.891, test=0.892) f1_weighted: (train=0.885, test=0.886) total time=   8.7s\n",
            "[CV 4/5] END max_depth=5, max_features=0.5, min_samples_leaf=1, min_samples_split=5, n_estimators=100; accuracy: (train=0.927, test=0.928) f1_weighted: (train=0.926, test=0.927) total time=   9.8s\n",
            "[CV 5/5] END max_depth=5, max_features=0.5, min_samples_leaf=1, min_samples_split=5, n_estimators=100; accuracy: (train=0.924, test=0.923) f1_weighted: (train=0.923, test=0.921) total time=   8.1s\n",
            "[CV 1/5] END max_depth=5, max_features=0.5, min_samples_leaf=1, min_samples_split=5, n_estimators=200; accuracy: (train=0.937, test=0.932) f1_weighted: (train=0.936, test=0.931) total time=  18.6s\n",
            "[CV 2/5] END max_depth=5, max_features=0.5, min_samples_leaf=1, min_samples_split=5, n_estimators=200; accuracy: (train=0.941, test=0.936) f1_weighted: (train=0.940, test=0.935) total time=  17.4s\n",
            "[CV 3/5] END max_depth=5, max_features=0.5, min_samples_leaf=1, min_samples_split=5, n_estimators=200; accuracy: (train=0.912, test=0.913) f1_weighted: (train=0.911, test=0.911) total time=  17.2s\n",
            "[CV 4/5] END max_depth=5, max_features=0.5, min_samples_leaf=1, min_samples_split=5, n_estimators=200; accuracy: (train=0.927, test=0.928) f1_weighted: (train=0.926, test=0.927) total time=  18.0s\n",
            "[CV 5/5] END max_depth=5, max_features=0.5, min_samples_leaf=1, min_samples_split=5, n_estimators=200; accuracy: (train=0.928, test=0.928) f1_weighted: (train=0.927, test=0.926) total time=  18.0s\n",
            "[CV 1/5] END max_depth=5, max_features=0.5, min_samples_leaf=1, min_samples_split=5, n_estimators=500; accuracy: (train=0.938, test=0.933) f1_weighted: (train=0.938, test=0.932) total time=  44.2s\n",
            "[CV 2/5] END max_depth=5, max_features=0.5, min_samples_leaf=1, min_samples_split=5, n_estimators=500; accuracy: (train=0.939, test=0.933) f1_weighted: (train=0.938, test=0.932) total time=  44.1s\n",
            "[CV 3/5] END max_depth=5, max_features=0.5, min_samples_leaf=1, min_samples_split=5, n_estimators=500; accuracy: (train=0.913, test=0.917) f1_weighted: (train=0.912, test=0.915) total time=  44.1s\n",
            "[CV 4/5] END max_depth=5, max_features=0.5, min_samples_leaf=1, min_samples_split=5, n_estimators=500; accuracy: (train=0.926, test=0.929) f1_weighted: (train=0.925, test=0.927) total time=  44.1s\n",
            "[CV 5/5] END max_depth=5, max_features=0.5, min_samples_leaf=1, min_samples_split=5, n_estimators=500; accuracy: (train=0.922, test=0.922) f1_weighted: (train=0.921, test=0.921) total time=  44.1s\n",
            "[CV 1/5] END max_depth=5, max_features=0.5, min_samples_leaf=1, min_samples_split=10, n_estimators=100; accuracy: (train=0.939, test=0.934) f1_weighted: (train=0.938, test=0.933) total time=   9.8s\n",
            "[CV 2/5] END max_depth=5, max_features=0.5, min_samples_leaf=1, min_samples_split=10, n_estimators=100; accuracy: (train=0.934, test=0.930) f1_weighted: (train=0.933, test=0.929) total time=   9.8s\n",
            "[CV 3/5] END max_depth=5, max_features=0.5, min_samples_leaf=1, min_samples_split=10, n_estimators=100; accuracy: (train=0.891, test=0.893) f1_weighted: (train=0.886, test=0.887) total time=   7.8s\n",
            "[CV 4/5] END max_depth=5, max_features=0.5, min_samples_leaf=1, min_samples_split=10, n_estimators=100; accuracy: (train=0.924, test=0.926) f1_weighted: (train=0.923, test=0.925) total time=   9.8s\n",
            "[CV 5/5] END max_depth=5, max_features=0.5, min_samples_leaf=1, min_samples_split=10, n_estimators=100; accuracy: (train=0.924, test=0.922) f1_weighted: (train=0.923, test=0.921) total time=   9.4s\n",
            "[CV 1/5] END max_depth=5, max_features=0.5, min_samples_leaf=1, min_samples_split=10, n_estimators=200; accuracy: (train=0.938, test=0.932) f1_weighted: (train=0.937, test=0.931) total time=  17.4s\n",
            "[CV 2/5] END max_depth=5, max_features=0.5, min_samples_leaf=1, min_samples_split=10, n_estimators=200; accuracy: (train=0.941, test=0.936) f1_weighted: (train=0.941, test=0.936) total time=  17.4s\n",
            "[CV 3/5] END max_depth=5, max_features=0.5, min_samples_leaf=1, min_samples_split=10, n_estimators=200; accuracy: (train=0.912, test=0.914) f1_weighted: (train=0.911, test=0.912) total time=  17.3s\n",
            "[CV 4/5] END max_depth=5, max_features=0.5, min_samples_leaf=1, min_samples_split=10, n_estimators=200; accuracy: (train=0.927, test=0.929) f1_weighted: (train=0.926, test=0.927) total time=  19.3s\n",
            "[CV 5/5] END max_depth=5, max_features=0.5, min_samples_leaf=1, min_samples_split=10, n_estimators=200; accuracy: (train=0.936, test=0.934) f1_weighted: (train=0.935, test=0.933) total time=  17.4s\n",
            "[CV 1/5] END max_depth=5, max_features=0.5, min_samples_leaf=1, min_samples_split=10, n_estimators=500; accuracy: (train=0.939, test=0.933) f1_weighted: (train=0.938, test=0.932) total time=  44.2s\n",
            "[CV 2/5] END max_depth=5, max_features=0.5, min_samples_leaf=1, min_samples_split=10, n_estimators=500; accuracy: (train=0.936, test=0.929) f1_weighted: (train=0.935, test=0.928) total time=  44.0s\n",
            "[CV 3/5] END max_depth=5, max_features=0.5, min_samples_leaf=1, min_samples_split=10, n_estimators=500; accuracy: (train=0.913, test=0.916) f1_weighted: (train=0.911, test=0.915) total time=  44.2s\n",
            "[CV 4/5] END max_depth=5, max_features=0.5, min_samples_leaf=1, min_samples_split=10, n_estimators=500; accuracy: (train=0.928, test=0.931) f1_weighted: (train=0.927, test=0.929) total time=  44.1s\n",
            "[CV 5/5] END max_depth=5, max_features=0.5, min_samples_leaf=1, min_samples_split=10, n_estimators=500; accuracy: (train=0.922, test=0.922) f1_weighted: (train=0.921, test=0.921) total time=  44.2s\n",
            "[CV 1/5] END max_depth=5, max_features=0.5, min_samples_leaf=5, min_samples_split=2, n_estimators=100; accuracy: (train=0.940, test=0.934) f1_weighted: (train=0.939, test=0.933) total time=   8.8s\n",
            "[CV 2/5] END max_depth=5, max_features=0.5, min_samples_leaf=5, min_samples_split=2, n_estimators=100; accuracy: (train=0.930, test=0.925) f1_weighted: (train=0.929, test=0.924) total time=   9.8s\n",
            "[CV 3/5] END max_depth=5, max_features=0.5, min_samples_leaf=5, min_samples_split=2, n_estimators=100; accuracy: (train=0.891, test=0.892) f1_weighted: (train=0.886, test=0.886) total time=   8.0s\n",
            "[CV 4/5] END max_depth=5, max_features=0.5, min_samples_leaf=5, min_samples_split=2, n_estimators=100; accuracy: (train=0.924, test=0.926) f1_weighted: (train=0.923, test=0.925) total time=   9.0s\n",
            "[CV 5/5] END max_depth=5, max_features=0.5, min_samples_leaf=5, min_samples_split=2, n_estimators=100; accuracy: (train=0.923, test=0.922) f1_weighted: (train=0.922, test=0.921) total time=   9.8s\n",
            "[CV 1/5] END max_depth=5, max_features=0.5, min_samples_leaf=5, min_samples_split=2, n_estimators=200; accuracy: (train=0.936, test=0.930) f1_weighted: (train=0.935, test=0.929) total time=  17.4s\n",
            "[CV 2/5] END max_depth=5, max_features=0.5, min_samples_leaf=5, min_samples_split=2, n_estimators=200; accuracy: (train=0.941, test=0.936) f1_weighted: (train=0.940, test=0.935) total time=  17.3s\n",
            "[CV 3/5] END max_depth=5, max_features=0.5, min_samples_leaf=5, min_samples_split=2, n_estimators=200; accuracy: (train=0.912, test=0.913) f1_weighted: (train=0.910, test=0.911) total time=  20.6s\n",
            "[CV 4/5] END max_depth=5, max_features=0.5, min_samples_leaf=5, min_samples_split=2, n_estimators=200; accuracy: (train=0.942, test=0.945) f1_weighted: (train=0.941, test=0.945) total time=  19.0s\n",
            "[CV 5/5] END max_depth=5, max_features=0.5, min_samples_leaf=5, min_samples_split=2, n_estimators=200; accuracy: (train=0.926, test=0.925) f1_weighted: (train=0.925, test=0.923) total time=  17.3s\n",
            "[CV 1/5] END max_depth=5, max_features=0.5, min_samples_leaf=5, min_samples_split=2, n_estimators=500; accuracy: (train=0.938, test=0.931) f1_weighted: (train=0.937, test=0.930) total time=  44.2s\n",
            "[CV 2/5] END max_depth=5, max_features=0.5, min_samples_leaf=5, min_samples_split=2, n_estimators=500; accuracy: (train=0.935, test=0.929) f1_weighted: (train=0.935, test=0.928) total time=  44.1s\n",
            "[CV 3/5] END max_depth=5, max_features=0.5, min_samples_leaf=5, min_samples_split=2, n_estimators=500; accuracy: (train=0.912, test=0.915) f1_weighted: (train=0.911, test=0.914) total time=  44.0s\n",
            "[CV 4/5] END max_depth=5, max_features=0.5, min_samples_leaf=5, min_samples_split=2, n_estimators=500; accuracy: (train=0.929, test=0.931) f1_weighted: (train=0.928, test=0.930) total time=  44.0s\n",
            "[CV 5/5] END max_depth=5, max_features=0.5, min_samples_leaf=5, min_samples_split=2, n_estimators=500; accuracy: (train=0.921, test=0.922) f1_weighted: (train=0.920, test=0.921) total time=  44.1s\n",
            "[CV 1/5] END max_depth=5, max_features=0.5, min_samples_leaf=5, min_samples_split=5, n_estimators=100; accuracy: (train=0.940, test=0.934) f1_weighted: (train=0.939, test=0.933) total time=   9.8s\n",
            "[CV 2/5] END max_depth=5, max_features=0.5, min_samples_leaf=5, min_samples_split=5, n_estimators=100; accuracy: (train=0.930, test=0.925) f1_weighted: (train=0.929, test=0.924) total time=   7.8s\n",
            "[CV 3/5] END max_depth=5, max_features=0.5, min_samples_leaf=5, min_samples_split=5, n_estimators=100; accuracy: (train=0.891, test=0.892) f1_weighted: (train=0.886, test=0.886) total time=   9.7s\n",
            "[CV 4/5] END max_depth=5, max_features=0.5, min_samples_leaf=5, min_samples_split=5, n_estimators=100; accuracy: (train=0.924, test=0.926) f1_weighted: (train=0.923, test=0.925) total time=   9.8s\n",
            "[CV 5/5] END max_depth=5, max_features=0.5, min_samples_leaf=5, min_samples_split=5, n_estimators=100; accuracy: (train=0.923, test=0.922) f1_weighted: (train=0.922, test=0.921) total time=   7.8s\n",
            "[CV 1/5] END max_depth=5, max_features=0.5, min_samples_leaf=5, min_samples_split=5, n_estimators=200; accuracy: (train=0.936, test=0.930) f1_weighted: (train=0.935, test=0.929) total time=  18.5s\n",
            "[CV 2/5] END max_depth=5, max_features=0.5, min_samples_leaf=5, min_samples_split=5, n_estimators=200; accuracy: (train=0.941, test=0.936) f1_weighted: (train=0.940, test=0.935) total time=  17.4s\n",
            "[CV 3/5] END max_depth=5, max_features=0.5, min_samples_leaf=5, min_samples_split=5, n_estimators=200; accuracy: (train=0.912, test=0.913) f1_weighted: (train=0.910, test=0.911) total time=  17.2s\n",
            "[CV 4/5] END max_depth=5, max_features=0.5, min_samples_leaf=5, min_samples_split=5, n_estimators=200; accuracy: (train=0.942, test=0.945) f1_weighted: (train=0.941, test=0.945) total time=  17.4s\n",
            "[CV 5/5] END max_depth=5, max_features=0.5, min_samples_leaf=5, min_samples_split=5, n_estimators=200; accuracy: (train=0.926, test=0.925) f1_weighted: (train=0.925, test=0.923) total time=  18.8s\n",
            "[CV 1/5] END max_depth=5, max_features=0.5, min_samples_leaf=5, min_samples_split=5, n_estimators=500; accuracy: (train=0.938, test=0.931) f1_weighted: (train=0.937, test=0.930) total time=  44.1s\n",
            "[CV 2/5] END max_depth=5, max_features=0.5, min_samples_leaf=5, min_samples_split=5, n_estimators=500; accuracy: (train=0.935, test=0.929) f1_weighted: (train=0.935, test=0.928) total time=  43.9s\n",
            "[CV 3/5] END max_depth=5, max_features=0.5, min_samples_leaf=5, min_samples_split=5, n_estimators=500; accuracy: (train=0.912, test=0.915) f1_weighted: (train=0.911, test=0.914) total time=  43.9s\n",
            "[CV 4/5] END max_depth=5, max_features=0.5, min_samples_leaf=5, min_samples_split=5, n_estimators=500; accuracy: (train=0.929, test=0.931) f1_weighted: (train=0.928, test=0.930) total time=  44.0s\n",
            "[CV 5/5] END max_depth=5, max_features=0.5, min_samples_leaf=5, min_samples_split=5, n_estimators=500; accuracy: (train=0.921, test=0.922) f1_weighted: (train=0.920, test=0.921) total time=  44.0s\n",
            "[CV 1/5] END max_depth=5, max_features=0.5, min_samples_leaf=5, min_samples_split=10, n_estimators=100; accuracy: (train=0.940, test=0.934) f1_weighted: (train=0.939, test=0.933) total time=   9.8s\n",
            "[CV 2/5] END max_depth=5, max_features=0.5, min_samples_leaf=5, min_samples_split=10, n_estimators=100; accuracy: (train=0.930, test=0.925) f1_weighted: (train=0.929, test=0.924) total time=   7.8s\n",
            "[CV 3/5] END max_depth=5, max_features=0.5, min_samples_leaf=5, min_samples_split=10, n_estimators=100; accuracy: (train=0.891, test=0.892) f1_weighted: (train=0.886, test=0.886) total time=   9.5s\n",
            "[CV 4/5] END max_depth=5, max_features=0.5, min_samples_leaf=5, min_samples_split=10, n_estimators=100; accuracy: (train=0.924, test=0.926) f1_weighted: (train=0.923, test=0.925) total time=   9.7s\n",
            "[CV 5/5] END max_depth=5, max_features=0.5, min_samples_leaf=5, min_samples_split=10, n_estimators=100; accuracy: (train=0.923, test=0.922) f1_weighted: (train=0.922, test=0.921) total time=   7.7s\n",
            "[CV 1/5] END max_depth=5, max_features=0.5, min_samples_leaf=5, min_samples_split=10, n_estimators=200; accuracy: (train=0.936, test=0.930) f1_weighted: (train=0.935, test=0.929) total time=  18.9s\n",
            "[CV 2/5] END max_depth=5, max_features=0.5, min_samples_leaf=5, min_samples_split=10, n_estimators=200; accuracy: (train=0.941, test=0.936) f1_weighted: (train=0.940, test=0.935) total time=  17.3s\n",
            "[CV 3/5] END max_depth=5, max_features=0.5, min_samples_leaf=5, min_samples_split=10, n_estimators=200; accuracy: (train=0.912, test=0.913) f1_weighted: (train=0.910, test=0.911) total time=  17.3s\n",
            "[CV 4/5] END max_depth=5, max_features=0.5, min_samples_leaf=5, min_samples_split=10, n_estimators=200; accuracy: (train=0.942, test=0.945) f1_weighted: (train=0.941, test=0.945) total time=  17.3s\n",
            "[CV 5/5] END max_depth=5, max_features=0.5, min_samples_leaf=5, min_samples_split=10, n_estimators=200; accuracy: (train=0.926, test=0.925) f1_weighted: (train=0.925, test=0.923) total time=  18.9s\n",
            "[CV 1/5] END max_depth=5, max_features=0.5, min_samples_leaf=5, min_samples_split=10, n_estimators=500; accuracy: (train=0.938, test=0.931) f1_weighted: (train=0.937, test=0.930) total time=  44.2s\n",
            "[CV 2/5] END max_depth=5, max_features=0.5, min_samples_leaf=5, min_samples_split=10, n_estimators=500; accuracy: (train=0.935, test=0.929) f1_weighted: (train=0.935, test=0.928) total time=  43.9s\n",
            "[CV 3/5] END max_depth=5, max_features=0.5, min_samples_leaf=5, min_samples_split=10, n_estimators=500; accuracy: (train=0.912, test=0.915) f1_weighted: (train=0.911, test=0.914) total time=  44.0s\n",
            "[CV 4/5] END max_depth=5, max_features=0.5, min_samples_leaf=5, min_samples_split=10, n_estimators=500; accuracy: (train=0.929, test=0.931) f1_weighted: (train=0.928, test=0.930) total time=  44.0s\n",
            "[CV 5/5] END max_depth=5, max_features=0.5, min_samples_leaf=5, min_samples_split=10, n_estimators=500; accuracy: (train=0.921, test=0.922) f1_weighted: (train=0.920, test=0.921) total time=  44.0s\n",
            "[CV 1/5] END max_depth=5, max_features=0.5, min_samples_leaf=10, min_samples_split=2, n_estimators=100; accuracy: (train=0.940, test=0.934) f1_weighted: (train=0.939, test=0.933) total time=   9.8s\n",
            "[CV 2/5] END max_depth=5, max_features=0.5, min_samples_leaf=10, min_samples_split=2, n_estimators=100; accuracy: (train=0.922, test=0.920) f1_weighted: (train=0.921, test=0.919) total time=   8.8s\n",
            "[CV 3/5] END max_depth=5, max_features=0.5, min_samples_leaf=10, min_samples_split=2, n_estimators=100; accuracy: (train=0.892, test=0.894) f1_weighted: (train=0.887, test=0.888) total time=   8.3s\n",
            "[CV 4/5] END max_depth=5, max_features=0.5, min_samples_leaf=10, min_samples_split=2, n_estimators=100; accuracy: (train=0.938, test=0.941) f1_weighted: (train=0.937, test=0.941) total time=   9.7s\n",
            "[CV 5/5] END max_depth=5, max_features=0.5, min_samples_leaf=10, min_samples_split=2, n_estimators=100; accuracy: (train=0.922, test=0.918) f1_weighted: (train=0.921, test=0.917) total time=   8.3s\n",
            "[CV 1/5] END max_depth=5, max_features=0.5, min_samples_leaf=10, min_samples_split=2, n_estimators=200; accuracy: (train=0.939, test=0.933) f1_weighted: (train=0.939, test=0.932) total time=  18.3s\n",
            "[CV 2/5] END max_depth=5, max_features=0.5, min_samples_leaf=10, min_samples_split=2, n_estimators=200; accuracy: (train=0.933, test=0.930) f1_weighted: (train=0.933, test=0.929) total time=  17.3s\n",
            "[CV 3/5] END max_depth=5, max_features=0.5, min_samples_leaf=10, min_samples_split=2, n_estimators=200; accuracy: (train=0.911, test=0.912) f1_weighted: (train=0.909, test=0.910) total time=  17.2s\n",
            "[CV 4/5] END max_depth=5, max_features=0.5, min_samples_leaf=10, min_samples_split=2, n_estimators=200; accuracy: (train=0.937, test=0.939) f1_weighted: (train=0.936, test=0.939) total time=  18.1s\n",
            "[CV 5/5] END max_depth=5, max_features=0.5, min_samples_leaf=10, min_samples_split=2, n_estimators=200; accuracy: (train=0.915, test=0.914) f1_weighted: (train=0.914, test=0.912) total time=  17.6s\n",
            "[CV 1/5] END max_depth=5, max_features=0.5, min_samples_leaf=10, min_samples_split=2, n_estimators=500; accuracy: (train=0.937, test=0.931) f1_weighted: (train=0.937, test=0.930) total time=  44.1s\n",
            "[CV 2/5] END max_depth=5, max_features=0.5, min_samples_leaf=10, min_samples_split=2, n_estimators=500; accuracy: (train=0.937, test=0.932) f1_weighted: (train=0.937, test=0.931) total time=  43.9s\n",
            "[CV 3/5] END max_depth=5, max_features=0.5, min_samples_leaf=10, min_samples_split=2, n_estimators=500; accuracy: (train=0.913, test=0.915) f1_weighted: (train=0.911, test=0.914) total time=  43.7s\n",
            "[CV 4/5] END max_depth=5, max_features=0.5, min_samples_leaf=10, min_samples_split=2, n_estimators=500; accuracy: (train=0.926, test=0.928) f1_weighted: (train=0.925, test=0.927) total time=  43.9s\n",
            "[CV 5/5] END max_depth=5, max_features=0.5, min_samples_leaf=10, min_samples_split=2, n_estimators=500; accuracy: (train=0.917, test=0.917) f1_weighted: (train=0.916, test=0.916) total time=  43.8s\n",
            "[CV 1/5] END max_depth=5, max_features=0.5, min_samples_leaf=10, min_samples_split=5, n_estimators=100; accuracy: (train=0.940, test=0.934) f1_weighted: (train=0.939, test=0.933) total time=   9.8s\n",
            "[CV 2/5] END max_depth=5, max_features=0.5, min_samples_leaf=10, min_samples_split=5, n_estimators=100; accuracy: (train=0.922, test=0.920) f1_weighted: (train=0.921, test=0.919) total time=   9.7s\n",
            "[CV 3/5] END max_depth=5, max_features=0.5, min_samples_leaf=10, min_samples_split=5, n_estimators=100; accuracy: (train=0.892, test=0.894) f1_weighted: (train=0.887, test=0.888) total time=   7.8s\n",
            "[CV 4/5] END max_depth=5, max_features=0.5, min_samples_leaf=10, min_samples_split=5, n_estimators=100; accuracy: (train=0.938, test=0.941) f1_weighted: (train=0.937, test=0.941) total time=   9.7s\n",
            "[CV 5/5] END max_depth=5, max_features=0.5, min_samples_leaf=10, min_samples_split=5, n_estimators=100; accuracy: (train=0.922, test=0.918) f1_weighted: (train=0.921, test=0.917) total time=   9.4s\n",
            "[CV 1/5] END max_depth=5, max_features=0.5, min_samples_leaf=10, min_samples_split=5, n_estimators=200; accuracy: (train=0.939, test=0.933) f1_weighted: (train=0.939, test=0.932) total time=  17.4s\n",
            "[CV 2/5] END max_depth=5, max_features=0.5, min_samples_leaf=10, min_samples_split=5, n_estimators=200; accuracy: (train=0.933, test=0.930) f1_weighted: (train=0.933, test=0.929) total time=  17.2s\n",
            "[CV 3/5] END max_depth=5, max_features=0.5, min_samples_leaf=10, min_samples_split=5, n_estimators=200; accuracy: (train=0.911, test=0.912) f1_weighted: (train=0.909, test=0.910) total time=  17.2s\n",
            "[CV 4/5] END max_depth=5, max_features=0.5, min_samples_leaf=10, min_samples_split=5, n_estimators=200; accuracy: (train=0.937, test=0.939) f1_weighted: (train=0.936, test=0.939) total time=  19.1s\n",
            "[CV 5/5] END max_depth=5, max_features=0.5, min_samples_leaf=10, min_samples_split=5, n_estimators=200; accuracy: (train=0.915, test=0.914) f1_weighted: (train=0.914, test=0.912) total time=  17.3s\n",
            "[CV 1/5] END max_depth=5, max_features=0.5, min_samples_leaf=10, min_samples_split=5, n_estimators=500; accuracy: (train=0.937, test=0.931) f1_weighted: (train=0.937, test=0.930) total time=  44.0s\n",
            "[CV 2/5] END max_depth=5, max_features=0.5, min_samples_leaf=10, min_samples_split=5, n_estimators=500; accuracy: (train=0.937, test=0.932) f1_weighted: (train=0.937, test=0.931) total time=  43.8s\n",
            "[CV 3/5] END max_depth=5, max_features=0.5, min_samples_leaf=10, min_samples_split=5, n_estimators=500; accuracy: (train=0.913, test=0.915) f1_weighted: (train=0.911, test=0.914) total time=  43.8s\n",
            "[CV 4/5] END max_depth=5, max_features=0.5, min_samples_leaf=10, min_samples_split=5, n_estimators=500; accuracy: (train=0.926, test=0.928) f1_weighted: (train=0.925, test=0.927) total time=  43.9s\n",
            "[CV 5/5] END max_depth=5, max_features=0.5, min_samples_leaf=10, min_samples_split=5, n_estimators=500; accuracy: (train=0.917, test=0.917) f1_weighted: (train=0.916, test=0.916) total time=  43.8s\n",
            "[CV 1/5] END max_depth=5, max_features=0.5, min_samples_leaf=10, min_samples_split=10, n_estimators=100; accuracy: (train=0.940, test=0.934) f1_weighted: (train=0.939, test=0.933) total time=   8.8s\n",
            "[CV 2/5] END max_depth=5, max_features=0.5, min_samples_leaf=10, min_samples_split=10, n_estimators=100; accuracy: (train=0.922, test=0.920) f1_weighted: (train=0.921, test=0.919) total time=   9.8s\n",
            "[CV 3/5] END max_depth=5, max_features=0.5, min_samples_leaf=10, min_samples_split=10, n_estimators=100; accuracy: (train=0.892, test=0.894) f1_weighted: (train=0.887, test=0.888) total time=   7.9s\n",
            "[CV 4/5] END max_depth=5, max_features=0.5, min_samples_leaf=10, min_samples_split=10, n_estimators=100; accuracy: (train=0.938, test=0.941) f1_weighted: (train=0.937, test=0.941) total time=   9.1s\n",
            "[CV 5/5] END max_depth=5, max_features=0.5, min_samples_leaf=10, min_samples_split=10, n_estimators=100; accuracy: (train=0.922, test=0.918) f1_weighted: (train=0.921, test=0.917) total time=   9.7s\n",
            "[CV 1/5] END max_depth=5, max_features=0.5, min_samples_leaf=10, min_samples_split=10, n_estimators=200; accuracy: (train=0.939, test=0.933) f1_weighted: (train=0.939, test=0.932) total time=  17.4s\n",
            "[CV 2/5] END max_depth=5, max_features=0.5, min_samples_leaf=10, min_samples_split=10, n_estimators=200; accuracy: (train=0.933, test=0.930) f1_weighted: (train=0.933, test=0.929) total time=  17.3s\n",
            "[CV 3/5] END max_depth=5, max_features=0.5, min_samples_leaf=10, min_samples_split=10, n_estimators=200; accuracy: (train=0.911, test=0.912) f1_weighted: (train=0.909, test=0.910) total time=  18.1s\n",
            "[CV 4/5] END max_depth=5, max_features=0.5, min_samples_leaf=10, min_samples_split=10, n_estimators=200; accuracy: (train=0.937, test=0.939) f1_weighted: (train=0.936, test=0.939) total time=  17.5s\n",
            "[CV 5/5] END max_depth=5, max_features=0.5, min_samples_leaf=10, min_samples_split=10, n_estimators=200; accuracy: (train=0.915, test=0.914) f1_weighted: (train=0.914, test=0.912) total time=  17.3s\n",
            "[CV 1/5] END max_depth=5, max_features=0.5, min_samples_leaf=10, min_samples_split=10, n_estimators=500; accuracy: (train=0.937, test=0.931) f1_weighted: (train=0.937, test=0.930) total time=  44.0s\n",
            "[CV 2/5] END max_depth=5, max_features=0.5, min_samples_leaf=10, min_samples_split=10, n_estimators=500; accuracy: (train=0.937, test=0.932) f1_weighted: (train=0.937, test=0.931) total time=  43.9s\n",
            "[CV 3/5] END max_depth=5, max_features=0.5, min_samples_leaf=10, min_samples_split=10, n_estimators=500; accuracy: (train=0.913, test=0.915) f1_weighted: (train=0.911, test=0.914) total time=  43.8s\n",
            "[CV 4/5] END max_depth=5, max_features=0.5, min_samples_leaf=10, min_samples_split=10, n_estimators=500; accuracy: (train=0.926, test=0.928) f1_weighted: (train=0.925, test=0.927) total time=  43.9s\n",
            "[CV 5/5] END max_depth=5, max_features=0.5, min_samples_leaf=10, min_samples_split=10, n_estimators=500; accuracy: (train=0.917, test=0.917) f1_weighted: (train=0.916, test=0.916) total time=  43.8s\n",
            "[CV 1/5] END max_depth=10, max_features=0.25, min_samples_leaf=1, min_samples_split=2, n_estimators=100; accuracy: (train=0.996, test=0.989) f1_weighted: (train=0.996, test=0.989) total time=   6.5s\n",
            "[CV 2/5] END max_depth=10, max_features=0.25, min_samples_leaf=1, min_samples_split=2, n_estimators=100; accuracy: (train=0.996, test=0.996) f1_weighted: (train=0.996, test=0.996) total time=   8.5s\n",
            "[CV 3/5] END max_depth=10, max_features=0.25, min_samples_leaf=1, min_samples_split=2, n_estimators=100; accuracy: (train=0.995, test=0.994) f1_weighted: (train=0.995, test=0.994) total time=   6.5s\n",
            "[CV 4/5] END max_depth=10, max_features=0.25, min_samples_leaf=1, min_samples_split=2, n_estimators=100; accuracy: (train=0.996, test=0.995) f1_weighted: (train=0.996, test=0.995) total time=   8.5s\n",
            "[CV 5/5] END max_depth=10, max_features=0.25, min_samples_leaf=1, min_samples_split=2, n_estimators=100; accuracy: (train=0.996, test=0.996) f1_weighted: (train=0.996, test=0.996) total time=   7.0s\n",
            "[CV 1/5] END max_depth=10, max_features=0.25, min_samples_leaf=1, min_samples_split=2, n_estimators=200; accuracy: (train=0.996, test=0.989) f1_weighted: (train=0.996, test=0.989) total time=  14.8s\n",
            "[CV 2/5] END max_depth=10, max_features=0.25, min_samples_leaf=1, min_samples_split=2, n_estimators=200; accuracy: (train=0.996, test=0.995) f1_weighted: (train=0.995, test=0.995) total time=  15.0s\n",
            "[CV 3/5] END max_depth=10, max_features=0.25, min_samples_leaf=1, min_samples_split=2, n_estimators=200; accuracy: (train=0.995, test=0.994) f1_weighted: (train=0.995, test=0.994) total time=  14.8s\n",
            "[CV 4/5] END max_depth=10, max_features=0.25, min_samples_leaf=1, min_samples_split=2, n_estimators=200; accuracy: (train=0.996, test=0.995) f1_weighted: (train=0.996, test=0.995) total time=  15.1s\n",
            "[CV 5/5] END max_depth=10, max_features=0.25, min_samples_leaf=1, min_samples_split=2, n_estimators=200; accuracy: (train=0.995, test=0.996) f1_weighted: (train=0.995, test=0.996) total time=  14.9s\n",
            "[CV 1/5] END max_depth=10, max_features=0.25, min_samples_leaf=1, min_samples_split=2, n_estimators=500; accuracy: (train=0.996, test=0.989) f1_weighted: (train=0.996, test=0.989) total time=  36.4s\n",
            "[CV 2/5] END max_depth=10, max_features=0.25, min_samples_leaf=1, min_samples_split=2, n_estimators=500; accuracy: (train=0.996, test=0.995) f1_weighted: (train=0.996, test=0.995) total time=  35.9s\n",
            "[CV 3/5] END max_depth=10, max_features=0.25, min_samples_leaf=1, min_samples_split=2, n_estimators=500; accuracy: (train=0.996, test=0.995) f1_weighted: (train=0.996, test=0.995) total time=  37.7s\n",
            "[CV 4/5] END max_depth=10, max_features=0.25, min_samples_leaf=1, min_samples_split=2, n_estimators=500; accuracy: (train=0.996, test=0.995) f1_weighted: (train=0.996, test=0.995) total time=  36.4s\n",
            "[CV 5/5] END max_depth=10, max_features=0.25, min_samples_leaf=1, min_samples_split=2, n_estimators=500; accuracy: (train=0.995, test=0.995) f1_weighted: (train=0.995, test=0.995) total time=  36.0s\n",
            "[CV 1/5] END max_depth=10, max_features=0.25, min_samples_leaf=1, min_samples_split=5, n_estimators=100; accuracy: (train=0.997, test=0.989) f1_weighted: (train=0.997, test=0.989) total time=   8.5s\n",
            "[CV 2/5] END max_depth=10, max_features=0.25, min_samples_leaf=1, min_samples_split=5, n_estimators=100; accuracy: (train=0.996, test=0.995) f1_weighted: (train=0.995, test=0.995) total time=   6.5s\n",
            "[CV 3/5] END max_depth=10, max_features=0.25, min_samples_leaf=1, min_samples_split=5, n_estimators=100; accuracy: (train=0.996, test=0.995) f1_weighted: (train=0.995, test=0.995) total time=   8.5s\n",
            "[CV 4/5] END max_depth=10, max_features=0.25, min_samples_leaf=1, min_samples_split=5, n_estimators=100; accuracy: (train=0.994, test=0.994) f1_weighted: (train=0.994, test=0.994) total time=   7.0s\n",
            "[CV 5/5] END max_depth=10, max_features=0.25, min_samples_leaf=1, min_samples_split=5, n_estimators=100; accuracy: (train=0.995, test=0.996) f1_weighted: (train=0.995, test=0.996) total time=   7.6s\n",
            "[CV 1/5] END max_depth=10, max_features=0.25, min_samples_leaf=1, min_samples_split=5, n_estimators=200; accuracy: (train=0.996, test=0.989) f1_weighted: (train=0.996, test=0.989) total time=  19.0s\n",
            "[CV 2/5] END max_depth=10, max_features=0.25, min_samples_leaf=1, min_samples_split=5, n_estimators=200; accuracy: (train=0.996, test=0.996) f1_weighted: (train=0.996, test=0.996) total time=  20.8s\n",
            "[CV 3/5] END max_depth=10, max_features=0.25, min_samples_leaf=1, min_samples_split=5, n_estimators=200; accuracy: (train=0.995, test=0.995) f1_weighted: (train=0.995, test=0.995) total time=  14.7s\n",
            "[CV 4/5] END max_depth=10, max_features=0.25, min_samples_leaf=1, min_samples_split=5, n_estimators=200; accuracy: (train=0.995, test=0.995) f1_weighted: (train=0.995, test=0.995) total time=  15.0s\n",
            "[CV 5/5] END max_depth=10, max_features=0.25, min_samples_leaf=1, min_samples_split=5, n_estimators=200; accuracy: (train=0.995, test=0.995) f1_weighted: (train=0.995, test=0.995) total time=  14.8s\n",
            "[CV 1/5] END max_depth=10, max_features=0.25, min_samples_leaf=1, min_samples_split=5, n_estimators=500; accuracy: (train=0.996, test=0.989) f1_weighted: (train=0.996, test=0.989) total time=  37.9s\n",
            "[CV 2/5] END max_depth=10, max_features=0.25, min_samples_leaf=1, min_samples_split=5, n_estimators=500; accuracy: (train=0.995, test=0.995) f1_weighted: (train=0.995, test=0.995) total time=  36.0s\n",
            "[CV 3/5] END max_depth=10, max_features=0.25, min_samples_leaf=1, min_samples_split=5, n_estimators=500; accuracy: (train=0.995, test=0.995) f1_weighted: (train=0.995, test=0.995) total time=  36.1s\n",
            "[CV 4/5] END max_depth=10, max_features=0.25, min_samples_leaf=1, min_samples_split=5, n_estimators=500; accuracy: (train=0.995, test=0.995) f1_weighted: (train=0.995, test=0.995) total time=  37.8s\n",
            "[CV 5/5] END max_depth=10, max_features=0.25, min_samples_leaf=1, min_samples_split=5, n_estimators=500; accuracy: (train=0.995, test=0.995) f1_weighted: (train=0.995, test=0.995) total time=  35.9s\n",
            "[CV 1/5] END max_depth=10, max_features=0.25, min_samples_leaf=1, min_samples_split=10, n_estimators=100; accuracy: (train=0.996, test=0.990) f1_weighted: (train=0.996, test=0.990) total time=   7.1s\n",
            "[CV 2/5] END max_depth=10, max_features=0.25, min_samples_leaf=1, min_samples_split=10, n_estimators=100; accuracy: (train=0.994, test=0.995) f1_weighted: (train=0.994, test=0.995) total time=   8.4s\n",
            "[CV 3/5] END max_depth=10, max_features=0.25, min_samples_leaf=1, min_samples_split=10, n_estimators=100; accuracy: (train=0.996, test=0.995) f1_weighted: (train=0.996, test=0.995) total time=   6.5s\n",
            "[CV 4/5] END max_depth=10, max_features=0.25, min_samples_leaf=1, min_samples_split=10, n_estimators=100; accuracy: (train=0.995, test=0.994) f1_weighted: (train=0.995, test=0.994) total time=   8.5s\n",
            "[CV 5/5] END max_depth=10, max_features=0.25, min_samples_leaf=1, min_samples_split=10, n_estimators=100; accuracy: (train=0.994, test=0.994) f1_weighted: (train=0.994, test=0.994) total time=   6.6s\n",
            "[CV 1/5] END max_depth=10, max_features=0.25, min_samples_leaf=1, min_samples_split=10, n_estimators=200; accuracy: (train=0.996, test=0.989) f1_weighted: (train=0.996, test=0.989) total time=  14.8s\n",
            "[CV 2/5] END max_depth=10, max_features=0.25, min_samples_leaf=1, min_samples_split=10, n_estimators=200; accuracy: (train=0.995, test=0.995) f1_weighted: (train=0.995, test=0.995) total time=  14.9s\n",
            "[CV 3/5] END max_depth=10, max_features=0.25, min_samples_leaf=1, min_samples_split=10, n_estimators=200; accuracy: (train=0.995, test=0.995) f1_weighted: (train=0.995, test=0.995) total time=  14.9s\n",
            "[CV 4/5] END max_depth=10, max_features=0.25, min_samples_leaf=1, min_samples_split=10, n_estimators=200; accuracy: (train=0.995, test=0.994) f1_weighted: (train=0.995, test=0.994) total time=  14.7s\n",
            "[CV 5/5] END max_depth=10, max_features=0.25, min_samples_leaf=1, min_samples_split=10, n_estimators=200; accuracy: (train=0.994, test=0.994) f1_weighted: (train=0.994, test=0.994) total time=  14.9s\n",
            "[CV 1/5] END max_depth=10, max_features=0.25, min_samples_leaf=1, min_samples_split=10, n_estimators=500; accuracy: (train=0.996, test=0.988) f1_weighted: (train=0.995, test=0.988) total time=  35.7s\n",
            "[CV 2/5] END max_depth=10, max_features=0.25, min_samples_leaf=1, min_samples_split=10, n_estimators=500; accuracy: (train=0.995, test=0.995) f1_weighted: (train=0.995, test=0.995) total time=  37.7s\n",
            "[CV 3/5] END max_depth=10, max_features=0.25, min_samples_leaf=1, min_samples_split=10, n_estimators=500; accuracy: (train=0.995, test=0.994) f1_weighted: (train=0.995, test=0.994) total time=  36.9s\n",
            "[CV 4/5] END max_depth=10, max_features=0.25, min_samples_leaf=1, min_samples_split=10, n_estimators=500; accuracy: (train=0.995, test=0.994) f1_weighted: (train=0.995, test=0.994) total time=  35.8s\n",
            "[CV 5/5] END max_depth=10, max_features=0.25, min_samples_leaf=1, min_samples_split=10, n_estimators=500; accuracy: (train=0.994, test=0.994) f1_weighted: (train=0.994, test=0.994) total time=  37.6s\n",
            "[CV 1/5] END max_depth=10, max_features=0.25, min_samples_leaf=5, min_samples_split=2, n_estimators=100; accuracy: (train=0.992, test=0.984) f1_weighted: (train=0.992, test=0.984) total time=   7.5s\n",
            "[CV 2/5] END max_depth=10, max_features=0.25, min_samples_leaf=5, min_samples_split=2, n_estimators=100; accuracy: (train=0.992, test=0.993) f1_weighted: (train=0.992, test=0.993) total time=   6.8s\n",
            "[CV 3/5] END max_depth=10, max_features=0.25, min_samples_leaf=5, min_samples_split=2, n_estimators=100; accuracy: (train=0.994, test=0.994) f1_weighted: (train=0.994, test=0.994) total time=   8.3s\n",
            "[CV 4/5] END max_depth=10, max_features=0.25, min_samples_leaf=5, min_samples_split=2, n_estimators=100; accuracy: (train=0.994, test=0.993) f1_weighted: (train=0.994, test=0.993) total time=   6.5s\n",
            "[CV 5/5] END max_depth=10, max_features=0.25, min_samples_leaf=5, min_samples_split=2, n_estimators=100; accuracy: (train=0.992, test=0.992) f1_weighted: (train=0.992, test=0.992) total time=   8.4s\n",
            "[CV 1/5] END max_depth=10, max_features=0.25, min_samples_leaf=5, min_samples_split=2, n_estimators=200; accuracy: (train=0.994, test=0.986) f1_weighted: (train=0.994, test=0.986) total time=  14.7s\n",
            "[CV 2/5] END max_depth=10, max_features=0.25, min_samples_leaf=5, min_samples_split=2, n_estimators=200; accuracy: (train=0.994, test=0.994) f1_weighted: (train=0.994, test=0.994) total time=  14.7s\n",
            "[CV 3/5] END max_depth=10, max_features=0.25, min_samples_leaf=5, min_samples_split=2, n_estimators=200; accuracy: (train=0.995, test=0.994) f1_weighted: (train=0.995, test=0.994) total time=  14.6s\n",
            "[CV 4/5] END max_depth=10, max_features=0.25, min_samples_leaf=5, min_samples_split=2, n_estimators=200; accuracy: (train=0.994, test=0.992) f1_weighted: (train=0.994, test=0.992) total time=  14.7s\n",
            "[CV 5/5] END max_depth=10, max_features=0.25, min_samples_leaf=5, min_samples_split=2, n_estimators=200; accuracy: (train=0.993, test=0.992) f1_weighted: (train=0.993, test=0.992) total time=  14.8s\n",
            "[CV 1/5] END max_depth=10, max_features=0.25, min_samples_leaf=5, min_samples_split=2, n_estimators=500; accuracy: (train=0.996, test=0.988) f1_weighted: (train=0.996, test=0.988) total time=  37.5s\n",
            "[CV 2/5] END max_depth=10, max_features=0.25, min_samples_leaf=5, min_samples_split=2, n_estimators=500; accuracy: (train=0.994, test=0.994) f1_weighted: (train=0.994, test=0.994) total time=  35.5s\n",
            "[CV 3/5] END max_depth=10, max_features=0.25, min_samples_leaf=5, min_samples_split=2, n_estimators=500; accuracy: (train=0.994, test=0.994) f1_weighted: (train=0.994, test=0.994) total time=  37.2s\n",
            "[CV 4/5] END max_depth=10, max_features=0.25, min_samples_leaf=5, min_samples_split=2, n_estimators=500; accuracy: (train=0.994, test=0.993) f1_weighted: (train=0.994, test=0.993) total time=  35.7s\n",
            "[CV 5/5] END max_depth=10, max_features=0.25, min_samples_leaf=5, min_samples_split=2, n_estimators=500; accuracy: (train=0.993, test=0.992) f1_weighted: (train=0.993, test=0.992) total time=  35.4s\n",
            "[CV 1/5] END max_depth=10, max_features=0.25, min_samples_leaf=5, min_samples_split=5, n_estimators=100; accuracy: (train=0.992, test=0.984) f1_weighted: (train=0.992, test=0.984) total time=   8.4s\n",
            "[CV 2/5] END max_depth=10, max_features=0.25, min_samples_leaf=5, min_samples_split=5, n_estimators=100; accuracy: (train=0.992, test=0.993) f1_weighted: (train=0.992, test=0.993) total time=   6.5s\n",
            "[CV 3/5] END max_depth=10, max_features=0.25, min_samples_leaf=5, min_samples_split=5, n_estimators=100; accuracy: (train=0.994, test=0.994) f1_weighted: (train=0.994, test=0.994) total time=   8.3s\n",
            "[CV 4/5] END max_depth=10, max_features=0.25, min_samples_leaf=5, min_samples_split=5, n_estimators=100; accuracy: (train=0.994, test=0.993) f1_weighted: (train=0.994, test=0.993) total time=   6.5s\n",
            "[CV 5/5] END max_depth=10, max_features=0.25, min_samples_leaf=5, min_samples_split=5, n_estimators=100; accuracy: (train=0.992, test=0.992) f1_weighted: (train=0.992, test=0.992) total time=   8.3s\n",
            "[CV 1/5] END max_depth=10, max_features=0.25, min_samples_leaf=5, min_samples_split=5, n_estimators=200; accuracy: (train=0.994, test=0.986) f1_weighted: (train=0.994, test=0.986) total time=  14.6s\n",
            "[CV 2/5] END max_depth=10, max_features=0.25, min_samples_leaf=5, min_samples_split=5, n_estimators=200; accuracy: (train=0.994, test=0.994) f1_weighted: (train=0.994, test=0.994) total time=  14.6s\n",
            "[CV 3/5] END max_depth=10, max_features=0.25, min_samples_leaf=5, min_samples_split=5, n_estimators=200; accuracy: (train=0.995, test=0.994) f1_weighted: (train=0.995, test=0.994) total time=  14.5s\n",
            "[CV 4/5] END max_depth=10, max_features=0.25, min_samples_leaf=5, min_samples_split=5, n_estimators=200; accuracy: (train=0.994, test=0.992) f1_weighted: (train=0.994, test=0.992) total time=  14.7s\n",
            "[CV 5/5] END max_depth=10, max_features=0.25, min_samples_leaf=5, min_samples_split=5, n_estimators=200; accuracy: (train=0.993, test=0.992) f1_weighted: (train=0.993, test=0.992) total time=  14.8s\n",
            "[CV 1/5] END max_depth=10, max_features=0.25, min_samples_leaf=5, min_samples_split=5, n_estimators=500; accuracy: (train=0.996, test=0.988) f1_weighted: (train=0.996, test=0.988) total time=  37.5s\n",
            "[CV 2/5] END max_depth=10, max_features=0.25, min_samples_leaf=5, min_samples_split=5, n_estimators=500; accuracy: (train=0.994, test=0.994) f1_weighted: (train=0.994, test=0.994) total time=  35.8s\n",
            "[CV 3/5] END max_depth=10, max_features=0.25, min_samples_leaf=5, min_samples_split=5, n_estimators=500; accuracy: (train=0.994, test=0.994) f1_weighted: (train=0.994, test=0.994) total time=  35.4s\n",
            "[CV 4/5] END max_depth=10, max_features=0.25, min_samples_leaf=5, min_samples_split=5, n_estimators=500; accuracy: (train=0.994, test=0.993) f1_weighted: (train=0.994, test=0.993) total time=  37.4s\n",
            "[CV 5/5] END max_depth=10, max_features=0.25, min_samples_leaf=5, min_samples_split=5, n_estimators=500; accuracy: (train=0.993, test=0.992) f1_weighted: (train=0.993, test=0.992) total time=  35.6s\n",
            "[CV 1/5] END max_depth=10, max_features=0.25, min_samples_leaf=5, min_samples_split=10, n_estimators=100; accuracy: (train=0.992, test=0.984) f1_weighted: (train=0.992, test=0.984) total time=   7.8s\n",
            "[CV 2/5] END max_depth=10, max_features=0.25, min_samples_leaf=5, min_samples_split=10, n_estimators=100; accuracy: (train=0.992, test=0.993) f1_weighted: (train=0.992, test=0.993) total time=   7.6s\n",
            "[CV 3/5] END max_depth=10, max_features=0.25, min_samples_leaf=5, min_samples_split=10, n_estimators=100; accuracy: (train=0.994, test=0.994) f1_weighted: (train=0.994, test=0.994) total time=   6.7s\n",
            "[CV 4/5] END max_depth=10, max_features=0.25, min_samples_leaf=5, min_samples_split=10, n_estimators=100; accuracy: (train=0.994, test=0.993) f1_weighted: (train=0.994, test=0.993) total time=   8.4s\n",
            "[CV 5/5] END max_depth=10, max_features=0.25, min_samples_leaf=5, min_samples_split=10, n_estimators=100; accuracy: (train=0.992, test=0.992) f1_weighted: (train=0.992, test=0.992) total time=   6.5s\n",
            "[CV 1/5] END max_depth=10, max_features=0.25, min_samples_leaf=5, min_samples_split=10, n_estimators=200; accuracy: (train=0.994, test=0.986) f1_weighted: (train=0.994, test=0.986) total time=  14.6s\n",
            "[CV 2/5] END max_depth=10, max_features=0.25, min_samples_leaf=5, min_samples_split=10, n_estimators=200; accuracy: (train=0.994, test=0.994) f1_weighted: (train=0.994, test=0.994) total time=  14.7s\n",
            "[CV 3/5] END max_depth=10, max_features=0.25, min_samples_leaf=5, min_samples_split=10, n_estimators=200; accuracy: (train=0.995, test=0.994) f1_weighted: (train=0.995, test=0.994) total time=  14.6s\n",
            "[CV 4/5] END max_depth=10, max_features=0.25, min_samples_leaf=5, min_samples_split=10, n_estimators=200; accuracy: (train=0.994, test=0.992) f1_weighted: (train=0.994, test=0.992) total time=  14.9s\n",
            "[CV 5/5] END max_depth=10, max_features=0.25, min_samples_leaf=5, min_samples_split=10, n_estimators=200; accuracy: (train=0.993, test=0.992) f1_weighted: (train=0.993, test=0.992) total time=  16.1s\n",
            "[CV 1/5] END max_depth=10, max_features=0.25, min_samples_leaf=5, min_samples_split=10, n_estimators=500; accuracy: (train=0.996, test=0.988) f1_weighted: (train=0.996, test=0.988) total time=  35.5s\n",
            "[CV 2/5] END max_depth=10, max_features=0.25, min_samples_leaf=5, min_samples_split=10, n_estimators=500; accuracy: (train=0.994, test=0.994) f1_weighted: (train=0.994, test=0.994) total time=  37.4s\n",
            "[CV 3/5] END max_depth=10, max_features=0.25, min_samples_leaf=5, min_samples_split=10, n_estimators=500; accuracy: (train=0.994, test=0.994) f1_weighted: (train=0.994, test=0.994) total time=  35.3s\n",
            "[CV 4/5] END max_depth=10, max_features=0.25, min_samples_leaf=5, min_samples_split=10, n_estimators=500; accuracy: (train=0.994, test=0.993) f1_weighted: (train=0.994, test=0.993) total time=  36.4s\n",
            "[CV 5/5] END max_depth=10, max_features=0.25, min_samples_leaf=5, min_samples_split=10, n_estimators=500; accuracy: (train=0.993, test=0.992) f1_weighted: (train=0.993, test=0.992) total time=  37.5s\n",
            "[CV 1/5] END max_depth=10, max_features=0.25, min_samples_leaf=10, min_samples_split=2, n_estimators=100; accuracy: (train=0.995, test=0.988) f1_weighted: (train=0.995, test=0.988) total time=   6.4s\n",
            "[CV 2/5] END max_depth=10, max_features=0.25, min_samples_leaf=10, min_samples_split=2, n_estimators=100; accuracy: (train=0.991, test=0.993) f1_weighted: (train=0.991, test=0.993) total time=   8.4s\n",
            "[CV 3/5] END max_depth=10, max_features=0.25, min_samples_leaf=10, min_samples_split=2, n_estimators=100; accuracy: (train=0.992, test=0.992) f1_weighted: (train=0.992, test=0.992) total time=   6.4s\n",
            "[CV 4/5] END max_depth=10, max_features=0.25, min_samples_leaf=10, min_samples_split=2, n_estimators=100; accuracy: (train=0.990, test=0.989) f1_weighted: (train=0.990, test=0.989) total time=   8.0s\n",
            "[CV 5/5] END max_depth=10, max_features=0.25, min_samples_leaf=10, min_samples_split=2, n_estimators=100; accuracy: (train=0.992, test=0.992) f1_weighted: (train=0.992, test=0.992) total time=   7.2s\n",
            "[CV 1/5] END max_depth=10, max_features=0.25, min_samples_leaf=10, min_samples_split=2, n_estimators=200; accuracy: (train=0.995, test=0.988) f1_weighted: (train=0.995, test=0.988) total time=  14.7s\n",
            "[CV 2/5] END max_depth=10, max_features=0.25, min_samples_leaf=10, min_samples_split=2, n_estimators=200; accuracy: (train=0.993, test=0.993) f1_weighted: (train=0.993, test=0.993) total time=  14.5s\n",
            "[CV 3/5] END max_depth=10, max_features=0.25, min_samples_leaf=10, min_samples_split=2, n_estimators=200; accuracy: (train=0.992, test=0.993) f1_weighted: (train=0.992, test=0.993) total time=  14.5s\n",
            "[CV 4/5] END max_depth=10, max_features=0.25, min_samples_leaf=10, min_samples_split=2, n_estimators=200; accuracy: (train=0.993, test=0.992) f1_weighted: (train=0.993, test=0.992) total time=  14.6s\n",
            "[CV 5/5] END max_depth=10, max_features=0.25, min_samples_leaf=10, min_samples_split=2, n_estimators=200; accuracy: (train=0.993, test=0.992) f1_weighted: (train=0.993, test=0.992) total time=  14.6s\n",
            "[CV 1/5] END max_depth=10, max_features=0.25, min_samples_leaf=10, min_samples_split=2, n_estimators=500; accuracy: (train=0.995, test=0.987) f1_weighted: (train=0.995, test=0.987) total time=  35.2s\n",
            "[CV 2/5] END max_depth=10, max_features=0.25, min_samples_leaf=10, min_samples_split=2, n_estimators=500; accuracy: (train=0.993, test=0.993) f1_weighted: (train=0.993, test=0.993) total time=  36.6s\n",
            "[CV 3/5] END max_depth=10, max_features=0.25, min_samples_leaf=10, min_samples_split=2, n_estimators=500; accuracy: (train=0.993, test=0.993) f1_weighted: (train=0.993, test=0.993) total time=  36.5s\n",
            "[CV 4/5] END max_depth=10, max_features=0.25, min_samples_leaf=10, min_samples_split=2, n_estimators=500; accuracy: (train=0.993, test=0.992) f1_weighted: (train=0.993, test=0.992) total time=  35.3s\n",
            "[CV 5/5] END max_depth=10, max_features=0.25, min_samples_leaf=10, min_samples_split=2, n_estimators=500; accuracy: (train=0.992, test=0.992) f1_weighted: (train=0.992, test=0.992) total time=  37.2s\n",
            "[CV 1/5] END max_depth=10, max_features=0.25, min_samples_leaf=10, min_samples_split=5, n_estimators=100; accuracy: (train=0.995, test=0.988) f1_weighted: (train=0.995, test=0.988) total time=   6.6s\n",
            "[CV 2/5] END max_depth=10, max_features=0.25, min_samples_leaf=10, min_samples_split=5, n_estimators=100; accuracy: (train=0.991, test=0.993) f1_weighted: (train=0.991, test=0.993) total time=   7.7s\n",
            "[CV 3/5] END max_depth=10, max_features=0.25, min_samples_leaf=10, min_samples_split=5, n_estimators=100; accuracy: (train=0.992, test=0.992) f1_weighted: (train=0.992, test=0.992) total time=   7.5s\n",
            "[CV 4/5] END max_depth=10, max_features=0.25, min_samples_leaf=10, min_samples_split=5, n_estimators=100; accuracy: (train=0.990, test=0.989) f1_weighted: (train=0.990, test=0.989) total time=   6.7s\n",
            "[CV 5/5] END max_depth=10, max_features=0.25, min_samples_leaf=10, min_samples_split=5, n_estimators=100; accuracy: (train=0.992, test=0.992) f1_weighted: (train=0.992, test=0.992) total time=   8.4s\n",
            "[CV 1/5] END max_depth=10, max_features=0.25, min_samples_leaf=10, min_samples_split=5, n_estimators=200; accuracy: (train=0.995, test=0.988) f1_weighted: (train=0.995, test=0.988) total time=  14.7s\n",
            "[CV 2/5] END max_depth=10, max_features=0.25, min_samples_leaf=10, min_samples_split=5, n_estimators=200; accuracy: (train=0.993, test=0.993) f1_weighted: (train=0.993, test=0.993) total time=  14.6s\n",
            "[CV 3/5] END max_depth=10, max_features=0.25, min_samples_leaf=10, min_samples_split=5, n_estimators=200; accuracy: (train=0.992, test=0.993) f1_weighted: (train=0.992, test=0.993) total time=  14.5s\n",
            "[CV 4/5] END max_depth=10, max_features=0.25, min_samples_leaf=10, min_samples_split=5, n_estimators=200; accuracy: (train=0.993, test=0.992) f1_weighted: (train=0.993, test=0.992) total time=  14.6s\n",
            "[CV 5/5] END max_depth=10, max_features=0.25, min_samples_leaf=10, min_samples_split=5, n_estimators=200; accuracy: (train=0.993, test=0.992) f1_weighted: (train=0.993, test=0.992) total time=  14.6s\n",
            "[CV 1/5] END max_depth=10, max_features=0.25, min_samples_leaf=10, min_samples_split=5, n_estimators=500; accuracy: (train=0.995, test=0.987) f1_weighted: (train=0.995, test=0.987) total time=  35.8s\n",
            "[CV 2/5] END max_depth=10, max_features=0.25, min_samples_leaf=10, min_samples_split=5, n_estimators=500; accuracy: (train=0.993, test=0.993) f1_weighted: (train=0.993, test=0.993) total time=  35.5s\n",
            "[CV 3/5] END max_depth=10, max_features=0.25, min_samples_leaf=10, min_samples_split=5, n_estimators=500; accuracy: (train=0.993, test=0.993) f1_weighted: (train=0.993, test=0.993) total time=  37.0s\n",
            "[CV 4/5] END max_depth=10, max_features=0.25, min_samples_leaf=10, min_samples_split=5, n_estimators=500; accuracy: (train=0.993, test=0.992) f1_weighted: (train=0.993, test=0.992) total time=  35.2s\n",
            "[CV 5/5] END max_depth=10, max_features=0.25, min_samples_leaf=10, min_samples_split=5, n_estimators=500; accuracy: (train=0.992, test=0.992) f1_weighted: (train=0.992, test=0.992) total time=  36.7s\n",
            "[CV 1/5] END max_depth=10, max_features=0.25, min_samples_leaf=10, min_samples_split=10, n_estimators=100; accuracy: (train=0.995, test=0.988) f1_weighted: (train=0.995, test=0.988) total time=   7.7s\n",
            "[CV 2/5] END max_depth=10, max_features=0.25, min_samples_leaf=10, min_samples_split=10, n_estimators=100; accuracy: (train=0.991, test=0.993) f1_weighted: (train=0.991, test=0.993) total time=   6.6s\n",
            "[CV 3/5] END max_depth=10, max_features=0.25, min_samples_leaf=10, min_samples_split=10, n_estimators=100; accuracy: (train=0.992, test=0.992) f1_weighted: (train=0.992, test=0.992) total time=   8.2s\n",
            "[CV 4/5] END max_depth=10, max_features=0.25, min_samples_leaf=10, min_samples_split=10, n_estimators=100; accuracy: (train=0.990, test=0.989) f1_weighted: (train=0.990, test=0.989) total time=   6.5s\n",
            "[CV 5/5] END max_depth=10, max_features=0.25, min_samples_leaf=10, min_samples_split=10, n_estimators=100; accuracy: (train=0.992, test=0.992) f1_weighted: (train=0.992, test=0.992) total time=   8.4s\n",
            "[CV 1/5] END max_depth=10, max_features=0.25, min_samples_leaf=10, min_samples_split=10, n_estimators=200; accuracy: (train=0.995, test=0.988) f1_weighted: (train=0.995, test=0.988) total time=  14.6s\n",
            "[CV 2/5] END max_depth=10, max_features=0.25, min_samples_leaf=10, min_samples_split=10, n_estimators=200; accuracy: (train=0.993, test=0.993) f1_weighted: (train=0.993, test=0.993) total time=  14.6s\n",
            "[CV 3/5] END max_depth=10, max_features=0.25, min_samples_leaf=10, min_samples_split=10, n_estimators=200; accuracy: (train=0.992, test=0.993) f1_weighted: (train=0.992, test=0.993) total time=  14.5s\n",
            "[CV 4/5] END max_depth=10, max_features=0.25, min_samples_leaf=10, min_samples_split=10, n_estimators=200; accuracy: (train=0.993, test=0.992) f1_weighted: (train=0.993, test=0.992) total time=  14.6s\n",
            "[CV 5/5] END max_depth=10, max_features=0.25, min_samples_leaf=10, min_samples_split=10, n_estimators=200; accuracy: (train=0.993, test=0.992) f1_weighted: (train=0.993, test=0.992) total time=  14.5s\n",
            "[CV 1/5] END max_depth=10, max_features=0.25, min_samples_leaf=10, min_samples_split=10, n_estimators=500; accuracy: (train=0.995, test=0.987) f1_weighted: (train=0.995, test=0.987) total time=  36.7s\n",
            "[CV 2/5] END max_depth=10, max_features=0.25, min_samples_leaf=10, min_samples_split=10, n_estimators=500; accuracy: (train=0.993, test=0.993) f1_weighted: (train=0.993, test=0.993) total time=  35.2s\n",
            "[CV 3/5] END max_depth=10, max_features=0.25, min_samples_leaf=10, min_samples_split=10, n_estimators=500; accuracy: (train=0.993, test=0.993) f1_weighted: (train=0.993, test=0.993) total time=  37.0s\n",
            "[CV 4/5] END max_depth=10, max_features=0.25, min_samples_leaf=10, min_samples_split=10, n_estimators=500; accuracy: (train=0.993, test=0.992) f1_weighted: (train=0.993, test=0.992) total time=  35.1s\n",
            "[CV 5/5] END max_depth=10, max_features=0.25, min_samples_leaf=10, min_samples_split=10, n_estimators=500; accuracy: (train=0.992, test=0.992) f1_weighted: (train=0.992, test=0.992) total time=  35.9s\n",
            "[CV 1/5] END max_depth=10, max_features=0.5, min_samples_leaf=1, min_samples_split=2, n_estimators=100; accuracy: (train=1.000, test=0.997) f1_weighted: (train=1.000, test=0.997) total time=  13.6s\n",
            "[CV 2/5] END max_depth=10, max_features=0.5, min_samples_leaf=1, min_samples_split=2, n_estimators=100; accuracy: (train=0.999, test=0.999) f1_weighted: (train=0.999, test=0.999) total time=  13.6s\n",
            "[CV 3/5] END max_depth=10, max_features=0.5, min_samples_leaf=1, min_samples_split=2, n_estimators=100; accuracy: (train=1.000, test=0.999) f1_weighted: (train=1.000, test=0.999) total time=  13.6s\n",
            "[CV 4/5] END max_depth=10, max_features=0.5, min_samples_leaf=1, min_samples_split=2, n_estimators=100; accuracy: (train=1.000, test=0.999) f1_weighted: (train=1.000, test=0.999) total time=  13.8s\n",
            "[CV 5/5] END max_depth=10, max_features=0.5, min_samples_leaf=1, min_samples_split=2, n_estimators=100; accuracy: (train=1.000, test=0.999) f1_weighted: (train=1.000, test=0.999) total time=  13.7s\n",
            "[CV 1/5] END max_depth=10, max_features=0.5, min_samples_leaf=1, min_samples_split=2, n_estimators=200; accuracy: (train=1.000, test=0.997) f1_weighted: (train=1.000, test=0.997) total time=  27.1s\n",
            "[CV 2/5] END max_depth=10, max_features=0.5, min_samples_leaf=1, min_samples_split=2, n_estimators=200; accuracy: (train=1.000, test=1.000) f1_weighted: (train=1.000, test=1.000) total time=  26.6s\n",
            "[CV 3/5] END max_depth=10, max_features=0.5, min_samples_leaf=1, min_samples_split=2, n_estimators=200; accuracy: (train=1.000, test=0.999) f1_weighted: (train=1.000, test=0.999) total time=  25.3s\n",
            "[CV 4/5] END max_depth=10, max_features=0.5, min_samples_leaf=1, min_samples_split=2, n_estimators=200; accuracy: (train=1.000, test=0.999) f1_weighted: (train=1.000, test=0.999) total time=  26.1s\n",
            "[CV 5/5] END max_depth=10, max_features=0.5, min_samples_leaf=1, min_samples_split=2, n_estimators=200; accuracy: (train=1.000, test=0.999) f1_weighted: (train=1.000, test=0.999) total time=  27.0s\n",
            "[CV 1/5] END max_depth=10, max_features=0.5, min_samples_leaf=1, min_samples_split=2, n_estimators=500; accuracy: (train=1.000, test=0.996) f1_weighted: (train=1.000, test=0.996) total time= 1.1min\n",
            "[CV 2/5] END max_depth=10, max_features=0.5, min_samples_leaf=1, min_samples_split=2, n_estimators=500; accuracy: (train=1.000, test=1.000) f1_weighted: (train=1.000, test=1.000) total time= 1.1min\n",
            "[CV 3/5] END max_depth=10, max_features=0.5, min_samples_leaf=1, min_samples_split=2, n_estimators=500; accuracy: (train=1.000, test=0.999) f1_weighted: (train=1.000, test=0.999) total time= 1.1min\n",
            "[CV 4/5] END max_depth=10, max_features=0.5, min_samples_leaf=1, min_samples_split=2, n_estimators=500; accuracy: (train=1.000, test=0.999) f1_weighted: (train=1.000, test=0.999) total time= 1.1min\n",
            "[CV 5/5] END max_depth=10, max_features=0.5, min_samples_leaf=1, min_samples_split=2, n_estimators=500; accuracy: (train=1.000, test=0.999) f1_weighted: (train=1.000, test=0.999) total time= 1.1min\n",
            "[CV 1/5] END max_depth=10, max_features=0.5, min_samples_leaf=1, min_samples_split=5, n_estimators=100; accuracy: (train=1.000, test=0.997) f1_weighted: (train=1.000, test=0.997) total time=  12.9s\n",
            "[CV 2/5] END max_depth=10, max_features=0.5, min_samples_leaf=1, min_samples_split=5, n_estimators=100; accuracy: (train=0.999, test=0.999) f1_weighted: (train=0.999, test=0.999) total time=  13.1s\n",
            "[CV 3/5] END max_depth=10, max_features=0.5, min_samples_leaf=1, min_samples_split=5, n_estimators=100; accuracy: (train=0.999, test=0.999) f1_weighted: (train=0.999, test=0.999) total time=  12.7s\n",
            "[CV 4/5] END max_depth=10, max_features=0.5, min_samples_leaf=1, min_samples_split=5, n_estimators=100; accuracy: (train=1.000, test=0.999) f1_weighted: (train=1.000, test=0.999) total time=  12.8s\n",
            "[CV 5/5] END max_depth=10, max_features=0.5, min_samples_leaf=1, min_samples_split=5, n_estimators=100; accuracy: (train=1.000, test=0.999) f1_weighted: (train=1.000, test=0.999) total time=  13.2s\n",
            "[CV 1/5] END max_depth=10, max_features=0.5, min_samples_leaf=1, min_samples_split=5, n_estimators=200; accuracy: (train=1.000, test=0.996) f1_weighted: (train=1.000, test=0.996) total time=  26.3s\n",
            "[CV 2/5] END max_depth=10, max_features=0.5, min_samples_leaf=1, min_samples_split=5, n_estimators=200; accuracy: (train=1.000, test=1.000) f1_weighted: (train=1.000, test=1.000) total time=  27.2s\n",
            "[CV 3/5] END max_depth=10, max_features=0.5, min_samples_leaf=1, min_samples_split=5, n_estimators=200; accuracy: (train=0.999, test=0.999) f1_weighted: (train=0.999, test=0.999) total time=  26.9s\n",
            "[CV 4/5] END max_depth=10, max_features=0.5, min_samples_leaf=1, min_samples_split=5, n_estimators=200; accuracy: (train=1.000, test=0.999) f1_weighted: (train=1.000, test=0.999) total time=  27.0s\n",
            "[CV 5/5] END max_depth=10, max_features=0.5, min_samples_leaf=1, min_samples_split=5, n_estimators=200; accuracy: (train=1.000, test=0.999) f1_weighted: (train=1.000, test=0.999) total time=  27.2s\n",
            "[CV 1/5] END max_depth=10, max_features=0.5, min_samples_leaf=1, min_samples_split=5, n_estimators=500; accuracy: (train=1.000, test=0.996) f1_weighted: (train=1.000, test=0.996) total time= 1.1min\n",
            "[CV 2/5] END max_depth=10, max_features=0.5, min_samples_leaf=1, min_samples_split=5, n_estimators=500; accuracy: (train=1.000, test=1.000) f1_weighted: (train=1.000, test=1.000) total time= 1.1min\n",
            "[CV 3/5] END max_depth=10, max_features=0.5, min_samples_leaf=1, min_samples_split=5, n_estimators=500; accuracy: (train=1.000, test=0.999) f1_weighted: (train=1.000, test=0.999) total time= 1.1min\n",
            "[CV 4/5] END max_depth=10, max_features=0.5, min_samples_leaf=1, min_samples_split=5, n_estimators=500; accuracy: (train=1.000, test=0.999) f1_weighted: (train=1.000, test=0.999) total time= 1.1min\n",
            "[CV 5/5] END max_depth=10, max_features=0.5, min_samples_leaf=1, min_samples_split=5, n_estimators=500; accuracy: (train=1.000, test=0.999) f1_weighted: (train=1.000, test=0.999) total time= 1.1min\n",
            "[CV 1/5] END max_depth=10, max_features=0.5, min_samples_leaf=1, min_samples_split=10, n_estimators=100; accuracy: (train=1.000, test=0.996) f1_weighted: (train=1.000, test=0.996) total time=  13.8s\n",
            "[CV 2/5] END max_depth=10, max_features=0.5, min_samples_leaf=1, min_samples_split=10, n_estimators=100; accuracy: (train=0.999, test=0.999) f1_weighted: (train=0.999, test=0.999) total time=  13.8s\n",
            "[CV 3/5] END max_depth=10, max_features=0.5, min_samples_leaf=1, min_samples_split=10, n_estimators=100; accuracy: (train=0.999, test=0.998) f1_weighted: (train=0.999, test=0.998) total time=  13.7s\n",
            "[CV 4/5] END max_depth=10, max_features=0.5, min_samples_leaf=1, min_samples_split=10, n_estimators=100; accuracy: (train=1.000, test=0.999) f1_weighted: (train=1.000, test=0.999) total time=  13.8s\n",
            "[CV 5/5] END max_depth=10, max_features=0.5, min_samples_leaf=1, min_samples_split=10, n_estimators=100; accuracy: (train=1.000, test=0.999) f1_weighted: (train=1.000, test=0.999) total time=  13.8s\n",
            "[CV 1/5] END max_depth=10, max_features=0.5, min_samples_leaf=1, min_samples_split=10, n_estimators=200; accuracy: (train=1.000, test=0.996) f1_weighted: (train=1.000, test=0.996) total time=  27.0s\n",
            "[CV 2/5] END max_depth=10, max_features=0.5, min_samples_leaf=1, min_samples_split=10, n_estimators=200; accuracy: (train=0.999, test=0.999) f1_weighted: (train=0.999, test=0.999) total time=  27.2s\n",
            "[CV 3/5] END max_depth=10, max_features=0.5, min_samples_leaf=1, min_samples_split=10, n_estimators=200; accuracy: (train=0.999, test=0.999) f1_weighted: (train=0.999, test=0.999) total time=  26.9s\n",
            "[CV 4/5] END max_depth=10, max_features=0.5, min_samples_leaf=1, min_samples_split=10, n_estimators=200; accuracy: (train=1.000, test=0.999) f1_weighted: (train=1.000, test=0.999) total time=  26.1s\n",
            "[CV 5/5] END max_depth=10, max_features=0.5, min_samples_leaf=1, min_samples_split=10, n_estimators=200; accuracy: (train=1.000, test=0.999) f1_weighted: (train=1.000, test=0.999) total time=  25.7s\n",
            "[CV 1/5] END max_depth=10, max_features=0.5, min_samples_leaf=1, min_samples_split=10, n_estimators=500; accuracy: (train=1.000, test=0.996) f1_weighted: (train=1.000, test=0.996) total time= 1.1min\n",
            "[CV 2/5] END max_depth=10, max_features=0.5, min_samples_leaf=1, min_samples_split=10, n_estimators=500; accuracy: (train=1.000, test=0.999) f1_weighted: (train=1.000, test=0.999) total time= 1.1min\n",
            "[CV 3/5] END max_depth=10, max_features=0.5, min_samples_leaf=1, min_samples_split=10, n_estimators=500; accuracy: (train=1.000, test=0.999) f1_weighted: (train=1.000, test=0.999) total time= 1.3min\n",
            "[CV 4/5] END max_depth=10, max_features=0.5, min_samples_leaf=1, min_samples_split=10, n_estimators=500; accuracy: (train=1.000, test=0.999) f1_weighted: (train=1.000, test=0.999) total time= 1.1min\n",
            "[CV 5/5] END max_depth=10, max_features=0.5, min_samples_leaf=1, min_samples_split=10, n_estimators=500; accuracy: (train=1.000, test=0.999) f1_weighted: (train=1.000, test=0.999) total time= 1.1min\n",
            "[CV 1/5] END max_depth=10, max_features=0.5, min_samples_leaf=5, min_samples_split=2, n_estimators=100; accuracy: (train=1.000, test=0.996) f1_weighted: (train=1.000, test=0.996) total time=  13.6s\n",
            "[CV 2/5] END max_depth=10, max_features=0.5, min_samples_leaf=5, min_samples_split=2, n_estimators=100; accuracy: (train=0.999, test=0.999) f1_weighted: (train=0.999, test=0.999) total time=  13.6s\n",
            "[CV 3/5] END max_depth=10, max_features=0.5, min_samples_leaf=5, min_samples_split=2, n_estimators=100; accuracy: (train=0.999, test=0.999) f1_weighted: (train=0.999, test=0.999) total time=  13.5s\n",
            "[CV 4/5] END max_depth=10, max_features=0.5, min_samples_leaf=5, min_samples_split=2, n_estimators=100; accuracy: (train=0.999, test=0.998) f1_weighted: (train=0.999, test=0.998) total time=  13.7s\n",
            "[CV 5/5] END max_depth=10, max_features=0.5, min_samples_leaf=5, min_samples_split=2, n_estimators=100; accuracy: (train=0.999, test=0.999) f1_weighted: (train=0.999, test=0.999) total time=  14.0s\n",
            "[CV 1/5] END max_depth=10, max_features=0.5, min_samples_leaf=5, min_samples_split=2, n_estimators=200; accuracy: (train=0.999, test=0.995) f1_weighted: (train=0.999, test=0.995) total time=  27.6s\n",
            "[CV 2/5] END max_depth=10, max_features=0.5, min_samples_leaf=5, min_samples_split=2, n_estimators=200; accuracy: (train=0.999, test=0.999) f1_weighted: (train=0.999, test=0.999) total time=  27.6s\n",
            "[CV 3/5] END max_depth=10, max_features=0.5, min_samples_leaf=5, min_samples_split=2, n_estimators=200; accuracy: (train=0.999, test=0.999) f1_weighted: (train=0.999, test=0.999) total time=  27.1s\n",
            "[CV 4/5] END max_depth=10, max_features=0.5, min_samples_leaf=5, min_samples_split=2, n_estimators=200; accuracy: (train=0.999, test=0.999) f1_weighted: (train=0.999, test=0.999) total time=  25.7s\n",
            "[CV 5/5] END max_depth=10, max_features=0.5, min_samples_leaf=5, min_samples_split=2, n_estimators=200; accuracy: (train=0.999, test=0.998) f1_weighted: (train=0.999, test=0.998) total time=  25.5s\n",
            "[CV 1/5] END max_depth=10, max_features=0.5, min_samples_leaf=5, min_samples_split=2, n_estimators=500; accuracy: (train=0.999, test=0.996) f1_weighted: (train=0.999, test=0.996) total time= 1.1min\n",
            "[CV 2/5] END max_depth=10, max_features=0.5, min_samples_leaf=5, min_samples_split=2, n_estimators=500; accuracy: (train=0.999, test=0.999) f1_weighted: (train=0.999, test=0.999) total time= 1.1min\n",
            "[CV 3/5] END max_depth=10, max_features=0.5, min_samples_leaf=5, min_samples_split=2, n_estimators=500; accuracy: (train=0.999, test=0.999) f1_weighted: (train=0.999, test=0.999) total time= 1.1min\n",
            "[CV 4/5] END max_depth=10, max_features=0.5, min_samples_leaf=5, min_samples_split=2, n_estimators=500; accuracy: (train=0.999, test=0.999) f1_weighted: (train=0.999, test=0.999) total time= 1.1min\n",
            "[CV 5/5] END max_depth=10, max_features=0.5, min_samples_leaf=5, min_samples_split=2, n_estimators=500; accuracy: (train=0.999, test=0.999) f1_weighted: (train=0.999, test=0.999) total time= 1.1min\n",
            "[CV 1/5] END max_depth=10, max_features=0.5, min_samples_leaf=5, min_samples_split=5, n_estimators=100; accuracy: (train=1.000, test=0.996) f1_weighted: (train=1.000, test=0.996) total time=  12.7s\n",
            "[CV 2/5] END max_depth=10, max_features=0.5, min_samples_leaf=5, min_samples_split=5, n_estimators=100; accuracy: (train=0.999, test=0.999) f1_weighted: (train=0.999, test=0.999) total time=  12.9s\n",
            "[CV 3/5] END max_depth=10, max_features=0.5, min_samples_leaf=5, min_samples_split=5, n_estimators=100; accuracy: (train=0.999, test=0.999) f1_weighted: (train=0.999, test=0.999) total time=  13.0s\n",
            "[CV 4/5] END max_depth=10, max_features=0.5, min_samples_leaf=5, min_samples_split=5, n_estimators=100; accuracy: (train=0.999, test=0.998) f1_weighted: (train=0.999, test=0.998) total time=  13.6s\n",
            "[CV 5/5] END max_depth=10, max_features=0.5, min_samples_leaf=5, min_samples_split=5, n_estimators=100; accuracy: (train=0.999, test=0.999) f1_weighted: (train=0.999, test=0.999) total time=  13.7s\n",
            "[CV 1/5] END max_depth=10, max_features=0.5, min_samples_leaf=5, min_samples_split=5, n_estimators=200; accuracy: (train=0.999, test=0.995) f1_weighted: (train=0.999, test=0.995) total time=  26.7s\n",
            "[CV 2/5] END max_depth=10, max_features=0.5, min_samples_leaf=5, min_samples_split=5, n_estimators=200; accuracy: (train=0.999, test=0.999) f1_weighted: (train=0.999, test=0.999) total time=  26.8s\n",
            "[CV 3/5] END max_depth=10, max_features=0.5, min_samples_leaf=5, min_samples_split=5, n_estimators=200; accuracy: (train=0.999, test=0.999) f1_weighted: (train=0.999, test=0.999) total time=  26.6s\n",
            "[CV 4/5] END max_depth=10, max_features=0.5, min_samples_leaf=5, min_samples_split=5, n_estimators=200; accuracy: (train=0.999, test=0.999) f1_weighted: (train=0.999, test=0.999) total time=  26.8s\n",
            "[CV 5/5] END max_depth=10, max_features=0.5, min_samples_leaf=5, min_samples_split=5, n_estimators=200; accuracy: (train=0.999, test=0.998) f1_weighted: (train=0.999, test=0.998) total time=  25.9s\n",
            "[CV 1/5] END max_depth=10, max_features=0.5, min_samples_leaf=5, min_samples_split=5, n_estimators=500; accuracy: (train=0.999, test=0.996) f1_weighted: (train=0.999, test=0.996) total time= 1.1min\n",
            "[CV 2/5] END max_depth=10, max_features=0.5, min_samples_leaf=5, min_samples_split=5, n_estimators=500; accuracy: (train=0.999, test=0.999) f1_weighted: (train=0.999, test=0.999) total time= 1.1min\n",
            "[CV 3/5] END max_depth=10, max_features=0.5, min_samples_leaf=5, min_samples_split=5, n_estimators=500; accuracy: (train=0.999, test=0.999) f1_weighted: (train=0.999, test=0.999) total time= 1.1min\n",
            "[CV 4/5] END max_depth=10, max_features=0.5, min_samples_leaf=5, min_samples_split=5, n_estimators=500; accuracy: (train=0.999, test=0.999) f1_weighted: (train=0.999, test=0.999) total time= 1.1min\n",
            "[CV 5/5] END max_depth=10, max_features=0.5, min_samples_leaf=5, min_samples_split=5, n_estimators=500; accuracy: (train=0.999, test=0.999) f1_weighted: (train=0.999, test=0.999) total time= 1.1min\n",
            "[CV 1/5] END max_depth=10, max_features=0.5, min_samples_leaf=5, min_samples_split=10, n_estimators=100; accuracy: (train=1.000, test=0.996) f1_weighted: (train=1.000, test=0.996) total time=  13.5s\n",
            "[CV 2/5] END max_depth=10, max_features=0.5, min_samples_leaf=5, min_samples_split=10, n_estimators=100; accuracy: (train=0.999, test=0.999) f1_weighted: (train=0.999, test=0.999) total time=  13.5s\n",
            "[CV 3/5] END max_depth=10, max_features=0.5, min_samples_leaf=5, min_samples_split=10, n_estimators=100; accuracy: (train=0.999, test=0.999) f1_weighted: (train=0.999, test=0.999) total time=  13.4s\n",
            "[CV 4/5] END max_depth=10, max_features=0.5, min_samples_leaf=5, min_samples_split=10, n_estimators=100; accuracy: (train=0.999, test=0.998) f1_weighted: (train=0.999, test=0.998) total time=  13.6s\n",
            "[CV 5/5] END max_depth=10, max_features=0.5, min_samples_leaf=5, min_samples_split=10, n_estimators=100; accuracy: (train=0.999, test=0.999) f1_weighted: (train=0.999, test=0.999) total time=  13.5s\n",
            "[CV 1/5] END max_depth=10, max_features=0.5, min_samples_leaf=5, min_samples_split=10, n_estimators=200; accuracy: (train=0.999, test=0.995) f1_weighted: (train=0.999, test=0.995) total time=  25.2s\n",
            "[CV 2/5] END max_depth=10, max_features=0.5, min_samples_leaf=5, min_samples_split=10, n_estimators=200; accuracy: (train=0.999, test=0.999) f1_weighted: (train=0.999, test=0.999) total time=  25.7s\n",
            "[CV 3/5] END max_depth=10, max_features=0.5, min_samples_leaf=5, min_samples_split=10, n_estimators=200; accuracy: (train=0.999, test=0.999) f1_weighted: (train=0.999, test=0.999) total time=  26.5s\n",
            "[CV 4/5] END max_depth=10, max_features=0.5, min_samples_leaf=5, min_samples_split=10, n_estimators=200; accuracy: (train=0.999, test=0.999) f1_weighted: (train=0.999, test=0.999) total time=  26.8s\n",
            "[CV 5/5] END max_depth=10, max_features=0.5, min_samples_leaf=5, min_samples_split=10, n_estimators=200; accuracy: (train=0.999, test=0.998) f1_weighted: (train=0.999, test=0.998) total time=  26.8s\n",
            "[CV 1/5] END max_depth=10, max_features=0.5, min_samples_leaf=5, min_samples_split=10, n_estimators=500; accuracy: (train=0.999, test=0.996) f1_weighted: (train=0.999, test=0.996) total time= 1.1min\n",
            "[CV 2/5] END max_depth=10, max_features=0.5, min_samples_leaf=5, min_samples_split=10, n_estimators=500; accuracy: (train=0.999, test=0.999) f1_weighted: (train=0.999, test=0.999) total time= 1.1min\n",
            "[CV 3/5] END max_depth=10, max_features=0.5, min_samples_leaf=5, min_samples_split=10, n_estimators=500; accuracy: (train=0.999, test=0.999) f1_weighted: (train=0.999, test=0.999) total time= 1.1min\n",
            "[CV 4/5] END max_depth=10, max_features=0.5, min_samples_leaf=5, min_samples_split=10, n_estimators=500; accuracy: (train=0.999, test=0.999) f1_weighted: (train=0.999, test=0.999) total time= 1.1min\n",
            "[CV 5/5] END max_depth=10, max_features=0.5, min_samples_leaf=5, min_samples_split=10, n_estimators=500; accuracy: (train=0.999, test=0.999) f1_weighted: (train=0.999, test=0.999) total time= 1.1min\n",
            "[CV 1/5] END max_depth=10, max_features=0.5, min_samples_leaf=10, min_samples_split=2, n_estimators=100; accuracy: (train=0.999, test=0.995) f1_weighted: (train=0.999, test=0.995) total time=  13.4s\n",
            "[CV 2/5] END max_depth=10, max_features=0.5, min_samples_leaf=10, min_samples_split=2, n_estimators=100; accuracy: (train=0.998, test=0.998) f1_weighted: (train=0.998, test=0.998) total time=  13.4s\n",
            "[CV 3/5] END max_depth=10, max_features=0.5, min_samples_leaf=10, min_samples_split=2, n_estimators=100; accuracy: (train=0.999, test=0.999) f1_weighted: (train=0.999, test=0.999) total time=  13.3s\n",
            "[CV 4/5] END max_depth=10, max_features=0.5, min_samples_leaf=10, min_samples_split=2, n_estimators=100; accuracy: (train=0.998, test=0.999) f1_weighted: (train=0.998, test=0.999) total time=  13.4s\n",
            "[CV 5/5] END max_depth=10, max_features=0.5, min_samples_leaf=10, min_samples_split=2, n_estimators=100; accuracy: (train=0.999, test=0.998) f1_weighted: (train=0.999, test=0.998) total time=  12.9s\n",
            "[CV 1/5] END max_depth=10, max_features=0.5, min_samples_leaf=10, min_samples_split=2, n_estimators=200; accuracy: (train=0.999, test=0.995) f1_weighted: (train=0.999, test=0.995) total time=  24.8s\n",
            "[CV 2/5] END max_depth=10, max_features=0.5, min_samples_leaf=10, min_samples_split=2, n_estimators=200; accuracy: (train=0.999, test=0.999) f1_weighted: (train=0.999, test=0.999) total time=  25.9s\n",
            "[CV 3/5] END max_depth=10, max_features=0.5, min_samples_leaf=10, min_samples_split=2, n_estimators=200; accuracy: (train=0.999, test=0.999) f1_weighted: (train=0.999, test=0.999) total time=  26.5s\n",
            "[CV 4/5] END max_depth=10, max_features=0.5, min_samples_leaf=10, min_samples_split=2, n_estimators=200; accuracy: (train=0.999, test=0.998) f1_weighted: (train=0.999, test=0.998) total time=  26.6s\n",
            "[CV 5/5] END max_depth=10, max_features=0.5, min_samples_leaf=10, min_samples_split=2, n_estimators=200; accuracy: (train=0.999, test=0.999) f1_weighted: (train=0.999, test=0.999) total time=  26.6s\n",
            "[CV 1/5] END max_depth=10, max_features=0.5, min_samples_leaf=10, min_samples_split=2, n_estimators=500; accuracy: (train=0.999, test=0.995) f1_weighted: (train=0.999, test=0.995) total time= 1.1min\n",
            "[CV 2/5] END max_depth=10, max_features=0.5, min_samples_leaf=10, min_samples_split=2, n_estimators=500; accuracy: (train=0.999, test=0.999) f1_weighted: (train=0.999, test=0.999) total time= 1.1min\n",
            "[CV 3/5] END max_depth=10, max_features=0.5, min_samples_leaf=10, min_samples_split=2, n_estimators=500; accuracy: (train=0.999, test=0.999) f1_weighted: (train=0.999, test=0.999) total time= 1.1min\n",
            "[CV 4/5] END max_depth=10, max_features=0.5, min_samples_leaf=10, min_samples_split=2, n_estimators=500; accuracy: (train=0.998, test=0.998) f1_weighted: (train=0.998, test=0.998) total time= 1.1min\n",
            "[CV 5/5] END max_depth=10, max_features=0.5, min_samples_leaf=10, min_samples_split=2, n_estimators=500; accuracy: (train=0.999, test=0.999) f1_weighted: (train=0.999, test=0.999) total time= 1.1min\n",
            "[CV 1/5] END max_depth=10, max_features=0.5, min_samples_leaf=10, min_samples_split=5, n_estimators=100; accuracy: (train=0.999, test=0.995) f1_weighted: (train=0.999, test=0.995) total time=  13.4s\n",
            "[CV 2/5] END max_depth=10, max_features=0.5, min_samples_leaf=10, min_samples_split=5, n_estimators=100; accuracy: (train=0.998, test=0.998) f1_weighted: (train=0.998, test=0.998) total time=  13.4s\n",
            "[CV 3/5] END max_depth=10, max_features=0.5, min_samples_leaf=10, min_samples_split=5, n_estimators=100; accuracy: (train=0.999, test=0.999) f1_weighted: (train=0.999, test=0.999) total time=  13.2s\n",
            "[CV 4/5] END max_depth=10, max_features=0.5, min_samples_leaf=10, min_samples_split=5, n_estimators=100; accuracy: (train=0.998, test=0.999) f1_weighted: (train=0.998, test=0.999) total time=  12.8s\n",
            "[CV 5/5] END max_depth=10, max_features=0.5, min_samples_leaf=10, min_samples_split=5, n_estimators=100; accuracy: (train=0.999, test=0.998) f1_weighted: (train=0.999, test=0.998) total time=  12.7s\n",
            "[CV 1/5] END max_depth=10, max_features=0.5, min_samples_leaf=10, min_samples_split=5, n_estimators=200; accuracy: (train=0.999, test=0.995) f1_weighted: (train=0.999, test=0.995) total time=  25.0s\n",
            "[CV 2/5] END max_depth=10, max_features=0.5, min_samples_leaf=10, min_samples_split=5, n_estimators=200; accuracy: (train=0.999, test=0.999) f1_weighted: (train=0.999, test=0.999) total time=  26.4s\n",
            "[CV 3/5] END max_depth=10, max_features=0.5, min_samples_leaf=10, min_samples_split=5, n_estimators=200; accuracy: (train=0.999, test=0.999) f1_weighted: (train=0.999, test=0.999) total time=  26.6s\n",
            "[CV 4/5] END max_depth=10, max_features=0.5, min_samples_leaf=10, min_samples_split=5, n_estimators=200; accuracy: (train=0.999, test=0.998) f1_weighted: (train=0.999, test=0.998) total time=  26.9s\n",
            "[CV 5/5] END max_depth=10, max_features=0.5, min_samples_leaf=10, min_samples_split=5, n_estimators=200; accuracy: (train=0.999, test=0.999) f1_weighted: (train=0.999, test=0.999) total time=  26.7s\n",
            "[CV 1/5] END max_depth=10, max_features=0.5, min_samples_leaf=10, min_samples_split=5, n_estimators=500; accuracy: (train=0.999, test=0.995) f1_weighted: (train=0.999, test=0.995) total time= 1.1min\n",
            "[CV 2/5] END max_depth=10, max_features=0.5, min_samples_leaf=10, min_samples_split=5, n_estimators=500; accuracy: (train=0.999, test=0.999) f1_weighted: (train=0.999, test=0.999) total time= 1.1min\n",
            "[CV 3/5] END max_depth=10, max_features=0.5, min_samples_leaf=10, min_samples_split=5, n_estimators=500; accuracy: (train=0.999, test=0.999) f1_weighted: (train=0.999, test=0.999) total time= 1.1min\n",
            "[CV 4/5] END max_depth=10, max_features=0.5, min_samples_leaf=10, min_samples_split=5, n_estimators=500; accuracy: (train=0.998, test=0.998) f1_weighted: (train=0.998, test=0.998) total time= 1.1min\n",
            "[CV 5/5] END max_depth=10, max_features=0.5, min_samples_leaf=10, min_samples_split=5, n_estimators=500; accuracy: (train=0.999, test=0.999) f1_weighted: (train=0.999, test=0.999) total time= 1.1min\n",
            "[CV 1/5] END max_depth=10, max_features=0.5, min_samples_leaf=10, min_samples_split=10, n_estimators=100; accuracy: (train=0.999, test=0.995) f1_weighted: (train=0.999, test=0.995) total time=  13.4s\n",
            "[CV 2/5] END max_depth=10, max_features=0.5, min_samples_leaf=10, min_samples_split=10, n_estimators=100; accuracy: (train=0.998, test=0.998) f1_weighted: (train=0.998, test=0.998) total time=  13.2s\n",
            "[CV 3/5] END max_depth=10, max_features=0.5, min_samples_leaf=10, min_samples_split=10, n_estimators=100; accuracy: (train=0.999, test=0.999) f1_weighted: (train=0.999, test=0.999) total time=  12.9s\n",
            "[CV 4/5] END max_depth=10, max_features=0.5, min_samples_leaf=10, min_samples_split=10, n_estimators=100; accuracy: (train=0.998, test=0.999) f1_weighted: (train=0.998, test=0.999) total time=  12.5s\n",
            "[CV 5/5] END max_depth=10, max_features=0.5, min_samples_leaf=10, min_samples_split=10, n_estimators=100; accuracy: (train=0.999, test=0.998) f1_weighted: (train=0.999, test=0.998) total time=  14.5s\n",
            "[CV 1/5] END max_depth=10, max_features=0.5, min_samples_leaf=10, min_samples_split=10, n_estimators=200; accuracy: (train=0.999, test=0.995) f1_weighted: (train=0.999, test=0.995) total time=  24.8s\n",
            "[CV 2/5] END max_depth=10, max_features=0.5, min_samples_leaf=10, min_samples_split=10, n_estimators=200; accuracy: (train=0.999, test=0.999) f1_weighted: (train=0.999, test=0.999) total time=  26.0s\n",
            "[CV 3/5] END max_depth=10, max_features=0.5, min_samples_leaf=10, min_samples_split=10, n_estimators=200; accuracy: (train=0.999, test=0.999) f1_weighted: (train=0.999, test=0.999) total time=  26.5s\n",
            "[CV 4/5] END max_depth=10, max_features=0.5, min_samples_leaf=10, min_samples_split=10, n_estimators=200; accuracy: (train=0.999, test=0.998) f1_weighted: (train=0.999, test=0.998) total time=  26.7s\n",
            "[CV 5/5] END max_depth=10, max_features=0.5, min_samples_leaf=10, min_samples_split=10, n_estimators=200; accuracy: (train=0.999, test=0.999) f1_weighted: (train=0.999, test=0.999) total time=  26.7s\n",
            "[CV 1/5] END max_depth=10, max_features=0.5, min_samples_leaf=10, min_samples_split=10, n_estimators=500; accuracy: (train=0.999, test=0.995) f1_weighted: (train=0.999, test=0.995) total time= 1.1min\n",
            "[CV 2/5] END max_depth=10, max_features=0.5, min_samples_leaf=10, min_samples_split=10, n_estimators=500; accuracy: (train=0.999, test=0.999) f1_weighted: (train=0.999, test=0.999) total time= 1.1min\n",
            "[CV 3/5] END max_depth=10, max_features=0.5, min_samples_leaf=10, min_samples_split=10, n_estimators=500; accuracy: (train=0.999, test=0.999) f1_weighted: (train=0.999, test=0.999) total time= 1.1min\n",
            "[CV 4/5] END max_depth=10, max_features=0.5, min_samples_leaf=10, min_samples_split=10, n_estimators=500; accuracy: (train=0.998, test=0.998) f1_weighted: (train=0.998, test=0.998) total time= 1.1min\n",
            "[CV 5/5] END max_depth=10, max_features=0.5, min_samples_leaf=10, min_samples_split=10, n_estimators=500; accuracy: (train=0.999, test=0.999) f1_weighted: (train=0.999, test=0.999) total time= 1.1min\n"
          ]
        },
        {
          "output_type": "execute_result",
          "data": {
            "text/plain": [
              "GridSearchCV(cv=5,\n",
              "             estimator=RandomForestClassifier(class_weight='balanced',\n",
              "                                              n_jobs=-1, random_state=42),\n",
              "             n_jobs=1,\n",
              "             param_grid={'max_depth': [5, 10], 'max_features': [0.25, 0.5],\n",
              "                         'min_samples_leaf': [1, 5, 10],\n",
              "                         'min_samples_split': [2, 5, 10],\n",
              "                         'n_estimators': [100, 200, 500]},\n",
              "             refit='f1_weighted', return_train_score=True,\n",
              "             scoring=['accuracy', 'f1_weighted'], verbose=3)"
            ],
            "text/html": [
              "<style>#sk-container-id-1 {color: black;background-color: white;}#sk-container-id-1 pre{padding: 0;}#sk-container-id-1 div.sk-toggleable {background-color: white;}#sk-container-id-1 label.sk-toggleable__label {cursor: pointer;display: block;width: 100%;margin-bottom: 0;padding: 0.3em;box-sizing: border-box;text-align: center;}#sk-container-id-1 label.sk-toggleable__label-arrow:before {content: \"▸\";float: left;margin-right: 0.25em;color: #696969;}#sk-container-id-1 label.sk-toggleable__label-arrow:hover:before {color: black;}#sk-container-id-1 div.sk-estimator:hover label.sk-toggleable__label-arrow:before {color: black;}#sk-container-id-1 div.sk-toggleable__content {max-height: 0;max-width: 0;overflow: hidden;text-align: left;background-color: #f0f8ff;}#sk-container-id-1 div.sk-toggleable__content pre {margin: 0.2em;color: black;border-radius: 0.25em;background-color: #f0f8ff;}#sk-container-id-1 input.sk-toggleable__control:checked~div.sk-toggleable__content {max-height: 200px;max-width: 100%;overflow: auto;}#sk-container-id-1 input.sk-toggleable__control:checked~label.sk-toggleable__label-arrow:before {content: \"▾\";}#sk-container-id-1 div.sk-estimator input.sk-toggleable__control:checked~label.sk-toggleable__label {background-color: #d4ebff;}#sk-container-id-1 div.sk-label input.sk-toggleable__control:checked~label.sk-toggleable__label {background-color: #d4ebff;}#sk-container-id-1 input.sk-hidden--visually {border: 0;clip: rect(1px 1px 1px 1px);clip: rect(1px, 1px, 1px, 1px);height: 1px;margin: -1px;overflow: hidden;padding: 0;position: absolute;width: 1px;}#sk-container-id-1 div.sk-estimator {font-family: monospace;background-color: #f0f8ff;border: 1px dotted black;border-radius: 0.25em;box-sizing: border-box;margin-bottom: 0.5em;}#sk-container-id-1 div.sk-estimator:hover {background-color: #d4ebff;}#sk-container-id-1 div.sk-parallel-item::after {content: \"\";width: 100%;border-bottom: 1px solid gray;flex-grow: 1;}#sk-container-id-1 div.sk-label:hover label.sk-toggleable__label {background-color: #d4ebff;}#sk-container-id-1 div.sk-serial::before {content: \"\";position: absolute;border-left: 1px solid gray;box-sizing: border-box;top: 0;bottom: 0;left: 50%;z-index: 0;}#sk-container-id-1 div.sk-serial {display: flex;flex-direction: column;align-items: center;background-color: white;padding-right: 0.2em;padding-left: 0.2em;position: relative;}#sk-container-id-1 div.sk-item {position: relative;z-index: 1;}#sk-container-id-1 div.sk-parallel {display: flex;align-items: stretch;justify-content: center;background-color: white;position: relative;}#sk-container-id-1 div.sk-item::before, #sk-container-id-1 div.sk-parallel-item::before {content: \"\";position: absolute;border-left: 1px solid gray;box-sizing: border-box;top: 0;bottom: 0;left: 50%;z-index: -1;}#sk-container-id-1 div.sk-parallel-item {display: flex;flex-direction: column;z-index: 1;position: relative;background-color: white;}#sk-container-id-1 div.sk-parallel-item:first-child::after {align-self: flex-end;width: 50%;}#sk-container-id-1 div.sk-parallel-item:last-child::after {align-self: flex-start;width: 50%;}#sk-container-id-1 div.sk-parallel-item:only-child::after {width: 0;}#sk-container-id-1 div.sk-dashed-wrapped {border: 1px dashed gray;margin: 0 0.4em 0.5em 0.4em;box-sizing: border-box;padding-bottom: 0.4em;background-color: white;}#sk-container-id-1 div.sk-label label {font-family: monospace;font-weight: bold;display: inline-block;line-height: 1.2em;}#sk-container-id-1 div.sk-label-container {text-align: center;}#sk-container-id-1 div.sk-container {/* jupyter's `normalize.less` sets `[hidden] { display: none; }` but bootstrap.min.css set `[hidden] { display: none !important; }` so we also need the `!important` here to be able to override the default hidden behavior on the sphinx rendered scikit-learn.org. See: https://github.com/scikit-learn/scikit-learn/issues/21755 */display: inline-block !important;position: relative;}#sk-container-id-1 div.sk-text-repr-fallback {display: none;}</style><div id=\"sk-container-id-1\" class=\"sk-top-container\"><div class=\"sk-text-repr-fallback\"><pre>GridSearchCV(cv=5,\n",
              "             estimator=RandomForestClassifier(class_weight=&#x27;balanced&#x27;,\n",
              "                                              n_jobs=-1, random_state=42),\n",
              "             n_jobs=1,\n",
              "             param_grid={&#x27;max_depth&#x27;: [5, 10], &#x27;max_features&#x27;: [0.25, 0.5],\n",
              "                         &#x27;min_samples_leaf&#x27;: [1, 5, 10],\n",
              "                         &#x27;min_samples_split&#x27;: [2, 5, 10],\n",
              "                         &#x27;n_estimators&#x27;: [100, 200, 500]},\n",
              "             refit=&#x27;f1_weighted&#x27;, return_train_score=True,\n",
              "             scoring=[&#x27;accuracy&#x27;, &#x27;f1_weighted&#x27;], verbose=3)</pre><b>In a Jupyter environment, please rerun this cell to show the HTML representation or trust the notebook. <br />On GitHub, the HTML representation is unable to render, please try loading this page with nbviewer.org.</b></div><div class=\"sk-container\" hidden><div class=\"sk-item sk-dashed-wrapped\"><div class=\"sk-label-container\"><div class=\"sk-label sk-toggleable\"><input class=\"sk-toggleable__control sk-hidden--visually\" id=\"sk-estimator-id-1\" type=\"checkbox\" ><label for=\"sk-estimator-id-1\" class=\"sk-toggleable__label sk-toggleable__label-arrow\">GridSearchCV</label><div class=\"sk-toggleable__content\"><pre>GridSearchCV(cv=5,\n",
              "             estimator=RandomForestClassifier(class_weight=&#x27;balanced&#x27;,\n",
              "                                              n_jobs=-1, random_state=42),\n",
              "             n_jobs=1,\n",
              "             param_grid={&#x27;max_depth&#x27;: [5, 10], &#x27;max_features&#x27;: [0.25, 0.5],\n",
              "                         &#x27;min_samples_leaf&#x27;: [1, 5, 10],\n",
              "                         &#x27;min_samples_split&#x27;: [2, 5, 10],\n",
              "                         &#x27;n_estimators&#x27;: [100, 200, 500]},\n",
              "             refit=&#x27;f1_weighted&#x27;, return_train_score=True,\n",
              "             scoring=[&#x27;accuracy&#x27;, &#x27;f1_weighted&#x27;], verbose=3)</pre></div></div></div><div class=\"sk-parallel\"><div class=\"sk-parallel-item\"><div class=\"sk-item\"><div class=\"sk-label-container\"><div class=\"sk-label sk-toggleable\"><input class=\"sk-toggleable__control sk-hidden--visually\" id=\"sk-estimator-id-2\" type=\"checkbox\" ><label for=\"sk-estimator-id-2\" class=\"sk-toggleable__label sk-toggleable__label-arrow\">estimator: RandomForestClassifier</label><div class=\"sk-toggleable__content\"><pre>RandomForestClassifier(class_weight=&#x27;balanced&#x27;, n_jobs=-1, random_state=42)</pre></div></div></div><div class=\"sk-serial\"><div class=\"sk-item\"><div class=\"sk-estimator sk-toggleable\"><input class=\"sk-toggleable__control sk-hidden--visually\" id=\"sk-estimator-id-3\" type=\"checkbox\" ><label for=\"sk-estimator-id-3\" class=\"sk-toggleable__label sk-toggleable__label-arrow\">RandomForestClassifier</label><div class=\"sk-toggleable__content\"><pre>RandomForestClassifier(class_weight=&#x27;balanced&#x27;, n_jobs=-1, random_state=42)</pre></div></div></div></div></div></div></div></div></div></div>"
            ]
          },
          "metadata": {},
          "execution_count": 37
        }
      ]
    },
    {
      "cell_type": "code",
      "source": [
        "# training results\n",
        "rf_train = rf_model.predict(X_train_res)\n",
        "\n",
        "# displays the best model produced in training as well as its' hyperparameters and f1 score\n",
        "print(f'Training Result:\\n Best Model: {rf_model.best_estimator_}\\n Best Parameters: {rf_model.best_params_}\\n F1 Score: {rf_model.best_score_}')\n",
        "\n",
        "# evaluate the models performance and display scores\n",
        "print(f'Random Forest (TRAINING):\\n accuracy: {accuracy(y_train_res, rf_train):f}\\n f1 score: {f1_score(y_train_res, rf_train, average=\"weighted\"):f}')"
      ],
      "metadata": {
        "id": "VXbnWb1zK2tu",
        "colab": {
          "base_uri": "https://localhost:8080/"
        },
        "outputId": "1ee71a9c-03a6-4e8d-a74d-2fdff189ccae"
      },
      "execution_count": 38,
      "outputs": [
        {
          "output_type": "stream",
          "name": "stdout",
          "text": [
            "Training Result:\n",
            " Best Model: RandomForestClassifier(class_weight='balanced', max_depth=10, max_features=0.5,\n",
            "                       n_estimators=500, n_jobs=-1, random_state=42)\n",
            " Best Parameters: {'max_depth': 10, 'max_features': 0.5, 'min_samples_leaf': 1, 'min_samples_split': 2, 'n_estimators': 500}\n",
            " F1 Score: 0.9987568174104448\n",
            "Random Forest (TRAINING):\n",
            " accuracy: 0.999731\n",
            " f1 score: 0.999731\n"
          ]
        }
      ]
    },
    {
      "cell_type": "markdown",
      "source": [
        "### Test Random Forest"
      ],
      "metadata": {
        "id": "_xyy5kb4JxiZ"
      }
    },
    {
      "cell_type": "code",
      "source": [
        "# make predictions on test data\n",
        "rf_test = rf_model.predict(X_test)\n",
        "\n",
        "# evaluate the models performance and display scores\n",
        "print(f'Random Forest (TESTING):\\n accuracy: {accuracy(y_test, rf_test):f}\\n f1 score: {f1_score(y_test, rf_test, average=\"weighted\"):f}')"
      ],
      "metadata": {
        "id": "vyU9kN8kJ1FU",
        "colab": {
          "base_uri": "https://localhost:8080/"
        },
        "outputId": "54cbb999-2f08-46f9-892d-c39a539bcfa8"
      },
      "execution_count": 39,
      "outputs": [
        {
          "output_type": "stream",
          "name": "stdout",
          "text": [
            "Random Forest (TESTING):\n",
            " accuracy: 0.075351\n",
            " f1 score: 0.016153\n"
          ]
        }
      ]
    },
    {
      "cell_type": "markdown",
      "source": [
        "### Export Model"
      ],
      "metadata": {
        "id": "lH21zCuVPyZM"
      }
    },
    {
      "cell_type": "code",
      "source": [
        "# uses joblib to serialise trained random forest model\n",
        "SaveSKL(model = rf_model, model_fpath = (dl_dir + \"/random_forest.joblib\"))"
      ],
      "metadata": {
        "id": "DdnGauFPP7TK",
        "colab": {
          "base_uri": "https://localhost:8080/"
        },
        "outputId": "6190a1c0-7f26-4bf6-e2a1-eca85ef368cb"
      },
      "execution_count": 40,
      "outputs": [
        {
          "output_type": "stream",
          "name": "stdout",
          "text": [
            "Do you wish to save the trained model? (y/n)\n",
            "y\n",
            "Saving model to: /content/drive/MyDrive/Colab Notebooks/COMP6002_Group10_Data/random_forest.joblib\n",
            "SUCCESS: Model saved to /content/drive/MyDrive/Colab Notebooks/COMP6002_Group10_Data/random_forest.joblib\n"
          ]
        }
      ]
    },
    {
      "cell_type": "markdown",
      "source": [
        "## Neural Network"
      ],
      "metadata": {
        "id": "O4bSSnwGQfiL"
      }
    },
    {
      "cell_type": "markdown",
      "source": [
        "### NN Setup\n",
        "Import and install required libraries, sets some initial values."
      ],
      "metadata": {
        "id": "236PhyQolLI1"
      }
    },
    {
      "cell_type": "code",
      "source": [
        "# import PyTorch and confirm version\n",
        "import torch\n",
        "from torch import nn\n",
        "print(\"Using PyTorch version: {}\".format(torch.__version__))\n",
        "\n",
        "# check the availability of and set the device\n",
        "device = (\n",
        "    \"cuda\"\n",
        "    if torch.cuda.is_available()\n",
        "    else \"mps\"\n",
        "    if torch.backends.mps.is_available()\n",
        "    else \"cpu\"\n",
        ")\n",
        "print(f\"Using {device} device.\")"
      ],
      "metadata": {
        "id": "cHhG7NZ9lahV"
      },
      "execution_count": null,
      "outputs": []
    },
    {
      "cell_type": "code",
      "source": [
        "# install Skorch, providing a wrapper for using PyTorch with Sklearn\n",
        "!pip install skorch\n",
        "\n",
        "# import Skorch and confirm version\n",
        "from skorch import __version__ as skorch_version\n",
        "from skorch import NeuralNetClassifier\n",
        "print(\"Using Skorch version: {}\".format(skorch_version))"
      ],
      "metadata": {
        "id": "GUSn5zCTQfGC"
      },
      "execution_count": null,
      "outputs": []
    },
    {
      "cell_type": "markdown",
      "source": [
        "### Define Neural Network\n",
        "Currently using a Multilayer Perceptron (MLP), consider swapping to a hybrid model of a MLP and Convolutional Neural Network (CNN) later."
      ],
      "metadata": {
        "id": "AsNxj_cEDydF"
      }
    },
    {
      "cell_type": "code",
      "source": [
        "class NN_MLP(nn.Module):\n",
        "  \"\"\"Class that defines a multilayer perceptron model.\"\"\"\n",
        "  def __init__(self, input_size, hidden_size, output_size):\n",
        "    \"\"\"\n",
        "    Construct a new NN_MLP object.\n",
        "\n",
        "    Parameters:\n",
        "      input_size (int): number of inputs to the input layer.\n",
        "      hidden_size (int): number of inputs to the hidden layer(s).\n",
        "      output_size (int): number of outputs from model, equivalent to number of classes.\n",
        "    Returns:\n",
        "      : no value returned.\n",
        "    \"\"\"\n",
        "    super(NN_MLP, self).__init__()\n",
        "    # layers\n",
        "    self.h1 = nn.Linear(input_size, hidden_size)\n",
        "    self.h2 = nn.Linear(hidden_size, hidden_size)\n",
        "    self.output = nn.Linear(hidden_size, output_size)\n",
        "    # activation functions\n",
        "    self.relu = nn.ReLu()\n",
        "    self.softmax = nn.Softmax(dim = 1)\n",
        "\n",
        "  def forward(self, X):\n",
        "    \"\"\"\n",
        "    Parameters:\n",
        "      X (Any): features to make prediction on.\n",
        "    Returns:\n",
        "      Any: predicted value.\n",
        "    \"\"\"\n",
        "    out = self.h1(X)\n",
        "    out = self.relu(out)\n",
        "    out = self.h2(out)\n",
        "    out = self.relu(out)\n",
        "    out = self.output(out)\n",
        "    out = self.softmax(out)\n",
        "\n",
        "    return out"
      ],
      "metadata": {
        "id": "OFTGLP7jknbq"
      },
      "execution_count": null,
      "outputs": []
    },
    {
      "cell_type": "code",
      "source": [
        "loss_function = \"\""
      ],
      "metadata": {
        "id": "Q5tcI7MyfNQs"
      },
      "execution_count": null,
      "outputs": []
    }
  ]
}