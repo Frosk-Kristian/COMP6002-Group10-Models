{
  "nbformat": 4,
  "nbformat_minor": 0,
  "metadata": {
    "colab": {
      "provenance": [],
      "collapsed_sections": [
        "MGMnmhjzT-73",
        "eEz2Qzc_kzkt",
        "gSVADpSUPvxs",
        "2IH9h-H8QULd",
        "60pYh9NWQbIB",
        "XLFFUMQVJvo2"
      ],
      "gpuType": "T4",
      "authorship_tag": "ABX9TyPrpgy2tODrVZRan4AByZ4N",
      "include_colab_link": true
    },
    "kernelspec": {
      "name": "python3",
      "display_name": "Python 3"
    },
    "language_info": {
      "name": "python"
    },
    "accelerator": "GPU"
  },
  "cells": [
    {
      "cell_type": "markdown",
      "metadata": {
        "id": "view-in-github",
        "colab_type": "text"
      },
      "source": [
        "<a href=\"https://colab.research.google.com/github/Frosk-Kristian/COMP6002-Group10-Models/blob/develop/COMP6002_Group_Project_ML_Models.ipynb\" target=\"_parent\"><img src=\"https://colab.research.google.com/assets/colab-badge.svg\" alt=\"Open In Colab\"/></a>"
      ]
    },
    {
      "cell_type": "markdown",
      "source": [
        "# COMP6002 Computer Science Project - Group 10\n",
        "Utilising Machine Learning to detect DDoS attacks.\n",
        "\n",
        "## Reference\n",
        "Iman Sharafaldin, Arash Habibi Lashkari, Saqib Hakak, and Ali A. Ghorbani, \"Developing Realistic Distributed Denial of Service (DDoS) Attack Dataset and Taxonomy\", IEEE 53rd International Carnahan Conference on Security Technology, Chennai, India, 2019."
      ],
      "metadata": {
        "id": "vkidwNbBPly0"
      }
    },
    {
      "cell_type": "markdown",
      "source": [
        "# Setup\n",
        "Run all of these first. Sets up libraries and directories used throughout notebook."
      ],
      "metadata": {
        "id": "zN1_GsQjkwEd"
      }
    },
    {
      "cell_type": "code",
      "execution_count": 1,
      "metadata": {
        "id": "wgQiJbJiPMYb",
        "colab": {
          "base_uri": "https://localhost:8080/"
        },
        "outputId": "ed4e8d7a-1470-4cec-d4eb-b696f7566955"
      },
      "outputs": [
        {
          "output_type": "stream",
          "name": "stdout",
          "text": [
            "Using Pandas version: 2.0.3\n"
          ]
        }
      ],
      "source": [
        "import pandas as pd\n",
        "print(f\"Using Pandas version: {pd.__version__}\")"
      ]
    },
    {
      "cell_type": "code",
      "source": [
        "import numpy as np\n",
        "print(f\"Using Numpy version: {np.__version__}\")"
      ],
      "metadata": {
        "colab": {
          "base_uri": "https://localhost:8080/"
        },
        "id": "ZL7Gvu83G5FF",
        "outputId": "f03004ee-f553-4e0d-f537-56ff36a7e649"
      },
      "execution_count": 2,
      "outputs": [
        {
          "output_type": "stream",
          "name": "stdout",
          "text": [
            "Using Numpy version: 1.25.2\n"
          ]
        }
      ]
    },
    {
      "cell_type": "code",
      "source": [
        "from sklearn import __version__ as skl_ver\n",
        "print(f\"Using Sklearn version: {skl_ver}\")"
      ],
      "metadata": {
        "colab": {
          "base_uri": "https://localhost:8080/"
        },
        "id": "Zg4eRaq0fNry",
        "outputId": "aced7253-1173-4d51-b7d9-005fb180e70e"
      },
      "execution_count": 3,
      "outputs": [
        {
          "output_type": "stream",
          "name": "stdout",
          "text": [
            "Using Sklearn version: 1.2.2\n"
          ]
        }
      ]
    },
    {
      "cell_type": "code",
      "source": [
        "!pip install imblearn\n",
        "\n",
        "from imblearn import __version__ as imb_ver\n",
        "print(f\"Using Imbalanced learn version: {imb_ver}\")"
      ],
      "metadata": {
        "colab": {
          "base_uri": "https://localhost:8080/"
        },
        "id": "bO97MRm98Moc",
        "outputId": "3ef5898f-c035-4bf2-ac37-62d5d9461959"
      },
      "execution_count": 4,
      "outputs": [
        {
          "output_type": "stream",
          "name": "stdout",
          "text": [
            "Collecting imblearn\n",
            "  Downloading imblearn-0.0-py2.py3-none-any.whl (1.9 kB)\n",
            "Requirement already satisfied: imbalanced-learn in /usr/local/lib/python3.10/dist-packages (from imblearn) (0.10.1)\n",
            "Requirement already satisfied: numpy>=1.17.3 in /usr/local/lib/python3.10/dist-packages (from imbalanced-learn->imblearn) (1.25.2)\n",
            "Requirement already satisfied: scipy>=1.3.2 in /usr/local/lib/python3.10/dist-packages (from imbalanced-learn->imblearn) (1.11.4)\n",
            "Requirement already satisfied: scikit-learn>=1.0.2 in /usr/local/lib/python3.10/dist-packages (from imbalanced-learn->imblearn) (1.2.2)\n",
            "Requirement already satisfied: joblib>=1.1.1 in /usr/local/lib/python3.10/dist-packages (from imbalanced-learn->imblearn) (1.4.0)\n",
            "Requirement already satisfied: threadpoolctl>=2.0.0 in /usr/local/lib/python3.10/dist-packages (from imbalanced-learn->imblearn) (3.4.0)\n",
            "Installing collected packages: imblearn\n",
            "Successfully installed imblearn-0.0\n",
            "Using Imbalanced learn version: 0.10.1\n"
          ]
        }
      ]
    },
    {
      "cell_type": "code",
      "source": [
        "!pip install codecarbon\n",
        "\n",
        "from codecarbon import __version__ as cc_ver\n",
        "print(f\"Using CodeCarbon.io version: {cc_ver}\")"
      ],
      "metadata": {
        "id": "kB8X6j51PPET",
        "colab": {
          "base_uri": "https://localhost:8080/"
        },
        "outputId": "ec2f7b1e-3cac-4f5d-9467-eb63f09e22e9"
      },
      "execution_count": 5,
      "outputs": [
        {
          "output_type": "stream",
          "name": "stdout",
          "text": [
            "Collecting codecarbon\n",
            "  Downloading codecarbon-2.3.5-py3-none-any.whl (174 kB)\n",
            "\u001b[2K     \u001b[90m━━━━━━━━━━━━━━━━━━━━━━━━━━━━━━━━━━━━━━━━\u001b[0m \u001b[32m174.6/174.6 kB\u001b[0m \u001b[31m2.0 MB/s\u001b[0m eta \u001b[36m0:00:00\u001b[0m\n",
            "\u001b[?25hCollecting arrow (from codecarbon)\n",
            "  Downloading arrow-1.3.0-py3-none-any.whl (66 kB)\n",
            "\u001b[2K     \u001b[90m━━━━━━━━━━━━━━━━━━━━━━━━━━━━━━━━━━━━━━━━\u001b[0m \u001b[32m66.4/66.4 kB\u001b[0m \u001b[31m8.9 MB/s\u001b[0m eta \u001b[36m0:00:00\u001b[0m\n",
            "\u001b[?25hRequirement already satisfied: pandas in /usr/local/lib/python3.10/dist-packages (from codecarbon) (2.0.3)\n",
            "Collecting pynvml (from codecarbon)\n",
            "  Downloading pynvml-11.5.0-py3-none-any.whl (53 kB)\n",
            "\u001b[2K     \u001b[90m━━━━━━━━━━━━━━━━━━━━━━━━━━━━━━━━━━━━━━━━\u001b[0m \u001b[32m53.1/53.1 kB\u001b[0m \u001b[31m8.1 MB/s\u001b[0m eta \u001b[36m0:00:00\u001b[0m\n",
            "\u001b[?25hRequirement already satisfied: requests in /usr/local/lib/python3.10/dist-packages (from codecarbon) (2.31.0)\n",
            "Requirement already satisfied: psutil in /usr/local/lib/python3.10/dist-packages (from codecarbon) (5.9.5)\n",
            "Requirement already satisfied: py-cpuinfo in /usr/local/lib/python3.10/dist-packages (from codecarbon) (9.0.0)\n",
            "Collecting rapidfuzz (from codecarbon)\n",
            "  Downloading rapidfuzz-3.8.1-cp310-cp310-manylinux_2_17_x86_64.manylinux2014_x86_64.whl (3.4 MB)\n",
            "\u001b[2K     \u001b[90m━━━━━━━━━━━━━━━━━━━━━━━━━━━━━━━━━━━━━━━━\u001b[0m \u001b[32m3.4/3.4 MB\u001b[0m \u001b[31m19.1 MB/s\u001b[0m eta \u001b[36m0:00:00\u001b[0m\n",
            "\u001b[?25hRequirement already satisfied: click in /usr/local/lib/python3.10/dist-packages (from codecarbon) (8.1.7)\n",
            "Requirement already satisfied: prometheus-client in /usr/local/lib/python3.10/dist-packages (from codecarbon) (0.20.0)\n",
            "Requirement already satisfied: python-dateutil>=2.7.0 in /usr/local/lib/python3.10/dist-packages (from arrow->codecarbon) (2.8.2)\n",
            "Collecting types-python-dateutil>=2.8.10 (from arrow->codecarbon)\n",
            "  Downloading types_python_dateutil-2.9.0.20240316-py3-none-any.whl (9.7 kB)\n",
            "Requirement already satisfied: pytz>=2020.1 in /usr/local/lib/python3.10/dist-packages (from pandas->codecarbon) (2023.4)\n",
            "Requirement already satisfied: tzdata>=2022.1 in /usr/local/lib/python3.10/dist-packages (from pandas->codecarbon) (2024.1)\n",
            "Requirement already satisfied: numpy>=1.21.0 in /usr/local/lib/python3.10/dist-packages (from pandas->codecarbon) (1.25.2)\n",
            "Requirement already satisfied: charset-normalizer<4,>=2 in /usr/local/lib/python3.10/dist-packages (from requests->codecarbon) (3.3.2)\n",
            "Requirement already satisfied: idna<4,>=2.5 in /usr/local/lib/python3.10/dist-packages (from requests->codecarbon) (3.7)\n",
            "Requirement already satisfied: urllib3<3,>=1.21.1 in /usr/local/lib/python3.10/dist-packages (from requests->codecarbon) (2.0.7)\n",
            "Requirement already satisfied: certifi>=2017.4.17 in /usr/local/lib/python3.10/dist-packages (from requests->codecarbon) (2024.2.2)\n",
            "Requirement already satisfied: six>=1.5 in /usr/local/lib/python3.10/dist-packages (from python-dateutil>=2.7.0->arrow->codecarbon) (1.16.0)\n",
            "Installing collected packages: types-python-dateutil, rapidfuzz, pynvml, arrow, codecarbon\n",
            "Successfully installed arrow-1.3.0 codecarbon-2.3.5 pynvml-11.5.0 rapidfuzz-3.8.1 types-python-dateutil-2.9.0.20240316\n",
            "Using CodeCarbon.io version: 2.3.5\n"
          ]
        }
      ]
    },
    {
      "cell_type": "code",
      "source": [
        "import os\n",
        "from google.colab import drive\n",
        "\n",
        "# mounts google drive\n",
        "drive.mount(\"/content/drive\")\n",
        "\n",
        "# directory that project related files are stored in\n",
        "dl_dir = os.getcwd() + r'/drive/MyDrive/Colab Notebooks/COMP6002_Group10_Data'\n",
        "# directory that exports are saved in\n",
        "save_dir = dl_dir + f\"/Exports_{pd.Timestamp.today(tz='Australia/Perth').strftime('%d-%m-%Y')}\"\n",
        "# directory that the runtime will store the unzipped dataset in (not on your drive)\n",
        "data_dir = os.getcwd() + '/dataset'\n",
        "\n",
        "# checks if export directory already exists, if not creates it\n",
        "if os.path.exists(dl_dir):\n",
        "  print(f\"Directory {dl_dir} already exists.\\n\")\n",
        "else:\n",
        "  os.mkdir(dl_dir)\n",
        "  print(f\"Successfully created the directory {dl_dir}\")\n",
        "\n",
        "# checks if saves directory already exists, if not creates it\n",
        "if os.path.exists(save_dir):\n",
        "  print(f\"Directory {save_dir} already exists.\\n\")\n",
        "else:\n",
        "  os.mkdir(save_dir)\n",
        "  print(f\"Successfully created the directory {save_dir}\")"
      ],
      "metadata": {
        "colab": {
          "base_uri": "https://localhost:8080/"
        },
        "id": "bUdWg_050_Ro",
        "outputId": "d4cf0733-e71f-4aaf-fd9a-5c1caa0bc61c"
      },
      "execution_count": 6,
      "outputs": [
        {
          "output_type": "stream",
          "name": "stdout",
          "text": [
            "Mounted at /content/drive\n",
            "Directory /content/drive/MyDrive/Colab Notebooks/COMP6002_Group10_Data already exists.\n",
            "\n",
            "Directory /content/drive/MyDrive/Colab Notebooks/COMP6002_Group10_Data/Exports_01-05-2024 already exists.\n",
            "\n"
          ]
        }
      ]
    },
    {
      "cell_type": "markdown",
      "source": [
        "## Instance Details\n",
        "Gets hardware specifications and region details of the Google Colab instance."
      ],
      "metadata": {
        "id": "MGMnmhjzT-73"
      }
    },
    {
      "cell_type": "code",
      "source": [
        "# CPU specifications\n",
        "from psutil import *\n",
        "\n",
        "!cat /proc/cpuinfo | grep \"model name\" | head -1\n",
        "\n",
        "print(f\"Number of CPU: {cpu_count()}\")\n",
        "!cat /proc/cpuinfo"
      ],
      "metadata": {
        "colab": {
          "base_uri": "https://localhost:8080/"
        },
        "id": "bW7ISKOxJFGT",
        "outputId": "44ec7f82-17d2-47f8-d1a2-8735007f55d0"
      },
      "execution_count": null,
      "outputs": [
        {
          "output_type": "stream",
          "name": "stdout",
          "text": [
            "model name\t: Intel(R) Xeon(R) CPU @ 2.20GHz\n",
            "Number of CPU: 2\n",
            "processor\t: 0\n",
            "vendor_id\t: GenuineIntel\n",
            "cpu family\t: 6\n",
            "model\t\t: 79\n",
            "model name\t: Intel(R) Xeon(R) CPU @ 2.20GHz\n",
            "stepping\t: 0\n",
            "microcode\t: 0xffffffff\n",
            "cpu MHz\t\t: 2199.998\n",
            "cache size\t: 56320 KB\n",
            "physical id\t: 0\n",
            "siblings\t: 2\n",
            "core id\t\t: 0\n",
            "cpu cores\t: 1\n",
            "apicid\t\t: 0\n",
            "initial apicid\t: 0\n",
            "fpu\t\t: yes\n",
            "fpu_exception\t: yes\n",
            "cpuid level\t: 13\n",
            "wp\t\t: yes\n",
            "flags\t\t: fpu vme de pse tsc msr pae mce cx8 apic sep mtrr pge mca cmov pat pse36 clflush mmx fxsr sse sse2 ss ht syscall nx pdpe1gb rdtscp lm constant_tsc rep_good nopl xtopology nonstop_tsc cpuid tsc_known_freq pni pclmulqdq ssse3 fma cx16 pcid sse4_1 sse4_2 x2apic movbe popcnt aes xsave avx f16c rdrand hypervisor lahf_lm abm 3dnowprefetch invpcid_single ssbd ibrs ibpb stibp fsgsbase tsc_adjust bmi1 hle avx2 smep bmi2 erms invpcid rtm rdseed adx smap xsaveopt arat md_clear arch_capabilities\n",
            "bugs\t\t: cpu_meltdown spectre_v1 spectre_v2 spec_store_bypass l1tf mds swapgs taa mmio_stale_data retbleed\n",
            "bogomips\t: 4399.99\n",
            "clflush size\t: 64\n",
            "cache_alignment\t: 64\n",
            "address sizes\t: 46 bits physical, 48 bits virtual\n",
            "power management:\n",
            "\n",
            "processor\t: 1\n",
            "vendor_id\t: GenuineIntel\n",
            "cpu family\t: 6\n",
            "model\t\t: 79\n",
            "model name\t: Intel(R) Xeon(R) CPU @ 2.20GHz\n",
            "stepping\t: 0\n",
            "microcode\t: 0xffffffff\n",
            "cpu MHz\t\t: 2199.998\n",
            "cache size\t: 56320 KB\n",
            "physical id\t: 0\n",
            "siblings\t: 2\n",
            "core id\t\t: 0\n",
            "cpu cores\t: 1\n",
            "apicid\t\t: 1\n",
            "initial apicid\t: 1\n",
            "fpu\t\t: yes\n",
            "fpu_exception\t: yes\n",
            "cpuid level\t: 13\n",
            "wp\t\t: yes\n",
            "flags\t\t: fpu vme de pse tsc msr pae mce cx8 apic sep mtrr pge mca cmov pat pse36 clflush mmx fxsr sse sse2 ss ht syscall nx pdpe1gb rdtscp lm constant_tsc rep_good nopl xtopology nonstop_tsc cpuid tsc_known_freq pni pclmulqdq ssse3 fma cx16 pcid sse4_1 sse4_2 x2apic movbe popcnt aes xsave avx f16c rdrand hypervisor lahf_lm abm 3dnowprefetch invpcid_single ssbd ibrs ibpb stibp fsgsbase tsc_adjust bmi1 hle avx2 smep bmi2 erms invpcid rtm rdseed adx smap xsaveopt arat md_clear arch_capabilities\n",
            "bugs\t\t: cpu_meltdown spectre_v1 spectre_v2 spec_store_bypass l1tf mds swapgs taa mmio_stale_data retbleed\n",
            "bogomips\t: 4399.99\n",
            "clflush size\t: 64\n",
            "cache_alignment\t: 64\n",
            "address sizes\t: 46 bits physical, 48 bits virtual\n",
            "power management:\n",
            "\n"
          ]
        }
      ]
    },
    {
      "cell_type": "code",
      "source": [
        "# VRAM specifications\n",
        "virtual_memory()"
      ],
      "metadata": {
        "colab": {
          "base_uri": "https://localhost:8080/"
        },
        "id": "2LVrEUT0Ja_7",
        "outputId": "bf6f64aa-3f6a-4946-8d60-3bad6197439e"
      },
      "execution_count": null,
      "outputs": [
        {
          "output_type": "execute_result",
          "data": {
            "text/plain": [
              "svmem(total=13609451520, available=12364206080, percent=9.1, used=938582016, free=8320077824, active=670302208, inactive=4388851712, buffers=347938816, cached=4002852864, shared=1433600, slab=154607616)"
            ]
          },
          "metadata": {},
          "execution_count": 8
        }
      ]
    },
    {
      "cell_type": "code",
      "source": [
        "# GPU specifications\n",
        "!nvidia-smi"
      ],
      "metadata": {
        "colab": {
          "base_uri": "https://localhost:8080/"
        },
        "id": "aM8VQOFEUKZ0",
        "outputId": "f528337e-d171-4877-9f65-eb389e08249c"
      },
      "execution_count": null,
      "outputs": [
        {
          "output_type": "stream",
          "name": "stdout",
          "text": [
            "/bin/bash: line 1: nvidia-smi: command not found\n"
          ]
        }
      ]
    },
    {
      "cell_type": "code",
      "source": [
        "# Server information\n",
        "!curl ipinfo.io"
      ],
      "metadata": {
        "colab": {
          "base_uri": "https://localhost:8080/"
        },
        "id": "UrBI5LScuDdB",
        "outputId": "e11f3e79-dee1-41a1-a800-2618dd7a28b8"
      },
      "execution_count": null,
      "outputs": [
        {
          "output_type": "stream",
          "name": "stdout",
          "text": [
            "{\n",
            "  \"ip\": \"35.230.111.187\",\n",
            "  \"hostname\": \"187.111.230.35.bc.googleusercontent.com\",\n",
            "  \"city\": \"The Dalles\",\n",
            "  \"region\": \"Oregon\",\n",
            "  \"country\": \"US\",\n",
            "  \"loc\": \"45.5946,-121.1787\",\n",
            "  \"org\": \"AS396982 Google LLC\",\n",
            "  \"postal\": \"97058\",\n",
            "  \"timezone\": \"America/Los_Angeles\",\n",
            "  \"readme\": \"https://ipinfo.io/missingauth\"\n",
            "}"
          ]
        }
      ]
    },
    {
      "cell_type": "markdown",
      "source": [
        "## Define Helper Functions"
      ],
      "metadata": {
        "id": "eEz2Qzc_kzkt"
      }
    },
    {
      "cell_type": "code",
      "source": [
        "# helper functions for exporting/importing models trained with Sklearn, use the NN specific functions when saving/loading the neural network\n",
        "# all functions defined will prompt the user for confirmation unless skip_prompt is True, to allow for skipping the functions when running the notebook\n",
        "import joblib\n",
        "import pickle\n",
        "\n",
        "print(f\"Using Joblib version: {joblib.__version__}\")\n",
        "print(f\"Using Pickle version: {pickle.format_version}\")\n",
        "\n",
        "# function used to append a number to a filename in the event that the file already exists\n",
        "def IncrementFname(file_path):\n",
        "  \"\"\"\n",
        "  Takes a file path, splits the file name/extension and inserts an incrementing integer between them until a unique name is found.\n",
        "\n",
        "  Parameters:\n",
        "    file_path (string): full file path to increment, including extension.\n",
        "  Returns:\n",
        "    string: new file name in the form of 'path/to/file(i).extension'.\n",
        "  \"\"\"\n",
        "  fname, ext = os.path.splitext(file_path)\n",
        "  i = 1\n",
        "  new_name = f'{fname}({i}){ext}' # intial reassignment\n",
        "\n",
        "  # if filename(1).extension already exists, increment number until an unused one is found\n",
        "  while os.path.exists(new_name):\n",
        "    i += 1\n",
        "    new_name = f'{fname}({i}){ext}'\n",
        "\n",
        "  return new_name\n",
        "\n",
        "# Save a trained model to the provided filepath\n",
        "def SaveToFile(save_data, save_fpath, skip_prompt = False):\n",
        "  \"\"\"\n",
        "  Exports a object to a provided path using joblib, with or without prompting user for confirmation.\n",
        "\n",
        "  Parameters:\n",
        "    save_data (object): object to be saved.\n",
        "    save_fpath (string): file path that the object will be saved in, including filename and extension.\n",
        "    skip_prompt (boolean): if True, skips prompting user for confirmation before saving.\n",
        "  Returns:\n",
        "    : no value returned.\n",
        "  \"\"\"\n",
        "  to_save = \"y\" if skip_prompt else \"\"\n",
        "\n",
        "  # loops until 'y', 'Y', 'n', or 'N' have been entered by the user, returns early if 'n' or 'N' are entered.\n",
        "  while to_save.lower() not in ('y', 'n'):\n",
        "    to_save = input(\"Export to file? (y/n)\\n\")\n",
        "    if to_save.lower() in 'y':\n",
        "      print(\"Save confirmed.\")\n",
        "    elif to_save.lower() in 'n':\n",
        "      print(\"Save cancelled.\")\n",
        "      return\n",
        "    else:\n",
        "      print(\"WARNING: please only enter \\'y\\' to confirm or \\'n\\' to cancel.\")\n",
        "\n",
        "  fpath = save_fpath # allows for reassignment\n",
        "  if os.path.isfile(fpath):\n",
        "    print(f\"WARNING: file \\'{fpath}\\' already exists...\")\n",
        "    fpath = IncrementFname(fpath)\n",
        "    print(f\"...Saving to \\'{fpath}\\' instead.\")\n",
        "\n",
        "  try:\n",
        "    joblib.dump(save_data, fpath)\n",
        "  except:\n",
        "    print(f\"ERROR: an unknown error occured calling \\'joblib.dump({save_data}, {fpath})\\'!\")\n",
        "  else:\n",
        "    print(f\"SUCCESS: saved to \\'{fpath}\\'.\")\n",
        "\n",
        "\n",
        "# Load a trained model from the provided filepath\n",
        "def LoadFromFile(load_fpath, skip_prompt = False):\n",
        "  \"\"\"\n",
        "  Import a serialised object via joblib.\n",
        "\n",
        "  Parameters:\n",
        "    load_fpath (string): file path to stored object.\n",
        "    skip_prompt (boolean): if True, skips prompting user for confirmation before loading.\n",
        "  Returns:\n",
        "    object: if a file is found and loaded correctly, returns the stored object.\n",
        "    None: if a user enters 'n' to cancel, no matching file is found or an error occurs during loading, returns None.\n",
        "  \"\"\"\n",
        "  to_load = \"y\" if skip_prompt else \"\"\n",
        "\n",
        "  # loops until 'y', 'Y', 'n', or 'N' have been entered by the user, returns early if 'n' or 'N' are entered.\n",
        "  while to_load.lower() not in ('y', 'n'):\n",
        "    to_load = input(\"Do you wish to import from file? {y/n)\\n\")\n",
        "    if to_load.lower() in 'y':\n",
        "      print(\"Load confirmed.\")\n",
        "    elif to_load.lower() in 'n':\n",
        "      print(\"Load cancelled.\")\n",
        "      return None\n",
        "    else:\n",
        "      print(\"WARNING: please only enter \\'y\\' to confirm or \\'n\\' to cancel.\")\n",
        "\n",
        "  load_data = None\n",
        "  print(f\"Attempting to load object from \\'{load_fpath}\\'...\")\n",
        "  try:\n",
        "    load_data = joblib.load(load_fpath)\n",
        "  except FileNotFoundError:\n",
        "    print(f\"ERROR: the file \\'{load_fpath}\\' does not exist!\")\n",
        "    return None\n",
        "  except:\n",
        "    print(f\"ERROR: an unknown error occurred calling \\'joblib.load{load_fpath}\\'!\")\n",
        "    return None\n",
        "  else:\n",
        "    print(f\"SUCCESS: loaded data from \\'{load_fpath}\\'.\")\n",
        "\n",
        "  return load_data\n",
        "\n",
        "\n",
        "# save a neural network to file\n",
        "def SaveNN(nn_save, nn_fpath, skip_prompt = False):\n",
        "  \"\"\"\n",
        "  Exports a neural network to a provided path using pickle, with or without prompting user for confirmation.\n",
        "\n",
        "  Parameters:\n",
        "    nn_save (object): NeuralNetClassifier object to be saved.\n",
        "    nn_fpath (string): file path that the neural network will be saved in, including filename and extension.\n",
        "    skip_prompt (boolean): if True, skips prompting user for confirmation before saving.\n",
        "  Returns:\n",
        "    : no value returned.\n",
        "  \"\"\"\n",
        "  to_save = \"y\" if skip_prompt else \"\"\n",
        "\n",
        "  while to_save.lower() not in ('y', 'n'):\n",
        "    to_save = input(\"Save neural network to file? (y/n)\\n\")\n",
        "    if to_save.lower() in 'y':\n",
        "      print(\"Save confirmed.\")\n",
        "    elif to_save.lower() in 'n':\n",
        "      print(\"Save cancelled.\")\n",
        "      return\n",
        "    else:\n",
        "      print(\"WARNING: please only enter \\'y\\' to confirm or \\'n\\' to cancel.\")\n",
        "\n",
        "  fpath = nn_fpath # allows for reassignment\n",
        "  if os.path.isfile(fpath):\n",
        "    print(f\"WARNING: file \\'{fpath}\\' already exists...\")\n",
        "    fpath = IncrementFname(fpath)\n",
        "    print(f\"...Saving to \\'{fpath}\\' instead.\")\n",
        "\n",
        "  try:\n",
        "    with open(fpath, 'wb') as f:\n",
        "      pickle.dump(nn_save, f)\n",
        "  except:\n",
        "    print(\"ERROR: an unknown error occurred calling \\'pickle.dump(nn_save, f)\\'!\")\n",
        "  else:\n",
        "    print(f\"SUCCESS: saved neural network to \\'{fpath}\\'.\")\n",
        "\n",
        "\n",
        "# read a neural network previously saved to file\n",
        "def LoadNN(nn_fpath, skip_prompt = False):\n",
        "  \"\"\"\n",
        "  Import a serialised Skorch NeuralNetwork via Pickle.\n",
        "\n",
        "  Parameters:\n",
        "    nn_fpath (string): file path to stored neural network.\n",
        "    skip_prompt (boolean): if True, skips prompting user for confirmation before loading.\n",
        "  Returns:\n",
        "    object: if a file is found and loaded correctly, returns the stored Neural Network.\n",
        "    None: if a user enters 'n' to cancel, no matching file is found or an error occurs during loading, returns None.\n",
        "  \"\"\"\n",
        "  to_load = \"y\" if skip_prompt else \"\"\n",
        "\n",
        "  # loops until 'y', 'Y', 'n', or 'N' have been entered by the user, returns early if 'n' or 'N' are entered.\n",
        "  while to_load.lower() not in ('y', 'n'):\n",
        "    to_load = input(\"Do you wish to import a trained neural network? {y/n)\\n\")\n",
        "    if to_load.lower() in 'y':\n",
        "      print(\"Load confirmed.\")\n",
        "    elif to_load.lower() in 'n':\n",
        "      print(\"Load cancelled.\")\n",
        "      return None\n",
        "    else:\n",
        "      print(\"WARNING: please only enter \\'y\\' to confirm or \\'n\\' to cancel.\")\n",
        "\n",
        "  nn_load = None\n",
        "  print(f\"Attempting to load neural network from \\'{nn_fpath}\\'...\")\n",
        "  try:\n",
        "    with open(nn_fpath, 'rb') as f:\n",
        "      nn_load = pickle.load(f)\n",
        "  except:\n",
        "    print(f\"ERROR: an unknown error occurred calling \\'picle.load{nn_fpath}\\'!\")\n",
        "    return None\n",
        "  else:\n",
        "    print(f\"SUCCESS: loaded neural network from \\'{nn_fpath}\\'.\")\n",
        "\n",
        "  return nn_load"
      ],
      "metadata": {
        "colab": {
          "base_uri": "https://localhost:8080/"
        },
        "id": "otJrdxCQXWv5",
        "outputId": "59f650ae-5ed0-4023-a025-49eb422afc6f"
      },
      "execution_count": 11,
      "outputs": [
        {
          "output_type": "stream",
          "name": "stdout",
          "text": [
            "Using Joblib version: 1.4.0\n",
            "Using Pickle version: 4.0\n"
          ]
        }
      ]
    },
    {
      "cell_type": "markdown",
      "source": [
        "# Import Data\n",
        "Checks current working directory for datasets, if datasets are missing downloads a [.zip archive mirror of the CiCDDoS2019 hosted on Kaggle](https://www.kaggle.com/datasets/kristianfrossos/cicddos2019/data).\n",
        "\n",
        "**NOTE:** the first part of this section is specific to Google Colab, and will not work outside of it. Advise writing an alternative later for local use (relevant when training Neural Network for speed and when usage limits get in the way).\n"
      ],
      "metadata": {
        "id": "gSVADpSUPvxs"
      }
    },
    {
      "cell_type": "code",
      "source": [
        "!pip -q install --upgrade --force-reinstall --no-deps kaggle"
      ],
      "metadata": {
        "id": "rVY0RkBfOV1C",
        "colab": {
          "base_uri": "https://localhost:8080/"
        },
        "outputId": "98aaaf24-3213-4fad-8c73-700a41540520"
      },
      "execution_count": null,
      "outputs": [
        {
          "output_type": "stream",
          "name": "stdout",
          "text": [
            "\u001b[?25l     \u001b[90m━━━━━━━━━━━━━━━━━━━━━━━━━━━━━━━━━━━━━━━━\u001b[0m \u001b[32m0.0/79.7 kB\u001b[0m \u001b[31m?\u001b[0m eta \u001b[36m-:--:--\u001b[0m\r\u001b[2K     \u001b[91m━━━━━━━━━━━━━━━━━━━━\u001b[0m\u001b[91m╸\u001b[0m\u001b[90m━━━━━━━━━━━━━━━━━━━\u001b[0m \u001b[32m41.0/79.7 kB\u001b[0m \u001b[31m1.1 MB/s\u001b[0m eta \u001b[36m0:00:01\u001b[0m\r\u001b[2K     \u001b[90m━━━━━━━━━━━━━━━━━━━━━━━━━━━━━━━━━━━━━━━━\u001b[0m \u001b[32m79.7/79.7 kB\u001b[0m \u001b[31m1.2 MB/s\u001b[0m eta \u001b[36m0:00:00\u001b[0m\n",
            "\u001b[?25h  Preparing metadata (setup.py) ... \u001b[?25l\u001b[?25hdone\n",
            "  Building wheel for kaggle (setup.py) ... \u001b[?25l\u001b[?25hdone\n"
          ]
        }
      ]
    },
    {
      "cell_type": "code",
      "source": [
        "# sets up kaggle environment variables (needed to access API)\n",
        "from google.colab import userdata\n",
        "from google.colab import files\n",
        "\n",
        "# checks if kaggle key and username have been provided as secrets and sets environment variables appropriately\n",
        "# if not found, attempts to use kaggle.json\n",
        "try:\n",
        "  os.environ[\"KAGGLE_KEY\"] = userdata.get('KAGGLE_KEY')\n",
        "  os.environ[\"KAGGLE_USERNAME\"] = userdata.get('KAGGLE_USERNAME')\n",
        "  print(\"Using KAGGLE_KEY and KAGGLE_USERNAME defined in secrets.\")\n",
        "except (userdata.SecretNotFoundError, userdata.NotebookAccessError):\n",
        "  print(\"WARN: One or more secret(s) missing or inaccessible.\\n\")\n",
        "  if os.path.isfile('~/.kaggle/kaggle.json'):\n",
        "    print(\"Using existing kaggle.json\")\n",
        "  else:\n",
        "    print(\"Please upload kaggle.json\")\n",
        "    files.upload()\n",
        "\n",
        "    if os.path.isfile(os.getcwd() + '/content/kaggle.json'):\n",
        "      !rm -r ~/.kaggle\n",
        "      !mkdir ~/.kaggle\n",
        "      !mv ./kaggle.json ~/.kaggle/\n",
        "      !chmod 600 ~/.kaggle/kaggle.json\n",
        "    else:\n",
        "      print(\"\\'kaggle.json\\' not uploaded.\")\n",
        "      raise"
      ],
      "metadata": {
        "colab": {
          "base_uri": "https://localhost:8080/"
        },
        "id": "KcOT1v4TO4rm",
        "outputId": "99ddb041-8398-4ea1-ffdc-5d545104f4c5"
      },
      "execution_count": null,
      "outputs": [
        {
          "output_type": "stream",
          "name": "stdout",
          "text": [
            "Using KAGGLE_KEY and KAGGLE_USERNAME defined in secrets.\n"
          ]
        }
      ]
    },
    {
      "cell_type": "code",
      "source": [
        "# checks if .zip archive containing dataset already exists in google drive and downloads it if necessary\n",
        "if os.path.isfile(dl_dir + '/cicddos2019.zip'):\n",
        "  print(\"Dataset already present.\")\n",
        "else:\n",
        "  print(f\"Downloading zipped dataset to {dl_dir}\")\n",
        "  !kaggle datasets download kristianfrossos/cicddos2019 -p {dl_dir.replace(' ', '\\ ')}\n",
        "\n",
        "# creates the content/dataset directory if it doesn't already exist\n",
        "if os.path.exists(data_dir):\n",
        "  print(f\"Directory {data_dir} already exists.\")\n",
        "else:\n",
        "  print(f\"Created directory: {data_dir}\")\n",
        "  os.mkdir(data_dir)\n",
        "\n",
        "# extracts contents of .zip archive to content/dataset if directory is not empty\n",
        "if not os.listdir(data_dir):\n",
        "  print(\"Empty directory, extracting dataset.\")\n",
        "  # unzips .zip archive\n",
        "  !unzip {dl_dir.replace(' ', '\\ ') + '/cicddos2019.zip'} -d {data_dir}\n",
        "else:\n",
        "  print(\"Non-empty directory, skipping download\")"
      ],
      "metadata": {
        "colab": {
          "base_uri": "https://localhost:8080/"
        },
        "id": "rUQvxpnNMnRQ",
        "outputId": "4294dc0a-ea01-4b7c-b7d8-b53448189358"
      },
      "execution_count": null,
      "outputs": [
        {
          "output_type": "stream",
          "name": "stdout",
          "text": [
            "Dataset already present.\n",
            "Created directory: /content/dataset\n",
            "Empty directory, extracting dataset.\n",
            "Archive:  /content/drive/MyDrive/Colab Notebooks/COMP6002_Group10_Data/cicddos2019.zip\n",
            "  inflating: /content/dataset/CSV-01-12/01-12/DrDoS_DNS.csv  \n",
            "  inflating: /content/dataset/CSV-01-12/01-12/DrDoS_LDAP.csv  \n",
            "  inflating: /content/dataset/CSV-01-12/01-12/DrDoS_MSSQL.csv  \n",
            "  inflating: /content/dataset/CSV-01-12/01-12/DrDoS_NTP.csv  \n",
            "  inflating: /content/dataset/CSV-01-12/01-12/DrDoS_NetBIOS.csv  \n",
            "  inflating: /content/dataset/CSV-01-12/01-12/DrDoS_SNMP.csv  \n",
            "  inflating: /content/dataset/CSV-01-12/01-12/DrDoS_SSDP.csv  \n",
            "  inflating: /content/dataset/CSV-01-12/01-12/DrDoS_UDP.csv  \n",
            "  inflating: /content/dataset/CSV-01-12/01-12/Syn.csv  \n",
            "  inflating: /content/dataset/CSV-01-12/01-12/TFTP.csv  \n",
            "  inflating: /content/dataset/CSV-01-12/01-12/UDPLag.csv  \n",
            "  inflating: /content/dataset/CSV-03-11/03-11/LDAP.csv  \n",
            "  inflating: /content/dataset/CSV-03-11/03-11/MSSQL.csv  \n",
            "  inflating: /content/dataset/CSV-03-11/03-11/NetBIOS.csv  \n",
            "  inflating: /content/dataset/CSV-03-11/03-11/Portmap.csv  \n",
            "  inflating: /content/dataset/CSV-03-11/03-11/Syn.csv  \n",
            "  inflating: /content/dataset/CSV-03-11/03-11/UDP.csv  \n",
            "  inflating: /content/dataset/CSV-03-11/03-11/UDPLag.csv  \n"
          ]
        }
      ]
    },
    {
      "cell_type": "code",
      "source": [
        "# initialises empty list\n",
        "csv_list = []\n",
        "\n",
        "# iterates through all subdirectories of /content/dataset and appends the filepath of each .csv to csv_list\n",
        "for root, dirs, files in os.walk(data_dir):\n",
        "  for f in files:\n",
        "    if f.endswith(\".csv\"):\n",
        "      csv_list.append(os.path.join(root, f))\n",
        "\n",
        "# if .csv files were found, displays number of files and prints each path\n",
        "if not csv_list:\n",
        "  print(\"No .csv files found!\")\n",
        "else:\n",
        "  print(f\"{len(csv_list)} .csv files found.\")\n",
        "  for csv in csv_list:\n",
        "    print(csv)"
      ],
      "metadata": {
        "colab": {
          "base_uri": "https://localhost:8080/"
        },
        "id": "dMw9ryJSbiPL",
        "outputId": "5965f52f-3e63-4d29-fb64-da8f7e476d09"
      },
      "execution_count": null,
      "outputs": [
        {
          "output_type": "stream",
          "name": "stdout",
          "text": [
            "18 .csv files found.\n",
            "/content/dataset/CSV-03-11/03-11/UDP.csv\n",
            "/content/dataset/CSV-03-11/03-11/NetBIOS.csv\n",
            "/content/dataset/CSV-03-11/03-11/UDPLag.csv\n",
            "/content/dataset/CSV-03-11/03-11/MSSQL.csv\n",
            "/content/dataset/CSV-03-11/03-11/Syn.csv\n",
            "/content/dataset/CSV-03-11/03-11/LDAP.csv\n",
            "/content/dataset/CSV-03-11/03-11/Portmap.csv\n",
            "/content/dataset/CSV-01-12/01-12/UDPLag.csv\n",
            "/content/dataset/CSV-01-12/01-12/DrDoS_NTP.csv\n",
            "/content/dataset/CSV-01-12/01-12/DrDoS_UDP.csv\n",
            "/content/dataset/CSV-01-12/01-12/Syn.csv\n",
            "/content/dataset/CSV-01-12/01-12/DrDoS_SSDP.csv\n",
            "/content/dataset/CSV-01-12/01-12/DrDoS_LDAP.csv\n",
            "/content/dataset/CSV-01-12/01-12/DrDoS_MSSQL.csv\n",
            "/content/dataset/CSV-01-12/01-12/DrDoS_DNS.csv\n",
            "/content/dataset/CSV-01-12/01-12/TFTP.csv\n",
            "/content/dataset/CSV-01-12/01-12/DrDoS_SNMP.csv\n",
            "/content/dataset/CSV-01-12/01-12/DrDoS_NetBIOS.csv\n"
          ]
        }
      ]
    },
    {
      "cell_type": "markdown",
      "source": [
        "## Samples Dataset and Creates Subset"
      ],
      "metadata": {
        "id": "f0fI9HD0RaaX"
      }
    },
    {
      "cell_type": "code",
      "source": [
        "ddos_df = pd.DataFrame()\n",
        "benign_df = pd.DataFrame()\n",
        "\n",
        "for csv in csv_list:\n",
        "  data_iter = pd.read_csv(csv, chunksize=5000)\n",
        "  print(f\"Reading {csv}...\")\n",
        "\n",
        "  for chunk in data_iter:\n",
        "    ddos_rows = chunk[chunk[' Label'].str.lower() != 'benign']\n",
        "    benign_rows = chunk[chunk[' Label'].str.lower() == 'benign']\n",
        "\n",
        "    sample_size = min(len(ddos_rows), len(benign_rows)) // 25\n",
        "    ddos_sample = ddos_rows.sample(n=sample_size, random_state=42)\n",
        "    benign_sample = benign_rows.sample(n=sample_size, random_state=42)\n",
        "\n",
        "    ddos_df = pd.concat([ddos_df, ddos_sample], ignore_index=True)\n",
        "    benign_df = pd.concat([benign_df, benign_sample], ignore_index=True)"
      ],
      "metadata": {
        "colab": {
          "base_uri": "https://localhost:8080/"
        },
        "id": "14YJSfXt7F0Z",
        "outputId": "4763e89c-97c3-46ba-8a9b-1e88cea022f3"
      },
      "execution_count": null,
      "outputs": [
        {
          "output_type": "stream",
          "name": "stdout",
          "text": [
            "Reading /content/dataset/CSV-03-11/03-11/UDP.csv...\n",
            "Reading /content/dataset/CSV-03-11/03-11/NetBIOS.csv...\n",
            "Reading /content/dataset/CSV-03-11/03-11/UDPLag.csv...\n",
            "Reading /content/dataset/CSV-03-11/03-11/MSSQL.csv...\n",
            "Reading /content/dataset/CSV-03-11/03-11/Syn.csv...\n",
            "Reading /content/dataset/CSV-03-11/03-11/LDAP.csv...\n",
            "Reading /content/dataset/CSV-03-11/03-11/Portmap.csv...\n",
            "Reading /content/dataset/CSV-01-12/01-12/UDPLag.csv...\n",
            "Reading /content/dataset/CSV-01-12/01-12/DrDoS_NTP.csv...\n",
            "Reading /content/dataset/CSV-01-12/01-12/DrDoS_UDP.csv...\n",
            "Reading /content/dataset/CSV-01-12/01-12/Syn.csv...\n",
            "Reading /content/dataset/CSV-01-12/01-12/DrDoS_SSDP.csv...\n",
            "Reading /content/dataset/CSV-01-12/01-12/DrDoS_LDAP.csv...\n",
            "Reading /content/dataset/CSV-01-12/01-12/DrDoS_MSSQL.csv...\n",
            "Reading /content/dataset/CSV-01-12/01-12/DrDoS_DNS.csv...\n",
            "Reading /content/dataset/CSV-01-12/01-12/TFTP.csv...\n",
            "Reading /content/dataset/CSV-01-12/01-12/DrDoS_SNMP.csv...\n",
            "Reading /content/dataset/CSV-01-12/01-12/DrDoS_NetBIOS.csv...\n"
          ]
        }
      ]
    },
    {
      "cell_type": "code",
      "source": [
        "# concatenates ddos and benign dataframes into one subset\n",
        "subset = pd.concat([ddos_df, benign_df], ignore_index=True)\n",
        "\n",
        "# class weights\n",
        "weights = subset.value_counts(' Label', normalize=True)\n",
        "counts = subset.value_counts(' Label')\n",
        "\n",
        "# prints classes and their weights\n",
        "print(\"     Class      |     Weight     |     Count\")\n",
        "for index in weights.index:\n",
        "  print(f'{index:<15} | {(weights[index] * 100.0):<14n} | {counts[index]:n}')\n",
        "\n",
        "# prints total (for error checking)\n",
        "print(f\"{'Total':<15} | {sum(weights.values) * 100.0:<14n} | {sum(counts.values)}\")\n",
        "\n",
        "# stores unprocessed subset\n",
        "subset.to_csv((dl_dir + '/COMP6002_Raw_Subset.csv'), index = False)"
      ],
      "metadata": {
        "colab": {
          "base_uri": "https://localhost:8080/"
        },
        "id": "XwKDB0qpF4Xz",
        "outputId": "23728bd4-b206-49a2-eb73-8858f66b342a"
      },
      "execution_count": null,
      "outputs": [
        {
          "output_type": "stream",
          "name": "stdout",
          "text": [
            "     Class      |     Weight     |     Count\n",
            "BENIGN          | 50             | 1960\n",
            "Syn             | 12.9082        | 506\n",
            "TFTP            | 10.7653        | 422\n",
            "DrDoS_NTP       | 4.56633        | 179\n",
            "UDP-lag         | 3.59694        | 141\n",
            "UDP             | 2.37245        | 93\n",
            "DrDoS_DNS       | 2.37245        | 93\n",
            "Portmap         | 2.32143        | 91\n",
            "NetBIOS         | 2.16837        | 85\n",
            "MSSQL           | 1.83673        | 72\n",
            "LDAP            | 1.45408        | 57\n",
            "DrDoS_UDP       | 1.30102        | 51\n",
            "DrDoS_MSSQL     | 1.07143        | 42\n",
            "UDPLag          | 1.04592        | 41\n",
            "DrDoS_NetBIOS   | 0.739796       | 29\n",
            "DrDoS_SNMP      | 0.663265       | 26\n",
            "DrDoS_LDAP      | 0.433673       | 17\n",
            "DrDoS_SSDP      | 0.280612       | 11\n",
            "WebDDoS         | 0.102041       | 4\n",
            "Total           | 100            | 3920\n"
          ]
        }
      ]
    },
    {
      "cell_type": "markdown",
      "source": [
        "# Data Preprocessing\n",
        "## Dropped Features\n",
        "*   Unnamed: 0: unknown feature.\n",
        "*   Flow Id: constructed from Source Ip, Destination Ip, Source Port, Destination Port and Protocol.\n",
        "*   Similar HTTP: object with no meaningful way to encode (the exact same objects won't necessarily exist in real data)"
      ],
      "metadata": {
        "id": "2IH9h-H8QULd"
      }
    },
    {
      "cell_type": "code",
      "source": [
        "from sklearn.model_selection import train_test_split\n",
        "import ipaddress\n",
        "\n",
        "subset_path = dl_dir + '/COMP6002_Processed_Subset.csv'"
      ],
      "metadata": {
        "id": "W8uG3kVbderm"
      },
      "execution_count": 15,
      "outputs": []
    },
    {
      "cell_type": "code",
      "source": [
        "# optionally import a unprocessed subset, skips above steps.\n",
        "raw_load = \"\"\n",
        "\n",
        "while raw_load.lower() not in ('y', 'n'):\n",
        "  raw_load = input(\"Do you wish to load a previously generated (but not processed) subset? (y/n)\\n\")\n",
        "\n",
        "  if raw_load.lower() in ('y'):\n",
        "    raw_path = dl_dir + '/COMP6002_Raw_Subset.csv'\n",
        "    try:\n",
        "      subset = pd.read_csv(raw_path)\n",
        "      print(f\"\\'{raw_path}\\' loaded successfully.\")\n",
        "    except:\n",
        "      print(f\"ERROR: an unknown error occured loading \\'{raw_path}\\'!\")\n",
        "  else:\n",
        "    if raw_load.lower() in ('n'):\n",
        "      print(\"Did not attempt to load existing data.\")\n",
        "    else:\n",
        "      print(\"WARNING: please only input \\'y\\' to load the data or \\'n\\' to skip loading.\")\n",
        "\n",
        "del raw_load"
      ],
      "metadata": {
        "colab": {
          "base_uri": "https://localhost:8080/"
        },
        "id": "MAUF9N90JvnX",
        "outputId": "3840c8a7-7d23-4ab3-eea6-4d1983ae94b4"
      },
      "execution_count": null,
      "outputs": [
        {
          "output_type": "stream",
          "name": "stdout",
          "text": [
            "Do you wish to load a previously generated (but not processed) subset? (y/n)\n",
            "n\n",
            "Did not attempt to load existing data.\n"
          ]
        }
      ]
    },
    {
      "cell_type": "code",
      "source": [
        "# drops irrelevant columns\n",
        "subset.drop(columns = ['Unnamed: 0', 'Flow ID', 'SimillarHTTP'],\n",
        "            inplace = True)\n",
        "\n",
        "# replace infinite values with NaN so they are caught by the next 2 steps\n",
        "subset.replace([np.inf, -np.inf], np.nan, inplace = True)\n",
        "\n",
        "# drop columns with at least 50% missing values\n",
        "subset.dropna(axis = 1,\n",
        "              thresh = int(0.5 * subset.shape[0]),\n",
        "              inplace = True)\n",
        "\n",
        "# replace missing values with the mean of their columns\n",
        "for col in subset.columns:\n",
        "  if subset[col].isna().sum() > 0:\n",
        "    subset[col].fillna(subset[col].mean(), inplace = True)\n",
        "\n",
        "# drop duplicate rows\n",
        "subset.drop_duplicates(inplace = True)\n",
        "\n",
        "# converts source and destination IP addresses to useable integer values\n",
        "subset['Source IP_int'] = subset.apply(lambda x: int (ipaddress.IPv4Address(x[' Source IP'])), axis=1)\n",
        "subset['Destination IP_int'] = subset.apply(lambda x: int (ipaddress.IPv4Address(x[' Destination IP'])), axis=1)\n",
        "\n",
        "# converts date and time values to unix timestamps\n",
        "subset['UnixTimestamp'] = subset.apply(lambda x: (pd.to_datetime(x[' Timestamp']).timestamp()), axis=1)\n",
        "\n",
        "# drops original columns\n",
        "subset.drop(columns = [' Source IP', ' Destination IP', ' Timestamp'],\n",
        "            inplace = True)"
      ],
      "metadata": {
        "id": "Ncl7SwVoSldZ"
      },
      "execution_count": null,
      "outputs": []
    },
    {
      "cell_type": "markdown",
      "source": [
        "## Save Processed Data"
      ],
      "metadata": {
        "id": "qZskn0e5p4qF"
      }
    },
    {
      "cell_type": "code",
      "source": [
        "# optionally save processed subset to .csv\n",
        "subset_save = \"\"\n",
        "\n",
        "while subset_save.lower() not in ('y', 'n'):\n",
        "  subset_save = input(\"Do you wish to export the subset to a .csv? (y/n)\")\n",
        "\n",
        "  if subset_save.lower() in ('y'):\n",
        "    new_subset_path = subset_path\n",
        "\n",
        "    if os.path.exists(new_subset_path):\n",
        "      new_subset_path = IncrementFname(subset_path)\n",
        "\n",
        "    try:\n",
        "      subset.to_csv(new_subset_path, index = False)\n",
        "      print(f\"Subset saved as \\'{new_subset_path}\\'.\")\n",
        "    except:\n",
        "      print(f\"ERROR: an unknown error occured saving \\'{new_subset_path}\\'!\")\n",
        "  else:\n",
        "    if subset_save.lower() in ('n'):\n",
        "      print(\"Skipped exporting to .csv file.\")\n",
        "    else:\n",
        "      print(\"WARNING: please only input \\'y\\' to save the data to a .csv or \\'n\\' to skip saving.\")\n",
        "\n",
        "del subset_save"
      ],
      "metadata": {
        "id": "WVs8OfgonhT0",
        "colab": {
          "base_uri": "https://localhost:8080/"
        },
        "outputId": "9b24565f-9c71-4612-df95-be6da895a9b0"
      },
      "execution_count": null,
      "outputs": [
        {
          "output_type": "stream",
          "name": "stdout",
          "text": [
            "Do you wish to export the subset to a .csv? (y/n)y\n",
            "Subset saved as '/content/drive/MyDrive/Colab Notebooks/COMP6002_Group10_Data/COMP6002_Processed_Subset.csv'.\n"
          ]
        }
      ]
    },
    {
      "cell_type": "markdown",
      "source": [
        "## Load Previously Processed Data"
      ],
      "metadata": {
        "id": "sTh9xpbpp8Gm"
      }
    },
    {
      "cell_type": "code",
      "source": [
        "# optionally import a preprocessed subset, skips above steps.\n",
        "subset_load = \"\"\n",
        "\n",
        "while subset_load.lower() not in ('y', 'n'):\n",
        "  subset_load = input(\"Do you wish to load a previously preprocessed subset? (y/n)\\n\")\n",
        "\n",
        "  if subset_load.lower() in ('y'):\n",
        "    subset_path = dl_dir + '/COMP6002_Processed_Subset.csv'\n",
        "    try:\n",
        "      subset = pd.read_csv(subset_path)\n",
        "      print(f\"\\'{subset_path}\\' loaded successfully.\")\n",
        "    except:\n",
        "      print(f\"ERROR: an unknown error occured loading \\'{subset_path}\\'!\")\n",
        "  else:\n",
        "    if subset_load.lower() in ('n'):\n",
        "      print(\"Did not attempt to load existing data.\")\n",
        "    else:\n",
        "      print(\"WARNING: please only input \\'y\\' to load the data or \\'n\\' to skip loading.\")\n",
        "\n",
        "del subset_load"
      ],
      "metadata": {
        "id": "SXVkn2lbDsTN",
        "colab": {
          "base_uri": "https://localhost:8080/"
        },
        "outputId": "96456403-3fec-4d8f-f487-2d8eeca0def3"
      },
      "execution_count": 19,
      "outputs": [
        {
          "output_type": "stream",
          "name": "stdout",
          "text": [
            "Do you wish to load a previously preprocessed subset? (y/n)\n",
            "y\n",
            "'/content/drive/MyDrive/Colab Notebooks/COMP6002_Group10_Data/COMP6002_Processed_Subset.csv' loaded successfully.\n"
          ]
        }
      ]
    },
    {
      "cell_type": "markdown",
      "source": [
        "## Split Training/Testing Data"
      ],
      "metadata": {
        "id": "XIZGXSiAqAHT"
      }
    },
    {
      "cell_type": "code",
      "source": [
        "# splits subset across x and y axis\n",
        "X = subset.drop(columns = [' Label'], inplace = False)\n",
        "y = subset[' Label']"
      ],
      "metadata": {
        "id": "PGu_c9Dtd4FT"
      },
      "execution_count": 20,
      "outputs": []
    },
    {
      "cell_type": "code",
      "source": [
        "# set aside 20% of data to be used in testing, keeping the remaining 80% for training\n",
        "X_train, X_test, y_train, y_test = train_test_split(X, y, test_size = 0.2, random_state = 42, stratify = y)"
      ],
      "metadata": {
        "id": "J2PH-oD5ljS4"
      },
      "execution_count": 21,
      "outputs": []
    },
    {
      "cell_type": "markdown",
      "source": [
        "## Normalise Data"
      ],
      "metadata": {
        "id": "zBp80dzJI3NL"
      }
    },
    {
      "cell_type": "code",
      "source": [
        "from sklearn.preprocessing import StandardScaler\n",
        "\n",
        "scaler = StandardScaler().fit(X_train)\n",
        "X_train[X_train.columns] = scaler.transform(X_train[X_train.columns])\n",
        "X_test[X_test.columns] = scaler.transform(X_test[X_test.columns])\n",
        "\n",
        "# exports scaler for future use\n",
        "SaveToFile(save_data = scaler, save_fpath = (save_dir + '/std_scaler.joblib'), skip_prompt = True)"
      ],
      "metadata": {
        "id": "7pnJ7yPbI5b7",
        "colab": {
          "base_uri": "https://localhost:8080/"
        },
        "outputId": "5aff510d-1c11-4673-e17c-d1944351fae2"
      },
      "execution_count": 22,
      "outputs": [
        {
          "output_type": "stream",
          "name": "stdout",
          "text": [
            "WARNING: file '/content/drive/MyDrive/Colab Notebooks/COMP6002_Group10_Data/Exports_01-05-2024/std_scaler.joblib' already exists...\n",
            "...Saving to '/content/drive/MyDrive/Colab Notebooks/COMP6002_Group10_Data/Exports_01-05-2024/std_scaler(1).joblib' instead.\n",
            "SUCCESS: saved to '/content/drive/MyDrive/Colab Notebooks/COMP6002_Group10_Data/Exports_01-05-2024/std_scaler(1).joblib'.\n"
          ]
        }
      ]
    },
    {
      "cell_type": "markdown",
      "source": [
        "## Oversampling & Undersampling\n",
        "Using SMOTE for oversampling and edited nearest neighbours for undersampling."
      ],
      "metadata": {
        "id": "8niA7rBV8G_K"
      }
    },
    {
      "cell_type": "code",
      "source": [
        "from imblearn.over_sampling import SMOTE\n",
        "from imblearn.under_sampling import EditedNearestNeighbours\n",
        "from imblearn.combine import SMOTEENN\n",
        "\n",
        "min_samples = y_train.value_counts().min()\n",
        "\n",
        "# oversampling\n",
        "smote = SMOTE(random_state = 42, k_neighbors = (min_samples - 1))\n",
        "\n",
        "# undersampling\n",
        "enn = EditedNearestNeighbours(sampling_strategy = 'majority', n_neighbors = min_samples)\n",
        "\n",
        "# combine the two\n",
        "smote_enn = SMOTEENN(sampling_strategy = 'not minority', random_state = 42, smote = smote, enn = enn)\n",
        "\n",
        "X_train_res, y_train_res = smote_enn.fit_resample(X_train, y_train)"
      ],
      "metadata": {
        "id": "4voCdggw8JA0"
      },
      "execution_count": 23,
      "outputs": []
    },
    {
      "cell_type": "markdown",
      "source": [
        "## Feature Selection"
      ],
      "metadata": {
        "id": "Qe8PpKdulNs4"
      }
    },
    {
      "cell_type": "code",
      "source": [
        "from sklearn.ensemble import RandomForestClassifier\n",
        "from sklearn.feature_selection import SelectFromModel\n",
        "\n",
        "# \"base\" random forest model used for feature selection, so as to not require the actual rf we're using to be trained when attempting to train the neural network\n",
        "base_rf = RandomForestClassifier(class_weight = 'balanced', random_state = 42)\n",
        "selector = SelectFromModel(estimator = base_rf).fit(X_train_res, y_train_res)\n",
        "\n",
        "# keeps only the features identified by selector\n",
        "X_new = X_train_res[selector.get_feature_names_out()]\n",
        "X_test_new = X_test[selector.get_feature_names_out()]\n",
        "\n",
        "# list selected features\n",
        "print(f\"Features remaining: {X_new.shape[1]}\")\n",
        "for col in X_new.columns:\n",
        "  print(f\"{col}\")\n",
        "\n",
        "del base_rf"
      ],
      "metadata": {
        "colab": {
          "base_uri": "https://localhost:8080/"
        },
        "id": "oxCAjhI8zsG4",
        "outputId": "8daab236-bf10-4e8d-d1ae-3ee5ac2ba8be"
      },
      "execution_count": 24,
      "outputs": [
        {
          "output_type": "stream",
          "name": "stdout",
          "text": [
            "Features remaining: 21\n",
            " Source Port\n",
            " Destination Port\n",
            "Total Length of Fwd Packets\n",
            " Fwd Packet Length Max\n",
            " Fwd Packet Length Min\n",
            " Fwd Packet Length Mean\n",
            "Flow Bytes/s\n",
            " Flow Packets/s\n",
            " Flow IAT Mean\n",
            " Flow IAT Min\n",
            " Fwd IAT Min\n",
            "Fwd Packets/s\n",
            " Min Packet Length\n",
            " Max Packet Length\n",
            " Packet Length Mean\n",
            " Average Packet Size\n",
            " Avg Fwd Segment Size\n",
            " Subflow Fwd Bytes\n",
            "Source IP_int\n",
            "Destination IP_int\n",
            "UnixTimestamp\n"
          ]
        }
      ]
    },
    {
      "cell_type": "code",
      "source": [
        "X_new.to_csv((save_dir + '/x.csv'), index = False)\n",
        "y_train_res.to_csv((save_dir + '/y.csv'), index = False)"
      ],
      "metadata": {
        "id": "YUzz6gKXtHgt"
      },
      "execution_count": 25,
      "outputs": []
    },
    {
      "cell_type": "code",
      "source": [
        "X_test_new.to_csv((save_dir + '/x_test.csv'), index = False)\n",
        "y_test.to_csv((save_dir + '/y_test'), index = False)"
      ],
      "metadata": {
        "id": "uTQ-SyRj4JbY"
      },
      "execution_count": 40,
      "outputs": []
    },
    {
      "cell_type": "markdown",
      "source": [
        "# Build Models"
      ],
      "metadata": {
        "id": "ZETBKB5rKWKP"
      }
    },
    {
      "cell_type": "code",
      "source": [
        "# imports needed for both models\n",
        "from sklearn.metrics import f1_score, accuracy_score as accuracy\n",
        "from sklearn.model_selection import GridSearchCV"
      ],
      "metadata": {
        "id": "46scG-TzMjMu"
      },
      "execution_count": 16,
      "outputs": []
    },
    {
      "cell_type": "code",
      "source": [
        "from codecarbon import EmissionsTracker\n",
        "\n",
        "tracker = EmissionsTracker(project_name = \"detect_ddos_with_ml\")"
      ],
      "metadata": {
        "id": "t2SEczmRhLoF",
        "colab": {
          "base_uri": "https://localhost:8080/"
        },
        "outputId": "30d413db-d7f5-489d-d5a2-7fc980ec9dd0"
      },
      "execution_count": 17,
      "outputs": [
        {
          "output_type": "stream",
          "name": "stderr",
          "text": [
            "[codecarbon INFO @ 12:22:31] [setup] RAM Tracking...\n",
            "[codecarbon INFO @ 12:22:31] [setup] GPU Tracking...\n",
            "[codecarbon INFO @ 12:22:31] Tracking Nvidia GPU via pynvml\n",
            "[codecarbon INFO @ 12:22:31] [setup] CPU Tracking...\n",
            "[codecarbon WARNING @ 12:22:31] No CPU tracking mode found. Falling back on CPU constant mode.\n",
            "[codecarbon WARNING @ 12:22:33] We saw that you have a Intel(R) Xeon(R) CPU @ 2.30GHz but we don't know it. Please contact us.\n",
            "[codecarbon INFO @ 12:22:33] CPU Model on constant consumption mode: Intel(R) Xeon(R) CPU @ 2.30GHz\n",
            "[codecarbon INFO @ 12:22:33] >>> Tracker's metadata:\n",
            "[codecarbon INFO @ 12:22:33]   Platform system: Linux-6.1.58+-x86_64-with-glibc2.35\n",
            "[codecarbon INFO @ 12:22:33]   Python version: 3.10.12\n",
            "[codecarbon INFO @ 12:22:33]   CodeCarbon version: 2.3.5\n",
            "[codecarbon INFO @ 12:22:33]   Available RAM : 12.675 GB\n",
            "[codecarbon INFO @ 12:22:33]   CPU count: 2\n",
            "[codecarbon INFO @ 12:22:33]   CPU model: Intel(R) Xeon(R) CPU @ 2.30GHz\n",
            "[codecarbon INFO @ 12:22:33]   GPU count: 1\n",
            "[codecarbon INFO @ 12:22:33]   GPU model: 1 x Tesla T4\n"
          ]
        }
      ]
    },
    {
      "cell_type": "markdown",
      "source": [
        "## Random Forest\n",
        "**Values removed from param grid:**\n",
        "*   n_estimators:\n",
        "   *   100 - overfitting.\n",
        "*   max_depth:\n",
        "   *   None - overfitting.\n",
        "   *   20 - overfitting.\n",
        "   *   10 - overfitting.\n",
        "*   max_features:\n",
        "   *   'sqrt' - overfitting.\n",
        "   *   'log2' - overfitting.\n",
        "\n",
        "**Observations/Notes:**\n",
        "*  min_samples_split=10 could possibly be overfitting? Train/test accuracy are close together, but I don't trust anything that claims to be 100% accurate in training."
      ],
      "metadata": {
        "id": "60pYh9NWQbIB"
      }
    },
    {
      "cell_type": "code",
      "source": [
        "# build random forest classifier model\n",
        "from sklearn.ensemble import RandomForestClassifier\n",
        "\n",
        "rf = RandomForestClassifier(class_weight = 'balanced', n_jobs = -1, random_state = 42)\n",
        "\n",
        "# grid of parameters to search through when performing cross validation\n",
        "rf_params = {\n",
        "    'n_estimators' : [200, 500],\n",
        "    'max_depth' : [5],\n",
        "    'min_samples_leaf' : [1, 5, 10],\n",
        "    'min_samples_split' : [2, 5, 10],\n",
        "    'max_features' : [0.25, 0.5]\n",
        "}\n",
        "\n",
        "# tests all permutations of the parameters outline in rf_params, returns the best performing model\n",
        "rf_model = GridSearchCV(estimator = rf,\n",
        "                        param_grid = rf_params,\n",
        "                        scoring = [\"accuracy\", \"f1_weighted\"],\n",
        "                        refit = \"f1_weighted\",\n",
        "                        cv = 5,\n",
        "                        verbose = 3,\n",
        "                        return_train_score = True,\n",
        "                        n_jobs = 1)"
      ],
      "metadata": {
        "id": "9a18V2MuQXB2"
      },
      "execution_count": 30,
      "outputs": []
    },
    {
      "cell_type": "markdown",
      "source": [
        "### Train Random Forest"
      ],
      "metadata": {
        "id": "XLFFUMQVJvo2"
      }
    },
    {
      "cell_type": "code",
      "source": [
        "tracker.start_task(\"train rf\")\n",
        "\n",
        "try:\n",
        "  # train model\n",
        "  rf_model.fit(X_new, y_train_res) # rf_model.fit(X_train_res, y_train_res)\n",
        "finally:\n",
        "  rf_emissions = tracker.stop_task(\"train rf\")"
      ],
      "metadata": {
        "id": "Rfd2t83SVBfc",
        "colab": {
          "base_uri": "https://localhost:8080/"
        },
        "outputId": "59559f19-a113-4293-b547-64b1c9f21835"
      },
      "execution_count": 31,
      "outputs": [
        {
          "output_type": "stream",
          "name": "stdout",
          "text": [
            "Fitting 5 folds for each of 36 candidates, totalling 180 fits\n",
            "[CV 1/5] END max_depth=5, max_features=0.25, min_samples_leaf=1, min_samples_split=2, n_estimators=200; accuracy: (train=0.841, test=0.840) f1_weighted: (train=0.838, test=0.838) total time=   4.7s\n",
            "[CV 2/5] END max_depth=5, max_features=0.25, min_samples_leaf=1, min_samples_split=2, n_estimators=200; accuracy: (train=0.833, test=0.825) f1_weighted: (train=0.829, test=0.822) total time=   3.7s\n",
            "[CV 3/5] END max_depth=5, max_features=0.25, min_samples_leaf=1, min_samples_split=2, n_estimators=200; accuracy: (train=0.837, test=0.841) f1_weighted: (train=0.835, test=0.839) total time=   3.6s\n",
            "[CV 4/5] END max_depth=5, max_features=0.25, min_samples_leaf=1, min_samples_split=2, n_estimators=200; accuracy: (train=0.836, test=0.836) f1_weighted: (train=0.834, test=0.832) total time=   4.3s\n",
            "[CV 5/5] END max_depth=5, max_features=0.25, min_samples_leaf=1, min_samples_split=2, n_estimators=200; accuracy: (train=0.824, test=0.821) f1_weighted: (train=0.821, test=0.818) total time=   3.7s\n",
            "[CV 1/5] END max_depth=5, max_features=0.25, min_samples_leaf=1, min_samples_split=2, n_estimators=500; accuracy: (train=0.843, test=0.841) f1_weighted: (train=0.840, test=0.839) total time=  10.0s\n",
            "[CV 2/5] END max_depth=5, max_features=0.25, min_samples_leaf=1, min_samples_split=2, n_estimators=500; accuracy: (train=0.837, test=0.829) f1_weighted: (train=0.834, test=0.826) total time=   9.9s\n",
            "[CV 3/5] END max_depth=5, max_features=0.25, min_samples_leaf=1, min_samples_split=2, n_estimators=500; accuracy: (train=0.837, test=0.841) f1_weighted: (train=0.834, test=0.838) total time=   9.9s\n",
            "[CV 4/5] END max_depth=5, max_features=0.25, min_samples_leaf=1, min_samples_split=2, n_estimators=500; accuracy: (train=0.838, test=0.836) f1_weighted: (train=0.835, test=0.832) total time=   9.9s\n",
            "[CV 5/5] END max_depth=5, max_features=0.25, min_samples_leaf=1, min_samples_split=2, n_estimators=500; accuracy: (train=0.836, test=0.835) f1_weighted: (train=0.833, test=0.831) total time=  10.3s\n",
            "[CV 1/5] END max_depth=5, max_features=0.25, min_samples_leaf=1, min_samples_split=5, n_estimators=200; accuracy: (train=0.841, test=0.840) f1_weighted: (train=0.838, test=0.838) total time=   3.7s\n",
            "[CV 2/5] END max_depth=5, max_features=0.25, min_samples_leaf=1, min_samples_split=5, n_estimators=200; accuracy: (train=0.832, test=0.824) f1_weighted: (train=0.829, test=0.821) total time=   3.6s\n",
            "[CV 3/5] END max_depth=5, max_features=0.25, min_samples_leaf=1, min_samples_split=5, n_estimators=200; accuracy: (train=0.837, test=0.840) f1_weighted: (train=0.834, test=0.838) total time=   5.6s\n",
            "[CV 4/5] END max_depth=5, max_features=0.25, min_samples_leaf=1, min_samples_split=5, n_estimators=200; accuracy: (train=0.836, test=0.835) f1_weighted: (train=0.833, test=0.831) total time=   3.6s\n",
            "[CV 5/5] END max_depth=5, max_features=0.25, min_samples_leaf=1, min_samples_split=5, n_estimators=200; accuracy: (train=0.827, test=0.826) f1_weighted: (train=0.824, test=0.823) total time=   3.6s\n",
            "[CV 1/5] END max_depth=5, max_features=0.25, min_samples_leaf=1, min_samples_split=5, n_estimators=500; accuracy: (train=0.843, test=0.841) f1_weighted: (train=0.839, test=0.839) total time=  10.0s\n",
            "[CV 2/5] END max_depth=5, max_features=0.25, min_samples_leaf=1, min_samples_split=5, n_estimators=500; accuracy: (train=0.837, test=0.828) f1_weighted: (train=0.834, test=0.825) total time=  11.0s\n",
            "[CV 3/5] END max_depth=5, max_features=0.25, min_samples_leaf=1, min_samples_split=5, n_estimators=500; accuracy: (train=0.838, test=0.842) f1_weighted: (train=0.835, test=0.839) total time=   9.9s\n",
            "[CV 4/5] END max_depth=5, max_features=0.25, min_samples_leaf=1, min_samples_split=5, n_estimators=500; accuracy: (train=0.840, test=0.838) f1_weighted: (train=0.837, test=0.833) total time=  13.3s\n",
            "[CV 5/5] END max_depth=5, max_features=0.25, min_samples_leaf=1, min_samples_split=5, n_estimators=500; accuracy: (train=0.839, test=0.837) f1_weighted: (train=0.836, test=0.834) total time=   9.7s\n",
            "[CV 1/5] END max_depth=5, max_features=0.25, min_samples_leaf=1, min_samples_split=10, n_estimators=200; accuracy: (train=0.838, test=0.837) f1_weighted: (train=0.834, test=0.834) total time=   4.6s\n",
            "[CV 2/5] END max_depth=5, max_features=0.25, min_samples_leaf=1, min_samples_split=10, n_estimators=200; accuracy: (train=0.833, test=0.826) f1_weighted: (train=0.831, test=0.824) total time=   3.7s\n",
            "[CV 3/5] END max_depth=5, max_features=0.25, min_samples_leaf=1, min_samples_split=10, n_estimators=200; accuracy: (train=0.840, test=0.845) f1_weighted: (train=0.838, test=0.843) total time=   3.7s\n",
            "[CV 4/5] END max_depth=5, max_features=0.25, min_samples_leaf=1, min_samples_split=10, n_estimators=200; accuracy: (train=0.836, test=0.835) f1_weighted: (train=0.833, test=0.831) total time=   4.5s\n",
            "[CV 5/5] END max_depth=5, max_features=0.25, min_samples_leaf=1, min_samples_split=10, n_estimators=200; accuracy: (train=0.829, test=0.827) f1_weighted: (train=0.826, test=0.824) total time=   3.7s\n",
            "[CV 1/5] END max_depth=5, max_features=0.25, min_samples_leaf=1, min_samples_split=10, n_estimators=500; accuracy: (train=0.842, test=0.840) f1_weighted: (train=0.839, test=0.838) total time=   9.9s\n",
            "[CV 2/5] END max_depth=5, max_features=0.25, min_samples_leaf=1, min_samples_split=10, n_estimators=500; accuracy: (train=0.837, test=0.828) f1_weighted: (train=0.834, test=0.825) total time=   9.9s\n",
            "[CV 3/5] END max_depth=5, max_features=0.25, min_samples_leaf=1, min_samples_split=10, n_estimators=500; accuracy: (train=0.836, test=0.839) f1_weighted: (train=0.833, test=0.836) total time=   9.9s\n",
            "[CV 4/5] END max_depth=5, max_features=0.25, min_samples_leaf=1, min_samples_split=10, n_estimators=500; accuracy: (train=0.838, test=0.836) f1_weighted: (train=0.834, test=0.831) total time=   9.9s\n",
            "[CV 5/5] END max_depth=5, max_features=0.25, min_samples_leaf=1, min_samples_split=10, n_estimators=500; accuracy: (train=0.833, test=0.831) f1_weighted: (train=0.830, test=0.828) total time=   9.9s\n",
            "[CV 1/5] END max_depth=5, max_features=0.25, min_samples_leaf=5, min_samples_split=2, n_estimators=200; accuracy: (train=0.838, test=0.837) f1_weighted: (train=0.835, test=0.835) total time=   3.7s\n",
            "[CV 2/5] END max_depth=5, max_features=0.25, min_samples_leaf=5, min_samples_split=2, n_estimators=200; accuracy: (train=0.829, test=0.821) f1_weighted: (train=0.826, test=0.817) total time=   3.7s\n",
            "[CV 3/5] END max_depth=5, max_features=0.25, min_samples_leaf=5, min_samples_split=2, n_estimators=200; accuracy: (train=0.840, test=0.846) f1_weighted: (train=0.838, test=0.843) total time=   4.6s\n",
            "[CV 4/5] END max_depth=5, max_features=0.25, min_samples_leaf=5, min_samples_split=2, n_estimators=200; accuracy: (train=0.838, test=0.837) f1_weighted: (train=0.835, test=0.833) total time=   3.6s\n",
            "[CV 5/5] END max_depth=5, max_features=0.25, min_samples_leaf=5, min_samples_split=2, n_estimators=200; accuracy: (train=0.812, test=0.809) f1_weighted: (train=0.803, test=0.800) total time=   4.1s\n",
            "[CV 1/5] END max_depth=5, max_features=0.25, min_samples_leaf=5, min_samples_split=2, n_estimators=500; accuracy: (train=0.843, test=0.841) f1_weighted: (train=0.839, test=0.838) total time=  10.3s\n",
            "[CV 2/5] END max_depth=5, max_features=0.25, min_samples_leaf=5, min_samples_split=2, n_estimators=500; accuracy: (train=0.837, test=0.827) f1_weighted: (train=0.834, test=0.824) total time=   9.6s\n",
            "[CV 3/5] END max_depth=5, max_features=0.25, min_samples_leaf=5, min_samples_split=2, n_estimators=500; accuracy: (train=0.836, test=0.842) f1_weighted: (train=0.833, test=0.839) total time=   9.8s\n",
            "[CV 4/5] END max_depth=5, max_features=0.25, min_samples_leaf=5, min_samples_split=2, n_estimators=500; accuracy: (train=0.838, test=0.837) f1_weighted: (train=0.835, test=0.833) total time=   9.9s\n",
            "[CV 5/5] END max_depth=5, max_features=0.25, min_samples_leaf=5, min_samples_split=2, n_estimators=500; accuracy: (train=0.833, test=0.830) f1_weighted: (train=0.830, test=0.827) total time=   9.8s\n",
            "[CV 1/5] END max_depth=5, max_features=0.25, min_samples_leaf=5, min_samples_split=5, n_estimators=200; accuracy: (train=0.838, test=0.837) f1_weighted: (train=0.835, test=0.835) total time=   3.7s\n",
            "[CV 2/5] END max_depth=5, max_features=0.25, min_samples_leaf=5, min_samples_split=5, n_estimators=200; accuracy: (train=0.829, test=0.821) f1_weighted: (train=0.826, test=0.817) total time=   4.6s\n",
            "[CV 3/5] END max_depth=5, max_features=0.25, min_samples_leaf=5, min_samples_split=5, n_estimators=200; accuracy: (train=0.840, test=0.846) f1_weighted: (train=0.838, test=0.843) total time=   3.7s\n",
            "[CV 4/5] END max_depth=5, max_features=0.25, min_samples_leaf=5, min_samples_split=5, n_estimators=200; accuracy: (train=0.838, test=0.837) f1_weighted: (train=0.835, test=0.833) total time=   3.7s\n",
            "[CV 5/5] END max_depth=5, max_features=0.25, min_samples_leaf=5, min_samples_split=5, n_estimators=200; accuracy: (train=0.812, test=0.809) f1_weighted: (train=0.803, test=0.800) total time=   4.8s\n",
            "[CV 1/5] END max_depth=5, max_features=0.25, min_samples_leaf=5, min_samples_split=5, n_estimators=500; accuracy: (train=0.843, test=0.841) f1_weighted: (train=0.839, test=0.838) total time=  10.3s\n",
            "[CV 2/5] END max_depth=5, max_features=0.25, min_samples_leaf=5, min_samples_split=5, n_estimators=500; accuracy: (train=0.837, test=0.827) f1_weighted: (train=0.834, test=0.824) total time=   9.9s\n",
            "[CV 3/5] END max_depth=5, max_features=0.25, min_samples_leaf=5, min_samples_split=5, n_estimators=500; accuracy: (train=0.836, test=0.842) f1_weighted: (train=0.833, test=0.839) total time=   9.7s\n",
            "[CV 4/5] END max_depth=5, max_features=0.25, min_samples_leaf=5, min_samples_split=5, n_estimators=500; accuracy: (train=0.838, test=0.837) f1_weighted: (train=0.835, test=0.833) total time=   8.9s\n",
            "[CV 5/5] END max_depth=5, max_features=0.25, min_samples_leaf=5, min_samples_split=5, n_estimators=500; accuracy: (train=0.833, test=0.830) f1_weighted: (train=0.830, test=0.827) total time=   9.7s\n",
            "[CV 1/5] END max_depth=5, max_features=0.25, min_samples_leaf=5, min_samples_split=10, n_estimators=200; accuracy: (train=0.838, test=0.837) f1_weighted: (train=0.835, test=0.835) total time=   4.6s\n",
            "[CV 2/5] END max_depth=5, max_features=0.25, min_samples_leaf=5, min_samples_split=10, n_estimators=200; accuracy: (train=0.829, test=0.821) f1_weighted: (train=0.826, test=0.817) total time=   3.7s\n",
            "[CV 3/5] END max_depth=5, max_features=0.25, min_samples_leaf=5, min_samples_split=10, n_estimators=200; accuracy: (train=0.840, test=0.846) f1_weighted: (train=0.838, test=0.843) total time=   3.7s\n",
            "[CV 4/5] END max_depth=5, max_features=0.25, min_samples_leaf=5, min_samples_split=10, n_estimators=200; accuracy: (train=0.838, test=0.837) f1_weighted: (train=0.835, test=0.833) total time=   4.3s\n",
            "[CV 5/5] END max_depth=5, max_features=0.25, min_samples_leaf=5, min_samples_split=10, n_estimators=200; accuracy: (train=0.812, test=0.809) f1_weighted: (train=0.803, test=0.800) total time=   3.6s\n",
            "[CV 1/5] END max_depth=5, max_features=0.25, min_samples_leaf=5, min_samples_split=10, n_estimators=500; accuracy: (train=0.843, test=0.841) f1_weighted: (train=0.839, test=0.838) total time=  10.0s\n",
            "[CV 2/5] END max_depth=5, max_features=0.25, min_samples_leaf=5, min_samples_split=10, n_estimators=500; accuracy: (train=0.837, test=0.827) f1_weighted: (train=0.834, test=0.824) total time=   9.9s\n",
            "[CV 3/5] END max_depth=5, max_features=0.25, min_samples_leaf=5, min_samples_split=10, n_estimators=500; accuracy: (train=0.836, test=0.842) f1_weighted: (train=0.833, test=0.839) total time=  10.6s\n",
            "[CV 4/5] END max_depth=5, max_features=0.25, min_samples_leaf=5, min_samples_split=10, n_estimators=500; accuracy: (train=0.838, test=0.837) f1_weighted: (train=0.835, test=0.833) total time=   9.8s\n",
            "[CV 5/5] END max_depth=5, max_features=0.25, min_samples_leaf=5, min_samples_split=10, n_estimators=500; accuracy: (train=0.833, test=0.830) f1_weighted: (train=0.830, test=0.827) total time=   9.7s\n",
            "[CV 1/5] END max_depth=5, max_features=0.25, min_samples_leaf=10, min_samples_split=2, n_estimators=200; accuracy: (train=0.834, test=0.835) f1_weighted: (train=0.832, test=0.833) total time=   3.8s\n",
            "[CV 2/5] END max_depth=5, max_features=0.25, min_samples_leaf=10, min_samples_split=2, n_estimators=200; accuracy: (train=0.830, test=0.824) f1_weighted: (train=0.828, test=0.821) total time=   3.7s\n",
            "[CV 3/5] END max_depth=5, max_features=0.25, min_samples_leaf=10, min_samples_split=2, n_estimators=200; accuracy: (train=0.839, test=0.844) f1_weighted: (train=0.837, test=0.842) total time=   4.5s\n",
            "[CV 4/5] END max_depth=5, max_features=0.25, min_samples_leaf=10, min_samples_split=2, n_estimators=200; accuracy: (train=0.832, test=0.830) f1_weighted: (train=0.829, test=0.827) total time=   3.8s\n",
            "[CV 5/5] END max_depth=5, max_features=0.25, min_samples_leaf=10, min_samples_split=2, n_estimators=200; accuracy: (train=0.805, test=0.805) f1_weighted: (train=0.790, test=0.790) total time=   3.7s\n",
            "[CV 1/5] END max_depth=5, max_features=0.25, min_samples_leaf=10, min_samples_split=2, n_estimators=500; accuracy: (train=0.840, test=0.838) f1_weighted: (train=0.837, test=0.836) total time=   9.4s\n",
            "[CV 2/5] END max_depth=5, max_features=0.25, min_samples_leaf=10, min_samples_split=2, n_estimators=500; accuracy: (train=0.833, test=0.826) f1_weighted: (train=0.830, test=0.823) total time=   9.9s\n",
            "[CV 3/5] END max_depth=5, max_features=0.25, min_samples_leaf=10, min_samples_split=2, n_estimators=500; accuracy: (train=0.841, test=0.844) f1_weighted: (train=0.839, test=0.842) total time=   9.8s\n",
            "[CV 4/5] END max_depth=5, max_features=0.25, min_samples_leaf=10, min_samples_split=2, n_estimators=500; accuracy: (train=0.836, test=0.833) f1_weighted: (train=0.833, test=0.830) total time=   9.9s\n",
            "[CV 5/5] END max_depth=5, max_features=0.25, min_samples_leaf=10, min_samples_split=2, n_estimators=500; accuracy: (train=0.833, test=0.832) f1_weighted: (train=0.830, test=0.829) total time=  10.0s\n",
            "[CV 1/5] END max_depth=5, max_features=0.25, min_samples_leaf=10, min_samples_split=5, n_estimators=200; accuracy: (train=0.834, test=0.835) f1_weighted: (train=0.832, test=0.833) total time=   3.8s\n",
            "[CV 2/5] END max_depth=5, max_features=0.25, min_samples_leaf=10, min_samples_split=5, n_estimators=200; accuracy: (train=0.830, test=0.824) f1_weighted: (train=0.828, test=0.821) total time=   5.5s\n",
            "[CV 3/5] END max_depth=5, max_features=0.25, min_samples_leaf=10, min_samples_split=5, n_estimators=200; accuracy: (train=0.839, test=0.844) f1_weighted: (train=0.837, test=0.842) total time=   3.7s\n",
            "[CV 4/5] END max_depth=5, max_features=0.25, min_samples_leaf=10, min_samples_split=5, n_estimators=200; accuracy: (train=0.832, test=0.830) f1_weighted: (train=0.829, test=0.827) total time=   3.7s\n",
            "[CV 5/5] END max_depth=5, max_features=0.25, min_samples_leaf=10, min_samples_split=5, n_estimators=200; accuracy: (train=0.805, test=0.805) f1_weighted: (train=0.790, test=0.790) total time=   4.6s\n",
            "[CV 1/5] END max_depth=5, max_features=0.25, min_samples_leaf=10, min_samples_split=5, n_estimators=500; accuracy: (train=0.840, test=0.838) f1_weighted: (train=0.837, test=0.836) total time=  10.1s\n",
            "[CV 2/5] END max_depth=5, max_features=0.25, min_samples_leaf=10, min_samples_split=5, n_estimators=500; accuracy: (train=0.833, test=0.826) f1_weighted: (train=0.830, test=0.823) total time=   9.0s\n",
            "[CV 3/5] END max_depth=5, max_features=0.25, min_samples_leaf=10, min_samples_split=5, n_estimators=500; accuracy: (train=0.841, test=0.844) f1_weighted: (train=0.839, test=0.842) total time=   9.1s\n",
            "[CV 4/5] END max_depth=5, max_features=0.25, min_samples_leaf=10, min_samples_split=5, n_estimators=500; accuracy: (train=0.836, test=0.833) f1_weighted: (train=0.833, test=0.830) total time=   9.8s\n",
            "[CV 5/5] END max_depth=5, max_features=0.25, min_samples_leaf=10, min_samples_split=5, n_estimators=500; accuracy: (train=0.833, test=0.832) f1_weighted: (train=0.830, test=0.829) total time=  10.8s\n",
            "[CV 1/5] END max_depth=5, max_features=0.25, min_samples_leaf=10, min_samples_split=10, n_estimators=200; accuracy: (train=0.834, test=0.835) f1_weighted: (train=0.832, test=0.833) total time=   3.9s\n",
            "[CV 2/5] END max_depth=5, max_features=0.25, min_samples_leaf=10, min_samples_split=10, n_estimators=200; accuracy: (train=0.830, test=0.824) f1_weighted: (train=0.828, test=0.821) total time=   4.0s\n",
            "[CV 3/5] END max_depth=5, max_features=0.25, min_samples_leaf=10, min_samples_split=10, n_estimators=200; accuracy: (train=0.839, test=0.844) f1_weighted: (train=0.837, test=0.842) total time=   3.6s\n",
            "[CV 4/5] END max_depth=5, max_features=0.25, min_samples_leaf=10, min_samples_split=10, n_estimators=200; accuracy: (train=0.832, test=0.830) f1_weighted: (train=0.829, test=0.827) total time=   4.6s\n",
            "[CV 5/5] END max_depth=5, max_features=0.25, min_samples_leaf=10, min_samples_split=10, n_estimators=200; accuracy: (train=0.805, test=0.805) f1_weighted: (train=0.790, test=0.790) total time=   3.7s\n",
            "[CV 1/5] END max_depth=5, max_features=0.25, min_samples_leaf=10, min_samples_split=10, n_estimators=500; accuracy: (train=0.840, test=0.838) f1_weighted: (train=0.837, test=0.836) total time=  10.3s\n",
            "[CV 2/5] END max_depth=5, max_features=0.25, min_samples_leaf=10, min_samples_split=10, n_estimators=500; accuracy: (train=0.833, test=0.826) f1_weighted: (train=0.830, test=0.823) total time=   9.9s\n",
            "[CV 3/5] END max_depth=5, max_features=0.25, min_samples_leaf=10, min_samples_split=10, n_estimators=500; accuracy: (train=0.841, test=0.844) f1_weighted: (train=0.839, test=0.842) total time=  10.0s\n",
            "[CV 4/5] END max_depth=5, max_features=0.25, min_samples_leaf=10, min_samples_split=10, n_estimators=500; accuracy: (train=0.836, test=0.833) f1_weighted: (train=0.833, test=0.830) total time=   9.0s\n",
            "[CV 5/5] END max_depth=5, max_features=0.25, min_samples_leaf=10, min_samples_split=10, n_estimators=500; accuracy: (train=0.833, test=0.832) f1_weighted: (train=0.830, test=0.829) total time=   9.0s\n",
            "[CV 1/5] END max_depth=5, max_features=0.5, min_samples_leaf=1, min_samples_split=2, n_estimators=200; accuracy: (train=0.913, test=0.911) f1_weighted: (train=0.911, test=0.909) total time=   7.5s\n",
            "[CV 2/5] END max_depth=5, max_features=0.5, min_samples_leaf=1, min_samples_split=2, n_estimators=200; accuracy: (train=0.932, test=0.924) f1_weighted: (train=0.932, test=0.924) total time=   7.4s\n",
            "[CV 3/5] END max_depth=5, max_features=0.5, min_samples_leaf=1, min_samples_split=2, n_estimators=200; accuracy: (train=0.918, test=0.921) f1_weighted: (train=0.918, test=0.919) total time=   6.4s\n",
            "[CV 4/5] END max_depth=5, max_features=0.5, min_samples_leaf=1, min_samples_split=2, n_estimators=200; accuracy: (train=0.920, test=0.926) f1_weighted: (train=0.919, test=0.925) total time=   7.4s\n",
            "[CV 5/5] END max_depth=5, max_features=0.5, min_samples_leaf=1, min_samples_split=2, n_estimators=200; accuracy: (train=0.913, test=0.909) f1_weighted: (train=0.910, test=0.907) total time=   6.5s\n",
            "[CV 1/5] END max_depth=5, max_features=0.5, min_samples_leaf=1, min_samples_split=2, n_estimators=500; accuracy: (train=0.928, test=0.923) f1_weighted: (train=0.927, test=0.922) total time=  17.8s\n",
            "[CV 2/5] END max_depth=5, max_features=0.5, min_samples_leaf=1, min_samples_split=2, n_estimators=500; accuracy: (train=0.933, test=0.924) f1_weighted: (train=0.932, test=0.923) total time=  18.3s\n",
            "[CV 3/5] END max_depth=5, max_features=0.5, min_samples_leaf=1, min_samples_split=2, n_estimators=500; accuracy: (train=0.917, test=0.919) f1_weighted: (train=0.916, test=0.917) total time=  17.8s\n",
            "[CV 4/5] END max_depth=5, max_features=0.5, min_samples_leaf=1, min_samples_split=2, n_estimators=500; accuracy: (train=0.931, test=0.933) f1_weighted: (train=0.931, test=0.934) total time=  17.8s\n",
            "[CV 5/5] END max_depth=5, max_features=0.5, min_samples_leaf=1, min_samples_split=2, n_estimators=500; accuracy: (train=0.912, test=0.910) f1_weighted: (train=0.911, test=0.909) total time=  17.0s\n",
            "[CV 1/5] END max_depth=5, max_features=0.5, min_samples_leaf=1, min_samples_split=5, n_estimators=200; accuracy: (train=0.912, test=0.909) f1_weighted: (train=0.910, test=0.908) total time=   7.5s\n",
            "[CV 2/5] END max_depth=5, max_features=0.5, min_samples_leaf=1, min_samples_split=5, n_estimators=200; accuracy: (train=0.932, test=0.924) f1_weighted: (train=0.931, test=0.923) total time=   6.4s\n",
            "[CV 3/5] END max_depth=5, max_features=0.5, min_samples_leaf=1, min_samples_split=5, n_estimators=200; accuracy: (train=0.918, test=0.920) f1_weighted: (train=0.917, test=0.919) total time=   7.4s\n",
            "[CV 4/5] END max_depth=5, max_features=0.5, min_samples_leaf=1, min_samples_split=5, n_estimators=200; accuracy: (train=0.911, test=0.916) f1_weighted: (train=0.910, test=0.915) total time=   7.3s\n",
            "[CV 5/5] END max_depth=5, max_features=0.5, min_samples_leaf=1, min_samples_split=5, n_estimators=200; accuracy: (train=0.913, test=0.910) f1_weighted: (train=0.911, test=0.907) total time=   6.4s\n",
            "[CV 1/5] END max_depth=5, max_features=0.5, min_samples_leaf=1, min_samples_split=5, n_estimators=500; accuracy: (train=0.928, test=0.923) f1_weighted: (train=0.927, test=0.922) total time=  18.0s\n",
            "[CV 2/5] END max_depth=5, max_features=0.5, min_samples_leaf=1, min_samples_split=5, n_estimators=500; accuracy: (train=0.933, test=0.924) f1_weighted: (train=0.932, test=0.923) total time=  17.0s\n",
            "[CV 3/5] END max_depth=5, max_features=0.5, min_samples_leaf=1, min_samples_split=5, n_estimators=500; accuracy: (train=0.917, test=0.919) f1_weighted: (train=0.916, test=0.918) total time=  17.8s\n",
            "[CV 4/5] END max_depth=5, max_features=0.5, min_samples_leaf=1, min_samples_split=5, n_estimators=500; accuracy: (train=0.931, test=0.933) f1_weighted: (train=0.931, test=0.933) total time=  16.9s\n",
            "[CV 5/5] END max_depth=5, max_features=0.5, min_samples_leaf=1, min_samples_split=5, n_estimators=500; accuracy: (train=0.911, test=0.909) f1_weighted: (train=0.910, test=0.908) total time=  17.9s\n",
            "[CV 1/5] END max_depth=5, max_features=0.5, min_samples_leaf=1, min_samples_split=10, n_estimators=200; accuracy: (train=0.919, test=0.919) f1_weighted: (train=0.918, test=0.917) total time=   7.5s\n",
            "[CV 2/5] END max_depth=5, max_features=0.5, min_samples_leaf=1, min_samples_split=10, n_estimators=200; accuracy: (train=0.932, test=0.925) f1_weighted: (train=0.932, test=0.924) total time=   7.4s\n",
            "[CV 3/5] END max_depth=5, max_features=0.5, min_samples_leaf=1, min_samples_split=10, n_estimators=200; accuracy: (train=0.917, test=0.920) f1_weighted: (train=0.917, test=0.919) total time=   7.0s\n",
            "[CV 4/5] END max_depth=5, max_features=0.5, min_samples_leaf=1, min_samples_split=10, n_estimators=200; accuracy: (train=0.908, test=0.912) f1_weighted: (train=0.906, test=0.911) total time=   7.4s\n",
            "[CV 5/5] END max_depth=5, max_features=0.5, min_samples_leaf=1, min_samples_split=10, n_estimators=200; accuracy: (train=0.911, test=0.908) f1_weighted: (train=0.909, test=0.906) total time=   7.4s\n",
            "[CV 1/5] END max_depth=5, max_features=0.5, min_samples_leaf=1, min_samples_split=10, n_estimators=500; accuracy: (train=0.928, test=0.923) f1_weighted: (train=0.927, test=0.922) total time=  17.1s\n",
            "[CV 2/5] END max_depth=5, max_features=0.5, min_samples_leaf=1, min_samples_split=10, n_estimators=500; accuracy: (train=0.936, test=0.928) f1_weighted: (train=0.935, test=0.927) total time=  18.0s\n",
            "[CV 3/5] END max_depth=5, max_features=0.5, min_samples_leaf=1, min_samples_split=10, n_estimators=500; accuracy: (train=0.916, test=0.917) f1_weighted: (train=0.915, test=0.916) total time=  16.8s\n",
            "[CV 4/5] END max_depth=5, max_features=0.5, min_samples_leaf=1, min_samples_split=10, n_estimators=500; accuracy: (train=0.925, test=0.928) f1_weighted: (train=0.924, test=0.928) total time=  17.8s\n",
            "[CV 5/5] END max_depth=5, max_features=0.5, min_samples_leaf=1, min_samples_split=10, n_estimators=500; accuracy: (train=0.911, test=0.909) f1_weighted: (train=0.909, test=0.907) total time=  17.0s\n",
            "[CV 1/5] END max_depth=5, max_features=0.5, min_samples_leaf=5, min_samples_split=2, n_estimators=200; accuracy: (train=0.911, test=0.910) f1_weighted: (train=0.909, test=0.909) total time=   7.5s\n",
            "[CV 2/5] END max_depth=5, max_features=0.5, min_samples_leaf=5, min_samples_split=2, n_estimators=200; accuracy: (train=0.930, test=0.922) f1_weighted: (train=0.930, test=0.921) total time=   6.4s\n",
            "[CV 3/5] END max_depth=5, max_features=0.5, min_samples_leaf=5, min_samples_split=2, n_estimators=200; accuracy: (train=0.916, test=0.920) f1_weighted: (train=0.915, test=0.918) total time=   7.3s\n",
            "[CV 4/5] END max_depth=5, max_features=0.5, min_samples_leaf=5, min_samples_split=2, n_estimators=200; accuracy: (train=0.908, test=0.912) f1_weighted: (train=0.907, test=0.911) total time=   7.4s\n",
            "[CV 5/5] END max_depth=5, max_features=0.5, min_samples_leaf=5, min_samples_split=2, n_estimators=200; accuracy: (train=0.910, test=0.907) f1_weighted: (train=0.908, test=0.905) total time=   6.5s\n",
            "[CV 1/5] END max_depth=5, max_features=0.5, min_samples_leaf=5, min_samples_split=2, n_estimators=500; accuracy: (train=0.927, test=0.922) f1_weighted: (train=0.926, test=0.921) total time=  19.1s\n",
            "[CV 2/5] END max_depth=5, max_features=0.5, min_samples_leaf=5, min_samples_split=2, n_estimators=500; accuracy: (train=0.931, test=0.924) f1_weighted: (train=0.930, test=0.923) total time=  17.0s\n",
            "[CV 3/5] END max_depth=5, max_features=0.5, min_samples_leaf=5, min_samples_split=2, n_estimators=500; accuracy: (train=0.919, test=0.922) f1_weighted: (train=0.919, test=0.920) total time=  17.8s\n",
            "[CV 4/5] END max_depth=5, max_features=0.5, min_samples_leaf=5, min_samples_split=2, n_estimators=500; accuracy: (train=0.925, test=0.928) f1_weighted: (train=0.924, test=0.928) total time=  17.7s\n",
            "[CV 5/5] END max_depth=5, max_features=0.5, min_samples_leaf=5, min_samples_split=2, n_estimators=500; accuracy: (train=0.911, test=0.909) f1_weighted: (train=0.910, test=0.908) total time=  17.7s\n",
            "[CV 1/5] END max_depth=5, max_features=0.5, min_samples_leaf=5, min_samples_split=5, n_estimators=200; accuracy: (train=0.911, test=0.910) f1_weighted: (train=0.909, test=0.909) total time=   7.0s\n",
            "[CV 2/5] END max_depth=5, max_features=0.5, min_samples_leaf=5, min_samples_split=5, n_estimators=200; accuracy: (train=0.930, test=0.922) f1_weighted: (train=0.930, test=0.921) total time=   6.6s\n",
            "[CV 3/5] END max_depth=5, max_features=0.5, min_samples_leaf=5, min_samples_split=5, n_estimators=200; accuracy: (train=0.916, test=0.920) f1_weighted: (train=0.915, test=0.918) total time=   7.4s\n",
            "[CV 4/5] END max_depth=5, max_features=0.5, min_samples_leaf=5, min_samples_split=5, n_estimators=200; accuracy: (train=0.908, test=0.912) f1_weighted: (train=0.907, test=0.911) total time=   6.5s\n",
            "[CV 5/5] END max_depth=5, max_features=0.5, min_samples_leaf=5, min_samples_split=5, n_estimators=200; accuracy: (train=0.910, test=0.907) f1_weighted: (train=0.908, test=0.905) total time=   7.4s\n",
            "[CV 1/5] END max_depth=5, max_features=0.5, min_samples_leaf=5, min_samples_split=5, n_estimators=500; accuracy: (train=0.927, test=0.922) f1_weighted: (train=0.926, test=0.921) total time=  17.2s\n",
            "[CV 2/5] END max_depth=5, max_features=0.5, min_samples_leaf=5, min_samples_split=5, n_estimators=500; accuracy: (train=0.931, test=0.924) f1_weighted: (train=0.930, test=0.923) total time=  17.1s\n",
            "[CV 3/5] END max_depth=5, max_features=0.5, min_samples_leaf=5, min_samples_split=5, n_estimators=500; accuracy: (train=0.919, test=0.922) f1_weighted: (train=0.919, test=0.920) total time=  17.0s\n",
            "[CV 4/5] END max_depth=5, max_features=0.5, min_samples_leaf=5, min_samples_split=5, n_estimators=500; accuracy: (train=0.925, test=0.928) f1_weighted: (train=0.924, test=0.928) total time=  18.0s\n",
            "[CV 5/5] END max_depth=5, max_features=0.5, min_samples_leaf=5, min_samples_split=5, n_estimators=500; accuracy: (train=0.911, test=0.909) f1_weighted: (train=0.910, test=0.908) total time=  17.6s\n",
            "[CV 1/5] END max_depth=5, max_features=0.5, min_samples_leaf=5, min_samples_split=10, n_estimators=200; accuracy: (train=0.911, test=0.910) f1_weighted: (train=0.909, test=0.909) total time=   6.5s\n",
            "[CV 2/5] END max_depth=5, max_features=0.5, min_samples_leaf=5, min_samples_split=10, n_estimators=200; accuracy: (train=0.930, test=0.922) f1_weighted: (train=0.930, test=0.921) total time=   7.4s\n",
            "[CV 3/5] END max_depth=5, max_features=0.5, min_samples_leaf=5, min_samples_split=10, n_estimators=200; accuracy: (train=0.916, test=0.920) f1_weighted: (train=0.915, test=0.918) total time=   6.4s\n",
            "[CV 4/5] END max_depth=5, max_features=0.5, min_samples_leaf=5, min_samples_split=10, n_estimators=200; accuracy: (train=0.908, test=0.912) f1_weighted: (train=0.907, test=0.911) total time=   7.4s\n",
            "[CV 5/5] END max_depth=5, max_features=0.5, min_samples_leaf=5, min_samples_split=10, n_estimators=200; accuracy: (train=0.910, test=0.907) f1_weighted: (train=0.908, test=0.905) total time=   9.6s\n",
            "[CV 1/5] END max_depth=5, max_features=0.5, min_samples_leaf=5, min_samples_split=10, n_estimators=500; accuracy: (train=0.927, test=0.922) f1_weighted: (train=0.926, test=0.921) total time=  19.0s\n",
            "[CV 2/5] END max_depth=5, max_features=0.5, min_samples_leaf=5, min_samples_split=10, n_estimators=500; accuracy: (train=0.931, test=0.924) f1_weighted: (train=0.930, test=0.923) total time=  18.0s\n",
            "[CV 3/5] END max_depth=5, max_features=0.5, min_samples_leaf=5, min_samples_split=10, n_estimators=500; accuracy: (train=0.919, test=0.922) f1_weighted: (train=0.919, test=0.920) total time=  17.9s\n",
            "[CV 4/5] END max_depth=5, max_features=0.5, min_samples_leaf=5, min_samples_split=10, n_estimators=500; accuracy: (train=0.925, test=0.928) f1_weighted: (train=0.924, test=0.928) total time=  17.1s\n",
            "[CV 5/5] END max_depth=5, max_features=0.5, min_samples_leaf=5, min_samples_split=10, n_estimators=500; accuracy: (train=0.911, test=0.909) f1_weighted: (train=0.910, test=0.908) total time=  17.9s\n",
            "[CV 1/5] END max_depth=5, max_features=0.5, min_samples_leaf=10, min_samples_split=2, n_estimators=200; accuracy: (train=0.916, test=0.914) f1_weighted: (train=0.915, test=0.913) total time=   7.6s\n",
            "[CV 2/5] END max_depth=5, max_features=0.5, min_samples_leaf=10, min_samples_split=2, n_estimators=200; accuracy: (train=0.920, test=0.914) f1_weighted: (train=0.919, test=0.913) total time=   7.8s\n",
            "[CV 3/5] END max_depth=5, max_features=0.5, min_samples_leaf=10, min_samples_split=2, n_estimators=200; accuracy: (train=0.917, test=0.920) f1_weighted: (train=0.916, test=0.918) total time=   7.3s\n",
            "[CV 4/5] END max_depth=5, max_features=0.5, min_samples_leaf=10, min_samples_split=2, n_estimators=200; accuracy: (train=0.926, test=0.932) f1_weighted: (train=0.925, test=0.931) total time=   6.5s\n",
            "[CV 5/5] END max_depth=5, max_features=0.5, min_samples_leaf=10, min_samples_split=2, n_estimators=200; accuracy: (train=0.910, test=0.907) f1_weighted: (train=0.908, test=0.905) total time=   7.4s\n",
            "[CV 1/5] END max_depth=5, max_features=0.5, min_samples_leaf=10, min_samples_split=2, n_estimators=500; accuracy: (train=0.928, test=0.923) f1_weighted: (train=0.926, test=0.921) total time=  17.0s\n",
            "[CV 2/5] END max_depth=5, max_features=0.5, min_samples_leaf=10, min_samples_split=2, n_estimators=500; accuracy: (train=0.931, test=0.922) f1_weighted: (train=0.930, test=0.921) total time=  17.6s\n",
            "[CV 3/5] END max_depth=5, max_features=0.5, min_samples_leaf=10, min_samples_split=2, n_estimators=500; accuracy: (train=0.922, test=0.925) f1_weighted: (train=0.920, test=0.923) total time=  16.9s\n",
            "[CV 4/5] END max_depth=5, max_features=0.5, min_samples_leaf=10, min_samples_split=2, n_estimators=500; accuracy: (train=0.929, test=0.934) f1_weighted: (train=0.929, test=0.933) total time=  17.7s\n",
            "[CV 5/5] END max_depth=5, max_features=0.5, min_samples_leaf=10, min_samples_split=2, n_estimators=500; accuracy: (train=0.911, test=0.907) f1_weighted: (train=0.910, test=0.906) total time=  17.3s\n",
            "[CV 1/5] END max_depth=5, max_features=0.5, min_samples_leaf=10, min_samples_split=5, n_estimators=200; accuracy: (train=0.916, test=0.914) f1_weighted: (train=0.915, test=0.913) total time=   7.6s\n",
            "[CV 2/5] END max_depth=5, max_features=0.5, min_samples_leaf=10, min_samples_split=5, n_estimators=200; accuracy: (train=0.920, test=0.914) f1_weighted: (train=0.919, test=0.913) total time=   8.2s\n",
            "[CV 3/5] END max_depth=5, max_features=0.5, min_samples_leaf=10, min_samples_split=5, n_estimators=200; accuracy: (train=0.917, test=0.920) f1_weighted: (train=0.916, test=0.918) total time=   6.5s\n",
            "[CV 4/5] END max_depth=5, max_features=0.5, min_samples_leaf=10, min_samples_split=5, n_estimators=200; accuracy: (train=0.926, test=0.932) f1_weighted: (train=0.925, test=0.931) total time=   7.4s\n",
            "[CV 5/5] END max_depth=5, max_features=0.5, min_samples_leaf=10, min_samples_split=5, n_estimators=200; accuracy: (train=0.910, test=0.907) f1_weighted: (train=0.908, test=0.905) total time=   6.4s\n",
            "[CV 1/5] END max_depth=5, max_features=0.5, min_samples_leaf=10, min_samples_split=5, n_estimators=500; accuracy: (train=0.928, test=0.923) f1_weighted: (train=0.926, test=0.921) total time=  19.1s\n",
            "[CV 2/5] END max_depth=5, max_features=0.5, min_samples_leaf=10, min_samples_split=5, n_estimators=500; accuracy: (train=0.931, test=0.922) f1_weighted: (train=0.930, test=0.921) total time=  16.9s\n",
            "[CV 3/5] END max_depth=5, max_features=0.5, min_samples_leaf=10, min_samples_split=5, n_estimators=500; accuracy: (train=0.922, test=0.925) f1_weighted: (train=0.920, test=0.923) total time=  17.5s\n",
            "[CV 4/5] END max_depth=5, max_features=0.5, min_samples_leaf=10, min_samples_split=5, n_estimators=500; accuracy: (train=0.929, test=0.934) f1_weighted: (train=0.929, test=0.933) total time=  16.9s\n",
            "[CV 5/5] END max_depth=5, max_features=0.5, min_samples_leaf=10, min_samples_split=5, n_estimators=500; accuracy: (train=0.911, test=0.907) f1_weighted: (train=0.910, test=0.906) total time=  17.2s\n",
            "[CV 1/5] END max_depth=5, max_features=0.5, min_samples_leaf=10, min_samples_split=10, n_estimators=200; accuracy: (train=0.916, test=0.914) f1_weighted: (train=0.915, test=0.913) total time=   7.5s\n",
            "[CV 2/5] END max_depth=5, max_features=0.5, min_samples_leaf=10, min_samples_split=10, n_estimators=200; accuracy: (train=0.920, test=0.914) f1_weighted: (train=0.919, test=0.913) total time=   6.6s\n",
            "[CV 3/5] END max_depth=5, max_features=0.5, min_samples_leaf=10, min_samples_split=10, n_estimators=200; accuracy: (train=0.917, test=0.920) f1_weighted: (train=0.916, test=0.918) total time=   7.4s\n",
            "[CV 4/5] END max_depth=5, max_features=0.5, min_samples_leaf=10, min_samples_split=10, n_estimators=200; accuracy: (train=0.926, test=0.932) f1_weighted: (train=0.925, test=0.931) total time=   6.4s\n",
            "[CV 5/5] END max_depth=5, max_features=0.5, min_samples_leaf=10, min_samples_split=10, n_estimators=200; accuracy: (train=0.910, test=0.907) f1_weighted: (train=0.908, test=0.905) total time=   7.1s\n",
            "[CV 1/5] END max_depth=5, max_features=0.5, min_samples_leaf=10, min_samples_split=10, n_estimators=500; accuracy: (train=0.928, test=0.923) f1_weighted: (train=0.926, test=0.921) total time=  17.9s\n",
            "[CV 2/5] END max_depth=5, max_features=0.5, min_samples_leaf=10, min_samples_split=10, n_estimators=500; accuracy: (train=0.931, test=0.922) f1_weighted: (train=0.930, test=0.921) total time=  17.0s\n",
            "[CV 3/5] END max_depth=5, max_features=0.5, min_samples_leaf=10, min_samples_split=10, n_estimators=500; accuracy: (train=0.922, test=0.925) f1_weighted: (train=0.920, test=0.923) total time=  17.4s\n",
            "[CV 4/5] END max_depth=5, max_features=0.5, min_samples_leaf=10, min_samples_split=10, n_estimators=500; accuracy: (train=0.929, test=0.934) f1_weighted: (train=0.929, test=0.933) total time=  19.0s\n",
            "[CV 5/5] END max_depth=5, max_features=0.5, min_samples_leaf=10, min_samples_split=10, n_estimators=500; accuracy: (train=0.911, test=0.907) f1_weighted: (train=0.910, test=0.906) total time=  18.0s\n"
          ]
        },
        {
          "output_type": "stream",
          "name": "stderr",
          "text": [
            "[codecarbon WARNING @ 11:12:39] Background scheduler didn't run for a long period (1890s), results might be inaccurate\n",
            "[codecarbon INFO @ 11:12:39] Energy consumed for RAM : 0.002496 kWh. RAM Power : 4.753043174743652 W\n",
            "[codecarbon INFO @ 11:12:39] Energy consumed for all CPUs : 0.063014 kWh. Total CPU Power : 120.0 W\n",
            "[codecarbon INFO @ 11:12:39] 0.065510 kWh of electricity used since the beginning.\n"
          ]
        }
      ]
    },
    {
      "cell_type": "code",
      "source": [
        "# training results\n",
        "rf_train = rf_model.predict(X_new)\n",
        "print(f'Emissions: {rf_emissions} kg CO₂')\n",
        "\n",
        "# displays the best model produced in training as well as its' hyperparameters and f1 score\n",
        "print(f'Training Result:\\n Best Model: {rf_model.best_estimator_}\\n Best Parameters: {rf_model.best_params_}\\n F1 Score: {rf_model.best_score_}')\n",
        "\n",
        "# evaluate the models performance and display scores\n",
        "print(f'Random Forest (TRAINING):\\n accuracy: {accuracy(y_train_res, rf_train):f}\\n f1 score: {f1_score(y_train_res, rf_train, average=\"weighted\"):f}')"
      ],
      "metadata": {
        "id": "VXbnWb1zK2tu",
        "colab": {
          "base_uri": "https://localhost:8080/"
        },
        "outputId": "346a731d-4ddd-48dc-8bb4-50027f9be0bf"
      },
      "execution_count": 33,
      "outputs": [
        {
          "output_type": "stream",
          "name": "stdout",
          "text": [
            "Emissions: EmissionsData(timestamp='2024-05-01T11:12:39', project_name='detect_ddos_with_ml', run_id='e94b2bbc-35d4-4cdb-b920-96a42c51397b', duration=1890.4378867149353, emissions=0.022877917993910837, emissions_rate=1.2101937477091048e-05, cpu_power=120.0, gpu_power=0.0, ram_power=4.753043174743652, cpu_energy=0.0630143977244695, gpu_energy=0, ram_energy=0.0024959145582030594, energy_consumed=0.06551031228267255, country_name='United States', country_iso_code='USA', region='nevada', cloud_provider='', cloud_region='', os='Linux-6.1.58+-x86_64-with-glibc2.35', python_version='3.10.12', codecarbon_version='2.3.5', cpu_count=2, cpu_model='AMD EPYC 7B12', gpu_count=None, gpu_model=None, longitude=-115.1164, latitude=36.1685, ram_total_size=12.674781799316406, tracking_mode='machine', on_cloud='N', pue=1.0) kg CO₂\n",
            "Training Result:\n",
            " Best Model: RandomForestClassifier(class_weight='balanced', max_depth=5, max_features=0.5,\n",
            "                       min_samples_leaf=10, n_estimators=500, n_jobs=-1,\n",
            "                       random_state=42)\n",
            " Best Parameters: {'max_depth': 5, 'max_features': 0.5, 'min_samples_leaf': 10, 'min_samples_split': 2, 'n_estimators': 500}\n",
            " F1 Score: 0.9210217454844134\n",
            "Random Forest (TRAINING):\n",
            " accuracy: 0.918407\n",
            " f1 score: 0.918026\n"
          ]
        }
      ]
    },
    {
      "cell_type": "markdown",
      "source": [
        "### Test Random Forest"
      ],
      "metadata": {
        "id": "_xyy5kb4JxiZ"
      }
    },
    {
      "cell_type": "code",
      "source": [
        "# make predictions on test data\n",
        "rf_test = rf_model.predict(X_test[X_new.columns])\n",
        "\n",
        "# evaluate the models performance and display scores\n",
        "print(f'Random Forest (TESTING):\\n accuracy: {accuracy(y_test, rf_test):f}\\n f1 score: {f1_score(y_test, rf_test, average=\"weighted\"):f}')"
      ],
      "metadata": {
        "id": "vyU9kN8kJ1FU",
        "colab": {
          "base_uri": "https://localhost:8080/"
        },
        "outputId": "285e4512-f784-409b-fd5b-25e732c77e9f"
      },
      "execution_count": 35,
      "outputs": [
        {
          "output_type": "stream",
          "name": "stdout",
          "text": [
            "Random Forest (TESTING):\n",
            " accuracy: 0.819923\n",
            " f1 score: 0.841668\n"
          ]
        }
      ]
    },
    {
      "cell_type": "markdown",
      "source": [
        "### Export Model"
      ],
      "metadata": {
        "id": "lH21zCuVPyZM"
      }
    },
    {
      "cell_type": "code",
      "source": [
        "# uses joblib to serialise trained random forest model\n",
        "SaveToFile(save_data = rf_model, save_fpath = (save_dir + \"/random_forest.joblib\"), skip_prompt = True)"
      ],
      "metadata": {
        "id": "DdnGauFPP7TK",
        "colab": {
          "base_uri": "https://localhost:8080/"
        },
        "outputId": "8a0f8e4e-2de5-4e8b-a62d-c6949845bfcd"
      },
      "execution_count": 36,
      "outputs": [
        {
          "output_type": "stream",
          "name": "stdout",
          "text": [
            "SUCCESS: saved to '/content/drive/MyDrive/Colab Notebooks/COMP6002_Group10_Data/Exports_01-05-2024/random_forest.joblib'.\n"
          ]
        }
      ]
    },
    {
      "cell_type": "markdown",
      "source": [
        "## Neural Network\n",
        "Recommend running this section in a runtime with GPU enabled."
      ],
      "metadata": {
        "id": "O4bSSnwGQfiL"
      }
    },
    {
      "cell_type": "code",
      "source": [
        "# load in previously saved training data\n",
        "X_new = pd.read_csv((save_dir + '/x.csv'), dtype = np.float64)\n",
        "y_train_res = pd.read_csv((save_dir + '/y.csv'))"
      ],
      "metadata": {
        "id": "01a84nVZ5F0v"
      },
      "execution_count": 10,
      "outputs": []
    },
    {
      "cell_type": "markdown",
      "source": [
        "### NN Setup\n",
        "Import and install required libraries, sets some initial values."
      ],
      "metadata": {
        "id": "236PhyQolLI1"
      }
    },
    {
      "cell_type": "code",
      "source": [
        "# import PyTorch and confirm version\n",
        "import torch\n",
        "from torch import nn\n",
        "\n",
        "print(f\"Using PyTorch version: {torch.__version__}\")\n",
        "\n",
        "# check the availability of and set the device\n",
        "device = \"cuda\" if torch.cuda.is_available() else \"cpu\"\n",
        "print(f\"Using {device} device.\")\n",
        "\n",
        "torch.manual_seed(0)\n",
        "torch.cuda.manual_seed(0)"
      ],
      "metadata": {
        "id": "cHhG7NZ9lahV",
        "colab": {
          "base_uri": "https://localhost:8080/"
        },
        "outputId": "563fda6a-8b1d-4a58-d8b5-5d0aec75d942"
      },
      "execution_count": 14,
      "outputs": [
        {
          "output_type": "stream",
          "name": "stdout",
          "text": [
            "Using PyTorch version: 2.2.1+cu121\n",
            "Using cuda device.\n"
          ]
        }
      ]
    },
    {
      "cell_type": "code",
      "source": [
        "# install Skorch, providing a wrapper for using PyTorch with Sklearn\n",
        "!pip install skorch\n",
        "\n",
        "# import Skorch and confirm version\n",
        "from skorch import __version__ as skorch_version\n",
        "\n",
        "print(f\"Using Skorch version: {skorch_version}\")"
      ],
      "metadata": {
        "id": "GUSn5zCTQfGC",
        "colab": {
          "base_uri": "https://localhost:8080/"
        },
        "outputId": "bdeb7965-7baa-4681-afc4-2c8ad8569d79"
      },
      "execution_count": 15,
      "outputs": [
        {
          "output_type": "stream",
          "name": "stdout",
          "text": [
            "Collecting skorch\n",
            "  Downloading skorch-0.15.0-py3-none-any.whl (239 kB)\n",
            "\u001b[2K     \u001b[90m━━━━━━━━━━━━━━━━━━━━━━━━━━━━━━━━━━━━━━━━\u001b[0m \u001b[32m239.3/239.3 kB\u001b[0m \u001b[31m2.2 MB/s\u001b[0m eta \u001b[36m0:00:00\u001b[0m\n",
            "\u001b[?25hRequirement already satisfied: numpy>=1.13.3 in /usr/local/lib/python3.10/dist-packages (from skorch) (1.25.2)\n",
            "Requirement already satisfied: scikit-learn>=0.22.0 in /usr/local/lib/python3.10/dist-packages (from skorch) (1.2.2)\n",
            "Requirement already satisfied: scipy>=1.1.0 in /usr/local/lib/python3.10/dist-packages (from skorch) (1.11.4)\n",
            "Requirement already satisfied: tabulate>=0.7.7 in /usr/local/lib/python3.10/dist-packages (from skorch) (0.9.0)\n",
            "Requirement already satisfied: tqdm>=4.14.0 in /usr/local/lib/python3.10/dist-packages (from skorch) (4.66.2)\n",
            "Requirement already satisfied: joblib>=1.1.1 in /usr/local/lib/python3.10/dist-packages (from scikit-learn>=0.22.0->skorch) (1.4.0)\n",
            "Requirement already satisfied: threadpoolctl>=2.0.0 in /usr/local/lib/python3.10/dist-packages (from scikit-learn>=0.22.0->skorch) (3.4.0)\n",
            "Installing collected packages: skorch\n",
            "Successfully installed skorch-0.15.0\n",
            "Using Skorch version: 0.15.0\n"
          ]
        }
      ]
    },
    {
      "cell_type": "markdown",
      "source": [
        "### Define Neural Network\n",
        "Currently using a Multilayer Perceptron (MLP), consider swapping to a hybrid model of a MLP and Convolutional Neural Network (CNN) later."
      ],
      "metadata": {
        "id": "AsNxj_cEDydF"
      }
    },
    {
      "cell_type": "code",
      "source": [
        "class NN_MLP(nn.Module):\n",
        "  \"\"\"Class that defines a multilayer perceptron model.\"\"\"\n",
        "  def __init__(self, input_size, hidden_size, output_size):\n",
        "    \"\"\"\n",
        "    Construct a new NN_MLP object.\n",
        "\n",
        "    Parameters:\n",
        "      input_size (int): number of neurons in the input layer, should be equal to the number of features in the data.\n",
        "      hidden_size (int): number of neurons in each hidden layer.\n",
        "      output_size (int): number of neurons in the output layer, should be equal to the number of possible classes.\n",
        "    Returns:\n",
        "      : no value returned.\n",
        "    \"\"\"\n",
        "    super(NN_MLP, self).__init__()\n",
        "    # layers\n",
        "    self.h1 = nn.Linear(input_size, hidden_size)\n",
        "    self.h2 = nn.Linear(hidden_size, hidden_size)\n",
        "    self.output = nn.Linear(hidden_size, output_size)\n",
        "    # activation functions\n",
        "    self.relu = nn.ReLU()\n",
        "    self.softmax = nn.Softmax(dim = 1)\n",
        "\n",
        "  def forward(self, X):\n",
        "    \"\"\"\n",
        "    Parameters:\n",
        "      X (Any): features to make prediction on.\n",
        "    Returns:\n",
        "      Any: predicted value.\n",
        "    \"\"\"\n",
        "    out = self.h1(X)\n",
        "    out = self.relu(out)\n",
        "    out = self.h2(out)\n",
        "    out = self.relu(out)\n",
        "    out = self.output(out)\n",
        "    out = self.softmax(out)\n",
        "\n",
        "    return out"
      ],
      "metadata": {
        "id": "OFTGLP7jknbq"
      },
      "execution_count": 30,
      "outputs": []
    },
    {
      "cell_type": "markdown",
      "source": [
        "### Define Parameters and Instantiate"
      ],
      "metadata": {
        "id": "RdrNQssiucoN"
      }
    },
    {
      "cell_type": "code",
      "source": [
        "from skorch import NeuralNetClassifier\n",
        "from skorch.callbacks import EarlyStopping\n",
        "\n",
        "#optimizer = \"\"\n",
        "input_neurons = X_new.shape[1]\n",
        "output_neurons = y_train_res.iloc[:, 0].unique().size\n",
        "\n",
        "# formulas for determining hidden layer sizes\n",
        "hidden_1 = ((input_neurons * (2/3)) + output_neurons)\n",
        "hidden_2 = X_new.shape[0] // (2 * (input_neurons + output_neurons))\n",
        "\n",
        "# early stop callback\n",
        "early_stop = EarlyStopping(\n",
        "    monitor = 'f1_weighted',\n",
        "    lower_is_better = False,\n",
        "    patience = 5,\n",
        "    load_best = True\n",
        ")\n",
        "\n",
        "# instantiate neural network\n",
        "nn_estimator = NeuralNetClassifier(\n",
        "    module = NN_MLP,\n",
        "    module__input_size = input_neurons,\n",
        "    module__output_size = output_neurons,\n",
        "    lr = 0.01,\n",
        "    max_epochs = 20,\n",
        "    train_split = None,\n",
        "    callbacks = [early_stop],\n",
        "    verbose = 0,\n",
        "    device = device\n",
        ")\n",
        "\n",
        "# parameters for grid search\n",
        "nn_params = {\n",
        "    'lr' : [0.01, 3e-3],\n",
        "    'module__hidden_size' : [hidden_1, hidden_2]\n",
        "}\n",
        "\n",
        "nn_model = GridSearchCV(\n",
        "    estimator = nn_estimator,\n",
        "    param_grid = nn_params,\n",
        "    scoring = [\"accuracy\", \"f1_weighted\"],\n",
        "    refit = \"f1_weighted\",\n",
        "    cv = 5,\n",
        "    verbose = 3,\n",
        "    return_train_score = True,\n",
        "    n_jobs = 1\n",
        ")"
      ],
      "metadata": {
        "id": "986tIgh_VvL6"
      },
      "execution_count": 31,
      "outputs": []
    },
    {
      "cell_type": "markdown",
      "source": [
        "### Train Neural Network"
      ],
      "metadata": {
        "id": "xrVTPEvYuFKn"
      }
    },
    {
      "cell_type": "code",
      "source": [
        "tracker.start_task(\"train nn\")\n",
        "\n",
        "try:\n",
        "  # train the neural network\n",
        "  nn_model.fit(X_new, y_train_res)\n",
        "finally:\n",
        "  nn_emissions = tracker.stop_task(\"train nn\")"
      ],
      "metadata": {
        "id": "bJzW9VXvhakV",
        "colab": {
          "base_uri": "https://localhost:8080/",
          "height": 1000
        },
        "outputId": "ae24014e-3f9c-4023-f0cc-7ff203da8cd6"
      },
      "execution_count": 32,
      "outputs": [
        {
          "output_type": "stream",
          "name": "stdout",
          "text": [
            "Fitting 5 folds for each of 4 candidates, totalling 20 fits\n",
            "[CV 1/5] END lr=0.01, module__hidden_size=33.0; accuracy: (train=nan, test=nan) f1_weighted: (train=nan, test=nan) total time=   0.0s\n",
            "[CV 2/5] END lr=0.01, module__hidden_size=33.0; accuracy: (train=nan, test=nan) f1_weighted: (train=nan, test=nan) total time=   0.0s\n",
            "[CV 3/5] END lr=0.01, module__hidden_size=33.0; accuracy: (train=nan, test=nan) f1_weighted: (train=nan, test=nan) total time=   0.0s\n",
            "[CV 4/5] END lr=0.01, module__hidden_size=33.0; accuracy: (train=nan, test=nan) f1_weighted: (train=nan, test=nan) total time=   0.0s\n",
            "[CV 5/5] END lr=0.01, module__hidden_size=33.0; accuracy: (train=nan, test=nan) f1_weighted: (train=nan, test=nan) total time=   0.0s\n",
            "[CV 1/5] END lr=0.01, module__hidden_size=371; accuracy: (train=nan, test=nan) f1_weighted: (train=nan, test=nan) total time=   2.5s\n",
            "[CV 2/5] END lr=0.01, module__hidden_size=371; accuracy: (train=nan, test=nan) f1_weighted: (train=nan, test=nan) total time=   0.0s\n",
            "[CV 3/5] END lr=0.01, module__hidden_size=371; accuracy: (train=nan, test=nan) f1_weighted: (train=nan, test=nan) total time=   0.0s\n",
            "[CV 4/5] END lr=0.01, module__hidden_size=371; accuracy: (train=nan, test=nan) f1_weighted: (train=nan, test=nan) total time=   0.0s\n",
            "[CV 5/5] END lr=0.01, module__hidden_size=371; accuracy: (train=nan, test=nan) f1_weighted: (train=nan, test=nan) total time=   0.0s\n",
            "[CV 1/5] END lr=0.003, module__hidden_size=33.0; accuracy: (train=nan, test=nan) f1_weighted: (train=nan, test=nan) total time=   0.0s\n",
            "[CV 2/5] END lr=0.003, module__hidden_size=33.0; accuracy: (train=nan, test=nan) f1_weighted: (train=nan, test=nan) total time=   0.0s\n",
            "[CV 3/5] END lr=0.003, module__hidden_size=33.0; accuracy: (train=nan, test=nan) f1_weighted: (train=nan, test=nan) total time=   0.0s\n",
            "[CV 4/5] END lr=0.003, module__hidden_size=33.0; accuracy: (train=nan, test=nan) f1_weighted: (train=nan, test=nan) total time=   0.0s\n",
            "[CV 5/5] END lr=0.003, module__hidden_size=33.0; accuracy: (train=nan, test=nan) f1_weighted: (train=nan, test=nan) total time=   0.0s\n"
          ]
        },
        {
          "output_type": "stream",
          "name": "stderr",
          "text": [
            "[codecarbon INFO @ 12:29:03] Energy consumed for RAM : 0.000004 kWh. RAM Power : 4.753043174743652 W\n",
            "[codecarbon INFO @ 12:29:03] Energy consumed for all GPUs : 0.000020 kWh. Total GPU Power : 24.625782632333603 W\n",
            "[codecarbon INFO @ 12:29:03] Energy consumed for all CPUs : 0.000037 kWh. Total CPU Power : 42.5 W\n",
            "[codecarbon INFO @ 12:29:03] 0.000061 kWh of electricity used since the beginning.\n"
          ]
        },
        {
          "output_type": "stream",
          "name": "stdout",
          "text": [
            "[CV 1/5] END lr=0.003, module__hidden_size=371; accuracy: (train=nan, test=nan) f1_weighted: (train=nan, test=nan) total time=   0.0s\n",
            "[CV 2/5] END lr=0.003, module__hidden_size=371; accuracy: (train=nan, test=nan) f1_weighted: (train=nan, test=nan) total time=   0.0s\n",
            "[CV 3/5] END lr=0.003, module__hidden_size=371; accuracy: (train=nan, test=nan) f1_weighted: (train=nan, test=nan) total time=   0.0s\n",
            "[CV 4/5] END lr=0.003, module__hidden_size=371; accuracy: (train=nan, test=nan) f1_weighted: (train=nan, test=nan) total time=   0.0s\n",
            "[CV 5/5] END lr=0.003, module__hidden_size=371; accuracy: (train=nan, test=nan) f1_weighted: (train=nan, test=nan) total time=   0.0s\n"
          ]
        },
        {
          "output_type": "error",
          "ename": "ValueError",
          "evalue": "\nAll the 20 fits failed.\nIt is very likely that your model is misconfigured.\nYou can try to debug the error by setting error_score='raise'.\n\nBelow are more details about the failures:\n--------------------------------------------------------------------------------\n10 fits failed with the following error:\nTraceback (most recent call last):\n  File \"/usr/local/lib/python3.10/dist-packages/sklearn/model_selection/_validation.py\", line 686, in _fit_and_score\n    estimator.fit(X_train, y_train, **fit_params)\n  File \"/usr/local/lib/python3.10/dist-packages/skorch/classifier.py\", line 165, in fit\n    return super(NeuralNetClassifier, self).fit(X, y, **fit_params)\n  File \"/usr/local/lib/python3.10/dist-packages/skorch/net.py\", line 1317, in fit\n    self.initialize()\n  File \"/usr/local/lib/python3.10/dist-packages/skorch/net.py\", line 903, in initialize\n    self._initialize_module()\n  File \"/usr/local/lib/python3.10/dist-packages/skorch/net.py\", line 747, in _initialize_module\n    self.initialize_module()\n  File \"/usr/local/lib/python3.10/dist-packages/skorch/net.py\", line 594, in initialize_module\n    module = self.initialized_instance(self.module, kwargs)\n  File \"/usr/local/lib/python3.10/dist-packages/skorch/net.py\", line 571, in initialized_instance\n    return instance_or_cls(**kwargs)\n  File \"<ipython-input-30-ffe3faf15a2c>\", line 16, in __init__\n    self.h1 = nn.Linear(input_size, hidden_size)\n  File \"/usr/local/lib/python3.10/dist-packages/torch/nn/modules/linear.py\", line 98, in __init__\n    self.weight = Parameter(torch.empty((out_features, in_features), **factory_kwargs))\nTypeError: empty() received an invalid combination of arguments - got (tuple, dtype=NoneType, device=NoneType), but expected one of:\n * (tuple of ints size, *, tuple of names names, torch.memory_format memory_format, torch.dtype dtype, torch.layout layout, torch.device device, bool pin_memory, bool requires_grad)\n * (tuple of ints size, *, torch.memory_format memory_format, Tensor out, torch.dtype dtype, torch.layout layout, torch.device device, bool pin_memory, bool requires_grad)\n\n\n--------------------------------------------------------------------------------\n10 fits failed with the following error:\nTraceback (most recent call last):\n  File \"/usr/local/lib/python3.10/dist-packages/sklearn/model_selection/_validation.py\", line 686, in _fit_and_score\n    estimator.fit(X_train, y_train, **fit_params)\n  File \"/usr/local/lib/python3.10/dist-packages/skorch/classifier.py\", line 165, in fit\n    return super(NeuralNetClassifier, self).fit(X, y, **fit_params)\n  File \"/usr/local/lib/python3.10/dist-packages/skorch/net.py\", line 1319, in fit\n    self.partial_fit(X, y, **fit_params)\n  File \"/usr/local/lib/python3.10/dist-packages/skorch/net.py\", line 1278, in partial_fit\n    self.fit_loop(X, y, **fit_params)\n  File \"/usr/local/lib/python3.10/dist-packages/skorch/net.py\", line 1190, in fit_loop\n    self.run_single_epoch(iterator_train, training=True, prefix=\"train\",\n  File \"/usr/local/lib/python3.10/dist-packages/skorch/net.py\", line 1224, in run_single_epoch\n    for batch in iterator:\n  File \"/usr/local/lib/python3.10/dist-packages/torch/utils/data/dataloader.py\", line 631, in __next__\n    data = self._next_data()\n  File \"/usr/local/lib/python3.10/dist-packages/torch/utils/data/dataloader.py\", line 675, in _next_data\n    data = self._dataset_fetcher.fetch(index)  # may raise StopIteration\n  File \"/usr/local/lib/python3.10/dist-packages/torch/utils/data/_utils/fetch.py\", line 54, in fetch\n    return self.collate_fn(data)\n  File \"/usr/local/lib/python3.10/dist-packages/torch/utils/data/_utils/collate.py\", line 277, in default_collate\n    return collate(batch, collate_fn_map=default_collate_fn_map)\n  File \"/usr/local/lib/python3.10/dist-packages/torch/utils/data/_utils/collate.py\", line 144, in collate\n    return [collate(samples, collate_fn_map=collate_fn_map) for samples in transposed]  # Backwards compatibility.\n  File \"/usr/local/lib/python3.10/dist-packages/torch/utils/data/_utils/collate.py\", line 144, in <listcomp>\n    return [collate(samples, collate_fn_map=collate_fn_map) for samples in transposed]  # Backwards compatibility.\n  File \"/usr/local/lib/python3.10/dist-packages/torch/utils/data/_utils/collate.py\", line 152, in collate\n    raise TypeError(default_collate_err_msg_format.format(elem_type))\nTypeError: default_collate: batch must contain tensors, numpy arrays, numbers, dicts or lists; found <class 'pandas.core.series.Series'>\n",
          "traceback": [
            "\u001b[0;31m---------------------------------------------------------------------------\u001b[0m",
            "\u001b[0;31mValueError\u001b[0m                                Traceback (most recent call last)",
            "\u001b[0;32m<ipython-input-32-fb7cd41fe8c9>\u001b[0m in \u001b[0;36m<cell line: 3>\u001b[0;34m()\u001b[0m\n\u001b[1;32m      3\u001b[0m \u001b[0;32mtry\u001b[0m\u001b[0;34m:\u001b[0m\u001b[0;34m\u001b[0m\u001b[0;34m\u001b[0m\u001b[0m\n\u001b[1;32m      4\u001b[0m   \u001b[0;31m# train the neural network\u001b[0m\u001b[0;34m\u001b[0m\u001b[0;34m\u001b[0m\u001b[0m\n\u001b[0;32m----> 5\u001b[0;31m   \u001b[0mnn_model\u001b[0m\u001b[0;34m.\u001b[0m\u001b[0mfit\u001b[0m\u001b[0;34m(\u001b[0m\u001b[0mX_new\u001b[0m\u001b[0;34m,\u001b[0m \u001b[0my_train_res\u001b[0m\u001b[0;34m)\u001b[0m\u001b[0;34m\u001b[0m\u001b[0;34m\u001b[0m\u001b[0m\n\u001b[0m\u001b[1;32m      6\u001b[0m \u001b[0;32mfinally\u001b[0m\u001b[0;34m:\u001b[0m\u001b[0;34m\u001b[0m\u001b[0;34m\u001b[0m\u001b[0m\n\u001b[1;32m      7\u001b[0m   \u001b[0mnn_emissions\u001b[0m \u001b[0;34m=\u001b[0m \u001b[0mtracker\u001b[0m\u001b[0;34m.\u001b[0m\u001b[0mstop_task\u001b[0m\u001b[0;34m(\u001b[0m\u001b[0;34m\"train nn\"\u001b[0m\u001b[0;34m)\u001b[0m\u001b[0;34m\u001b[0m\u001b[0;34m\u001b[0m\u001b[0m\n",
            "\u001b[0;32m/usr/local/lib/python3.10/dist-packages/sklearn/model_selection/_search.py\u001b[0m in \u001b[0;36mfit\u001b[0;34m(self, X, y, groups, **fit_params)\u001b[0m\n\u001b[1;32m    872\u001b[0m                 \u001b[0;32mreturn\u001b[0m \u001b[0mresults\u001b[0m\u001b[0;34m\u001b[0m\u001b[0;34m\u001b[0m\u001b[0m\n\u001b[1;32m    873\u001b[0m \u001b[0;34m\u001b[0m\u001b[0m\n\u001b[0;32m--> 874\u001b[0;31m             \u001b[0mself\u001b[0m\u001b[0;34m.\u001b[0m\u001b[0m_run_search\u001b[0m\u001b[0;34m(\u001b[0m\u001b[0mevaluate_candidates\u001b[0m\u001b[0;34m)\u001b[0m\u001b[0;34m\u001b[0m\u001b[0;34m\u001b[0m\u001b[0m\n\u001b[0m\u001b[1;32m    875\u001b[0m \u001b[0;34m\u001b[0m\u001b[0m\n\u001b[1;32m    876\u001b[0m             \u001b[0;31m# multimetric is determined here because in the case of a callable\u001b[0m\u001b[0;34m\u001b[0m\u001b[0;34m\u001b[0m\u001b[0m\n",
            "\u001b[0;32m/usr/local/lib/python3.10/dist-packages/sklearn/model_selection/_search.py\u001b[0m in \u001b[0;36m_run_search\u001b[0;34m(self, evaluate_candidates)\u001b[0m\n\u001b[1;32m   1386\u001b[0m     \u001b[0;32mdef\u001b[0m \u001b[0m_run_search\u001b[0m\u001b[0;34m(\u001b[0m\u001b[0mself\u001b[0m\u001b[0;34m,\u001b[0m \u001b[0mevaluate_candidates\u001b[0m\u001b[0;34m)\u001b[0m\u001b[0;34m:\u001b[0m\u001b[0;34m\u001b[0m\u001b[0;34m\u001b[0m\u001b[0m\n\u001b[1;32m   1387\u001b[0m         \u001b[0;34m\"\"\"Search all candidates in param_grid\"\"\"\u001b[0m\u001b[0;34m\u001b[0m\u001b[0;34m\u001b[0m\u001b[0m\n\u001b[0;32m-> 1388\u001b[0;31m         \u001b[0mevaluate_candidates\u001b[0m\u001b[0;34m(\u001b[0m\u001b[0mParameterGrid\u001b[0m\u001b[0;34m(\u001b[0m\u001b[0mself\u001b[0m\u001b[0;34m.\u001b[0m\u001b[0mparam_grid\u001b[0m\u001b[0;34m)\u001b[0m\u001b[0;34m)\u001b[0m\u001b[0;34m\u001b[0m\u001b[0;34m\u001b[0m\u001b[0m\n\u001b[0m\u001b[1;32m   1389\u001b[0m \u001b[0;34m\u001b[0m\u001b[0m\n\u001b[1;32m   1390\u001b[0m \u001b[0;34m\u001b[0m\u001b[0m\n",
            "\u001b[0;32m/usr/local/lib/python3.10/dist-packages/sklearn/model_selection/_search.py\u001b[0m in \u001b[0;36mevaluate_candidates\u001b[0;34m(candidate_params, cv, more_results)\u001b[0m\n\u001b[1;32m    849\u001b[0m                     )\n\u001b[1;32m    850\u001b[0m \u001b[0;34m\u001b[0m\u001b[0m\n\u001b[0;32m--> 851\u001b[0;31m                 \u001b[0m_warn_or_raise_about_fit_failures\u001b[0m\u001b[0;34m(\u001b[0m\u001b[0mout\u001b[0m\u001b[0;34m,\u001b[0m \u001b[0mself\u001b[0m\u001b[0;34m.\u001b[0m\u001b[0merror_score\u001b[0m\u001b[0;34m)\u001b[0m\u001b[0;34m\u001b[0m\u001b[0;34m\u001b[0m\u001b[0m\n\u001b[0m\u001b[1;32m    852\u001b[0m \u001b[0;34m\u001b[0m\u001b[0m\n\u001b[1;32m    853\u001b[0m                 \u001b[0;31m# For callable self.scoring, the return type is only know after\u001b[0m\u001b[0;34m\u001b[0m\u001b[0;34m\u001b[0m\u001b[0m\n",
            "\u001b[0;32m/usr/local/lib/python3.10/dist-packages/sklearn/model_selection/_validation.py\u001b[0m in \u001b[0;36m_warn_or_raise_about_fit_failures\u001b[0;34m(results, error_score)\u001b[0m\n\u001b[1;32m    365\u001b[0m                 \u001b[0;34mf\"Below are more details about the failures:\\n{fit_errors_summary}\"\u001b[0m\u001b[0;34m\u001b[0m\u001b[0;34m\u001b[0m\u001b[0m\n\u001b[1;32m    366\u001b[0m             )\n\u001b[0;32m--> 367\u001b[0;31m             \u001b[0;32mraise\u001b[0m \u001b[0mValueError\u001b[0m\u001b[0;34m(\u001b[0m\u001b[0mall_fits_failed_message\u001b[0m\u001b[0;34m)\u001b[0m\u001b[0;34m\u001b[0m\u001b[0;34m\u001b[0m\u001b[0m\n\u001b[0m\u001b[1;32m    368\u001b[0m \u001b[0;34m\u001b[0m\u001b[0m\n\u001b[1;32m    369\u001b[0m         \u001b[0;32melse\u001b[0m\u001b[0;34m:\u001b[0m\u001b[0;34m\u001b[0m\u001b[0;34m\u001b[0m\u001b[0m\n",
            "\u001b[0;31mValueError\u001b[0m: \nAll the 20 fits failed.\nIt is very likely that your model is misconfigured.\nYou can try to debug the error by setting error_score='raise'.\n\nBelow are more details about the failures:\n--------------------------------------------------------------------------------\n10 fits failed with the following error:\nTraceback (most recent call last):\n  File \"/usr/local/lib/python3.10/dist-packages/sklearn/model_selection/_validation.py\", line 686, in _fit_and_score\n    estimator.fit(X_train, y_train, **fit_params)\n  File \"/usr/local/lib/python3.10/dist-packages/skorch/classifier.py\", line 165, in fit\n    return super(NeuralNetClassifier, self).fit(X, y, **fit_params)\n  File \"/usr/local/lib/python3.10/dist-packages/skorch/net.py\", line 1317, in fit\n    self.initialize()\n  File \"/usr/local/lib/python3.10/dist-packages/skorch/net.py\", line 903, in initialize\n    self._initialize_module()\n  File \"/usr/local/lib/python3.10/dist-packages/skorch/net.py\", line 747, in _initialize_module\n    self.initialize_module()\n  File \"/usr/local/lib/python3.10/dist-packages/skorch/net.py\", line 594, in initialize_module\n    module = self.initialized_instance(self.module, kwargs)\n  File \"/usr/local/lib/python3.10/dist-packages/skorch/net.py\", line 571, in initialized_instance\n    return instance_or_cls(**kwargs)\n  File \"<ipython-input-30-ffe3faf15a2c>\", line 16, in __init__\n    self.h1 = nn.Linear(input_size, hidden_size)\n  File \"/usr/local/lib/python3.10/dist-packages/torch/nn/modules/linear.py\", line 98, in __init__\n    self.weight = Parameter(torch.empty((out_features, in_features), **factory_kwargs))\nTypeError: empty() received an invalid combination of arguments - got (tuple, dtype=NoneType, device=NoneType), but expected one of:\n * (tuple of ints size, *, tuple of names names, torch.memory_format memory_format, torch.dtype dtype, torch.layout layout, torch.device device, bool pin_memory, bool requires_grad)\n * (tuple of ints size, *, torch.memory_format memory_format, Tensor out, torch.dtype dtype, torch.layout layout, torch.device device, bool pin_memory, bool requires_grad)\n\n\n--------------------------------------------------------------------------------\n10 fits failed with the following error:\nTraceback (most recent call last):\n  File \"/usr/local/lib/python3.10/dist-packages/sklearn/model_selection/_validation.py\", line 686, in _fit_and_score\n    estimator.fit(X_train, y_train, **fit_params)\n  File \"/usr/local/lib/python3.10/dist-packages/skorch/classifier.py\", line 165, in fit\n    return super(NeuralNetClassifier, self).fit(X, y, **fit_params)\n  File \"/usr/local/lib/python3.10/dist-packages/skorch/net.py\", line 1319, in fit\n    self.partial_fit(X, y, **fit_params)\n  File \"/usr/local/lib/python3.10/dist-packages/skorch/net.py\", line 1278, in partial_fit\n    self.fit_loop(X, y, **fit_params)\n  File \"/usr/local/lib/python3.10/dist-packages/skorch/net.py\", line 1190, in fit_loop\n    self.run_single_epoch(iterator_train, training=True, prefix=\"train\",\n  File \"/usr/local/lib/python3.10/dist-packages/skorch/net.py\", line 1224, in run_single_epoch\n    for batch in iterator:\n  File \"/usr/local/lib/python3.10/dist-packages/torch/utils/data/dataloader.py\", line 631, in __next__\n    data = self._next_data()\n  File \"/usr/local/lib/python3.10/dist-packages/torch/utils/data/dataloader.py\", line 675, in _next_data\n    data = self._dataset_fetcher.fetch(index)  # may raise StopIteration\n  File \"/usr/local/lib/python3.10/dist-packages/torch/utils/data/_utils/fetch.py\", line 54, in fetch\n    return self.collate_fn(data)\n  File \"/usr/local/lib/python3.10/dist-packages/torch/utils/data/_utils/collate.py\", line 277, in default_collate\n    return collate(batch, collate_fn_map=default_collate_fn_map)\n  File \"/usr/local/lib/python3.10/dist-packages/torch/utils/data/_utils/collate.py\", line 144, in collate\n    return [collate(samples, collate_fn_map=collate_fn_map) for samples in transposed]  # Backwards compatibility.\n  File \"/usr/local/lib/python3.10/dist-packages/torch/utils/data/_utils/collate.py\", line 144, in <listcomp>\n    return [collate(samples, collate_fn_map=collate_fn_map) for samples in transposed]  # Backwards compatibility.\n  File \"/usr/local/lib/python3.10/dist-packages/torch/utils/data/_utils/collate.py\", line 152, in collate\n    raise TypeError(default_collate_err_msg_format.format(elem_type))\nTypeError: default_collate: batch must contain tensors, numpy arrays, numbers, dicts or lists; found <class 'pandas.core.series.Series'>\n"
          ]
        }
      ]
    },
    {
      "cell_type": "code",
      "source": [
        "print(f'Emissions: {nn_emissions} kg CO₂')"
      ],
      "metadata": {
        "id": "OP703wiWi_eg"
      },
      "execution_count": null,
      "outputs": []
    },
    {
      "cell_type": "markdown",
      "source": [
        "### Export Neural Network"
      ],
      "metadata": {
        "id": "HMdp3T_XuSk4"
      }
    },
    {
      "cell_type": "code",
      "source": [
        "SaveNN(nn_save = nn_model, nn_fpath = (save_dir + '/neural_network.pkl'), skip_prompt = True)"
      ],
      "metadata": {
        "id": "RrAeeGGGttLJ"
      },
      "execution_count": null,
      "outputs": []
    }
  ]
}